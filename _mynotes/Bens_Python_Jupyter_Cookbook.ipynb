{
 "cells": [
  {
   "cell_type": "markdown",
   "metadata": {},
   "source": [
    "**My Python Jupyter cookbook**\n",
    "\n",
    "For stuff that I forget."
   ]
  },
  {
   "cell_type": "markdown",
   "metadata": {},
   "source": [
    "# Python and Jupyter setup"
   ]
  },
  {
   "cell_type": "markdown",
   "metadata": {},
   "source": [
    "## Finding version"
   ]
  },
  {
   "cell_type": "code",
   "execution_count": 10,
   "metadata": {},
   "outputs": [
    {
     "data": {
      "text/plain": [
       "'0.20.1'"
      ]
     },
     "execution_count": 10,
     "metadata": {},
     "output_type": "execute_result"
    }
   ],
   "source": [
    "import pandas as pd\n",
    "pd.__version__"
   ]
  },
  {
   "cell_type": "markdown",
   "metadata": {},
   "source": [
    "## Getting help on a function"
   ]
  },
  {
   "cell_type": "code",
   "execution_count": 13,
   "metadata": {
    "collapsed": true
   },
   "outputs": [],
   "source": [
    "# Example\n",
    "pd.DataFrame.sort_values?"
   ]
  },
  {
   "cell_type": "markdown",
   "metadata": {},
   "source": [
    "## Choosing the directory"
   ]
  },
  {
   "cell_type": "code",
   "execution_count": 8,
   "metadata": {},
   "outputs": [
    {
     "name": "stdout",
     "output_type": "stream",
     "text": [
      "C:\\Users\\Benjamin.Lacar\\Documents\\Box\\Box Sync\\BL (Benjamin.Lacar@fluidigm.com)\\Python\\Coursera_dataScience\\ZillowHomeValues\n"
     ]
    }
   ],
   "source": [
    "import os\n",
    "\n",
    "path = 'C:\\\\Users\\\\Benjamin.Lacar\\\\Documents\\\\Box\\\\Box Sync\\\\BL (Benjamin.Lacar@fluidigm.com)\\\\Python\\\\Coursera_dataScience\\\\ZillowHomeValues'\n",
    "os.chdir(path) \n",
    "cwd = os.getcwd()\n",
    "print(cwd)"
   ]
  },
  {
   "cell_type": "markdown",
   "metadata": {},
   "source": [
    "## Seeing and revealing variables"
   ]
  },
  {
   "cell_type": "code",
   "execution_count": 24,
   "metadata": {
    "scrolled": false
   },
   "outputs": [
    {
     "name": "stdout",
     "output_type": "stream",
     "text": [
      "NamespaceMagics\t cwd\t df\t df2\t df3\t get_ipython\t getsizeof\t json\t os\t \n",
      "path\t pd\t var_dic_list\t xSSF\t \n"
     ]
    }
   ],
   "source": [
    "# Check for variables\n",
    "%who"
   ]
  },
  {
   "cell_type": "code",
   "execution_count": null,
   "metadata": {
    "collapsed": true
   },
   "outputs": [],
   "source": [
    "# Deleting variables\n",
    "\n",
    "# You can delete individual names with del:\n",
    "del x\n",
    "\n",
    "# Or you can remove them from the globals() object:\n",
    "for name in dir():\n",
    "    if not name.startswith('_'):\n",
    "        del globals()[name]"
   ]
  },
  {
   "cell_type": "markdown",
   "metadata": {},
   "source": [
    "## Difference between matplotlib.inline vs. matplotlib.notebook"
   ]
  },
  {
   "cell_type": "code",
   "execution_count": 3,
   "metadata": {
    "collapsed": true
   },
   "outputs": [],
   "source": [
    "% matplotlib inline\n",
    "% matplotlib notebook\n",
    "# the former is the older version creates new plotes, the latter is interactive"
   ]
  },
  {
   "cell_type": "markdown",
   "metadata": {},
   "source": [
    "## Stopping a busy kernel\n",
    "\n",
    "[StackOverflow entry: 'How should I stop a busy cell in an iPython notebook?'](https://stackoverflow.com/questions/36205356/how-should-i-stop-a-busy-cell-in-an-ipython-notebook)\n",
    "\n",
    "\"Click on 'Interrupt' under 'Kernel' in the toolbar. Pressing I twice will also do the trick.\""
   ]
  },
  {
   "cell_type": "markdown",
   "metadata": {},
   "source": [
    "## Measuring time of execution with iPython magic\n",
    "\n",
    "- There's a distinction between running in line mode versus cell mode (%time vs. %%time). For the latter to run, it has to be the very first line of the cell."
   ]
  },
  {
   "cell_type": "code",
   "execution_count": 47,
   "metadata": {},
   "outputs": [
    {
     "name": "stdout",
     "output_type": "stream",
     "text": [
      "Wall time: 0 ns\n"
     ]
    }
   ],
   "source": [
    "%%time\n",
    "x = 5\n",
    "y = 6\n",
    "x + y"
   ]
  },
  {
   "cell_type": "markdown",
   "metadata": {},
   "source": [
    "# Pandas dataframe navigation and munging"
   ]
  },
  {
   "cell_type": "markdown",
   "metadata": {},
   "source": [
    "## Data frame indexing and navigation"
   ]
  },
  {
   "cell_type": "code",
   "execution_count": 42,
   "metadata": {},
   "outputs": [
    {
     "name": "stdout",
     "output_type": "stream",
     "text": [
      "Wall time: 0 ns\n"
     ]
    }
   ],
   "source": [
    "%time \n",
    "# Creating a datframe from scratch\n",
    "staff_df = pd.DataFrame([{'Name': 'Kelly', 'Role': 'Director of HR'},\n",
    "                         {'Name': 'Sally', 'Role': 'Course liasion'},\n",
    "                         {'Name': 'James', 'Role': 'Grader'}])\n",
    "staff_df = staff_df.set_index('Name')\n",
    "student_df = pd.DataFrame([{'Name': 'James', 'School': 'Business'},\n",
    "                           {'Name': 'Mike', 'School': 'Law'},\n",
    "                           {'Name': 'Sally', 'School': 'Engineering'}])\n",
    "student_df = student_df.set_index('Name')"
   ]
  },
  {
   "cell_type": "code",
   "execution_count": 11,
   "metadata": {
    "collapsed": true,
    "scrolled": false
   },
   "outputs": [],
   "source": [
    "# Reading a csv file into a dataframe (can also be pd.read_excel() or pd.read_table() as appropriate )\n",
    "df = pd.read_csv('City_Zhvi_AllHomes.csv')"
   ]
  },
  {
   "cell_type": "code",
   "execution_count": 15,
   "metadata": {
    "collapsed": true
   },
   "outputs": [
    {
     "data": {
      "text/html": [
       "<div>\n",
       "<style>\n",
       "    .dataframe thead tr:only-child th {\n",
       "        text-align: right;\n",
       "    }\n",
       "\n",
       "    .dataframe thead th {\n",
       "        text-align: left;\n",
       "    }\n",
       "\n",
       "    .dataframe tbody tr th {\n",
       "        vertical-align: top;\n",
       "    }\n",
       "</style>\n",
       "<table border=\"1\" class=\"dataframe\">\n",
       "  <thead>\n",
       "    <tr style=\"text-align: right;\">\n",
       "      <th></th>\n",
       "      <th>RegionID</th>\n",
       "      <th>RegionName</th>\n",
       "      <th>State</th>\n",
       "      <th>Metro</th>\n",
       "      <th>CountyName</th>\n",
       "      <th>SizeRank</th>\n",
       "      <th>1996-04</th>\n",
       "      <th>1996-05</th>\n",
       "      <th>1996-06</th>\n",
       "      <th>1996-07</th>\n",
       "      <th>...</th>\n",
       "      <th>2016-10</th>\n",
       "      <th>2016-11</th>\n",
       "      <th>2016-12</th>\n",
       "      <th>2017-01</th>\n",
       "      <th>2017-02</th>\n",
       "      <th>2017-03</th>\n",
       "      <th>2017-04</th>\n",
       "      <th>2017-05</th>\n",
       "      <th>2017-06</th>\n",
       "      <th>2017-07</th>\n",
       "    </tr>\n",
       "  </thead>\n",
       "  <tbody>\n",
       "    <tr>\n",
       "      <th>0</th>\n",
       "      <td>6181</td>\n",
       "      <td>New York</td>\n",
       "      <td>NY</td>\n",
       "      <td>New York</td>\n",
       "      <td>Queens</td>\n",
       "      <td>1</td>\n",
       "      <td>NaN</td>\n",
       "      <td>NaN</td>\n",
       "      <td>NaN</td>\n",
       "      <td>NaN</td>\n",
       "      <td>...</td>\n",
       "      <td>616100</td>\n",
       "      <td>622100</td>\n",
       "      <td>626700.0</td>\n",
       "      <td>630300</td>\n",
       "      <td>636800</td>\n",
       "      <td>646200</td>\n",
       "      <td>657400</td>\n",
       "      <td>670800</td>\n",
       "      <td>681000</td>\n",
       "      <td>686400</td>\n",
       "    </tr>\n",
       "    <tr>\n",
       "      <th>1</th>\n",
       "      <td>12447</td>\n",
       "      <td>Los Angeles</td>\n",
       "      <td>CA</td>\n",
       "      <td>Los Angeles-Long Beach-Anaheim</td>\n",
       "      <td>Los Angeles</td>\n",
       "      <td>2</td>\n",
       "      <td>155000.0</td>\n",
       "      <td>154600.0</td>\n",
       "      <td>154400.0</td>\n",
       "      <td>154200.0</td>\n",
       "      <td>...</td>\n",
       "      <td>598300</td>\n",
       "      <td>604900</td>\n",
       "      <td>609700.0</td>\n",
       "      <td>612400</td>\n",
       "      <td>616400</td>\n",
       "      <td>621800</td>\n",
       "      <td>626000</td>\n",
       "      <td>628900</td>\n",
       "      <td>630900</td>\n",
       "      <td>632000</td>\n",
       "    </tr>\n",
       "    <tr>\n",
       "      <th>2</th>\n",
       "      <td>17426</td>\n",
       "      <td>Chicago</td>\n",
       "      <td>IL</td>\n",
       "      <td>Chicago</td>\n",
       "      <td>Cook</td>\n",
       "      <td>3</td>\n",
       "      <td>109700.0</td>\n",
       "      <td>109400.0</td>\n",
       "      <td>109300.0</td>\n",
       "      <td>109300.0</td>\n",
       "      <td>...</td>\n",
       "      <td>210900</td>\n",
       "      <td>212800</td>\n",
       "      <td>215300.0</td>\n",
       "      <td>218200</td>\n",
       "      <td>220400</td>\n",
       "      <td>221100</td>\n",
       "      <td>221800</td>\n",
       "      <td>222400</td>\n",
       "      <td>222900</td>\n",
       "      <td>223400</td>\n",
       "    </tr>\n",
       "    <tr>\n",
       "      <th>3</th>\n",
       "      <td>13271</td>\n",
       "      <td>Philadelphia</td>\n",
       "      <td>PA</td>\n",
       "      <td>Philadelphia</td>\n",
       "      <td>Philadelphia</td>\n",
       "      <td>4</td>\n",
       "      <td>50000.0</td>\n",
       "      <td>49900.0</td>\n",
       "      <td>49600.0</td>\n",
       "      <td>49400.0</td>\n",
       "      <td>...</td>\n",
       "      <td>132100</td>\n",
       "      <td>132500</td>\n",
       "      <td>133500.0</td>\n",
       "      <td>134700</td>\n",
       "      <td>135800</td>\n",
       "      <td>136500</td>\n",
       "      <td>136900</td>\n",
       "      <td>137700</td>\n",
       "      <td>138500</td>\n",
       "      <td>138900</td>\n",
       "    </tr>\n",
       "    <tr>\n",
       "      <th>4</th>\n",
       "      <td>40326</td>\n",
       "      <td>Phoenix</td>\n",
       "      <td>AZ</td>\n",
       "      <td>Phoenix</td>\n",
       "      <td>Maricopa</td>\n",
       "      <td>5</td>\n",
       "      <td>87200.0</td>\n",
       "      <td>87700.0</td>\n",
       "      <td>88200.0</td>\n",
       "      <td>88400.0</td>\n",
       "      <td>...</td>\n",
       "      <td>201200</td>\n",
       "      <td>203200</td>\n",
       "      <td>205100.0</td>\n",
       "      <td>206600</td>\n",
       "      <td>207900</td>\n",
       "      <td>209100</td>\n",
       "      <td>210000</td>\n",
       "      <td>211800</td>\n",
       "      <td>214100</td>\n",
       "      <td>215800</td>\n",
       "    </tr>\n",
       "  </tbody>\n",
       "</table>\n",
       "<p>5 rows × 262 columns</p>\n",
       "</div>"
      ],
      "text/plain": [
       "   RegionID    RegionName State                           Metro    CountyName  \\\n",
       "0      6181      New York    NY                        New York        Queens   \n",
       "1     12447   Los Angeles    CA  Los Angeles-Long Beach-Anaheim   Los Angeles   \n",
       "2     17426       Chicago    IL                         Chicago          Cook   \n",
       "3     13271  Philadelphia    PA                    Philadelphia  Philadelphia   \n",
       "4     40326       Phoenix    AZ                         Phoenix      Maricopa   \n",
       "\n",
       "   SizeRank   1996-04   1996-05   1996-06   1996-07   ...     2016-10  \\\n",
       "0         1       NaN       NaN       NaN       NaN   ...      616100   \n",
       "1         2  155000.0  154600.0  154400.0  154200.0   ...      598300   \n",
       "2         3  109700.0  109400.0  109300.0  109300.0   ...      210900   \n",
       "3         4   50000.0   49900.0   49600.0   49400.0   ...      132100   \n",
       "4         5   87200.0   87700.0   88200.0   88400.0   ...      201200   \n",
       "\n",
       "   2016-11   2016-12  2017-01  2017-02  2017-03  2017-04  2017-05  2017-06  \\\n",
       "0   622100  626700.0   630300   636800   646200   657400   670800   681000   \n",
       "1   604900  609700.0   612400   616400   621800   626000   628900   630900   \n",
       "2   212800  215300.0   218200   220400   221100   221800   222400   222900   \n",
       "3   132500  133500.0   134700   135800   136500   136900   137700   138500   \n",
       "4   203200  205100.0   206600   207900   209100   210000   211800   214100   \n",
       "\n",
       "   2017-07  \n",
       "0   686400  \n",
       "1   632000  \n",
       "2   223400  \n",
       "3   138900  \n",
       "4   215800  \n",
       "\n",
       "[5 rows x 262 columns]"
      ]
     },
     "execution_count": 15,
     "metadata": {},
     "output_type": "execute_result"
    }
   ],
   "source": [
    "# Viewing the first 5 rows of a dataframe\n",
    "df.head()"
   ]
  },
  {
   "cell_type": "code",
   "execution_count": 17,
   "metadata": {
    "collapsed": true
   },
   "outputs": [
    {
     "data": {
      "text/html": [
       "<div>\n",
       "<style>\n",
       "    .dataframe thead tr:only-child th {\n",
       "        text-align: right;\n",
       "    }\n",
       "\n",
       "    .dataframe thead th {\n",
       "        text-align: left;\n",
       "    }\n",
       "\n",
       "    .dataframe tbody tr th {\n",
       "        vertical-align: top;\n",
       "    }\n",
       "</style>\n",
       "<table border=\"1\" class=\"dataframe\">\n",
       "  <thead>\n",
       "    <tr style=\"text-align: right;\">\n",
       "      <th></th>\n",
       "      <th>RegionID</th>\n",
       "      <th>RegionName</th>\n",
       "      <th>State</th>\n",
       "      <th>Metro</th>\n",
       "      <th>CountyName</th>\n",
       "      <th>SizeRank</th>\n",
       "      <th>1996-04</th>\n",
       "      <th>1996-05</th>\n",
       "      <th>1996-06</th>\n",
       "      <th>1996-07</th>\n",
       "      <th>...</th>\n",
       "      <th>2016-10</th>\n",
       "      <th>2016-11</th>\n",
       "      <th>2016-12</th>\n",
       "      <th>2017-01</th>\n",
       "      <th>2017-02</th>\n",
       "      <th>2017-03</th>\n",
       "      <th>2017-04</th>\n",
       "      <th>2017-05</th>\n",
       "      <th>2017-06</th>\n",
       "      <th>2017-07</th>\n",
       "    </tr>\n",
       "  </thead>\n",
       "  <tbody>\n",
       "    <tr>\n",
       "      <th>11251</th>\n",
       "      <td>398292</td>\n",
       "      <td>Town of Wrightstown</td>\n",
       "      <td>WI</td>\n",
       "      <td>Green Bay</td>\n",
       "      <td>Brown</td>\n",
       "      <td>11252</td>\n",
       "      <td>NaN</td>\n",
       "      <td>NaN</td>\n",
       "      <td>NaN</td>\n",
       "      <td>NaN</td>\n",
       "      <td>...</td>\n",
       "      <td>167500</td>\n",
       "      <td>169500</td>\n",
       "      <td>171400.0</td>\n",
       "      <td>173600</td>\n",
       "      <td>176100</td>\n",
       "      <td>177300</td>\n",
       "      <td>177100</td>\n",
       "      <td>177800</td>\n",
       "      <td>178800</td>\n",
       "      <td>179600</td>\n",
       "    </tr>\n",
       "    <tr>\n",
       "      <th>11252</th>\n",
       "      <td>398343</td>\n",
       "      <td>Urbana</td>\n",
       "      <td>NY</td>\n",
       "      <td>Corning</td>\n",
       "      <td>Steuben</td>\n",
       "      <td>11253</td>\n",
       "      <td>66900.0</td>\n",
       "      <td>65800.0</td>\n",
       "      <td>65500.0</td>\n",
       "      <td>65100.0</td>\n",
       "      <td>...</td>\n",
       "      <td>152700</td>\n",
       "      <td>154100</td>\n",
       "      <td>153300.0</td>\n",
       "      <td>155100</td>\n",
       "      <td>156500</td>\n",
       "      <td>153100</td>\n",
       "      <td>148100</td>\n",
       "      <td>146600</td>\n",
       "      <td>144200</td>\n",
       "      <td>140900</td>\n",
       "    </tr>\n",
       "    <tr>\n",
       "      <th>11253</th>\n",
       "      <td>398496</td>\n",
       "      <td>New Denmark</td>\n",
       "      <td>WI</td>\n",
       "      <td>Green Bay</td>\n",
       "      <td>Brown</td>\n",
       "      <td>11254</td>\n",
       "      <td>NaN</td>\n",
       "      <td>NaN</td>\n",
       "      <td>NaN</td>\n",
       "      <td>NaN</td>\n",
       "      <td>...</td>\n",
       "      <td>200400</td>\n",
       "      <td>202400</td>\n",
       "      <td>204900.0</td>\n",
       "      <td>207100</td>\n",
       "      <td>209200</td>\n",
       "      <td>211000</td>\n",
       "      <td>212400</td>\n",
       "      <td>213700</td>\n",
       "      <td>215300</td>\n",
       "      <td>216600</td>\n",
       "    </tr>\n",
       "    <tr>\n",
       "      <th>11254</th>\n",
       "      <td>398839</td>\n",
       "      <td>Angels</td>\n",
       "      <td>CA</td>\n",
       "      <td>NaN</td>\n",
       "      <td>Calaveras</td>\n",
       "      <td>11255</td>\n",
       "      <td>115600.0</td>\n",
       "      <td>116400.0</td>\n",
       "      <td>118000.0</td>\n",
       "      <td>119000.0</td>\n",
       "      <td>...</td>\n",
       "      <td>269100</td>\n",
       "      <td>273100</td>\n",
       "      <td>275500.0</td>\n",
       "      <td>276700</td>\n",
       "      <td>278100</td>\n",
       "      <td>280900</td>\n",
       "      <td>285200</td>\n",
       "      <td>287500</td>\n",
       "      <td>287100</td>\n",
       "      <td>286200</td>\n",
       "    </tr>\n",
       "    <tr>\n",
       "      <th>11255</th>\n",
       "      <td>737788</td>\n",
       "      <td>Lebanon Borough</td>\n",
       "      <td>NJ</td>\n",
       "      <td>New York</td>\n",
       "      <td>Hunterdon</td>\n",
       "      <td>11256</td>\n",
       "      <td>143500.0</td>\n",
       "      <td>143200.0</td>\n",
       "      <td>141700.0</td>\n",
       "      <td>140700.0</td>\n",
       "      <td>...</td>\n",
       "      <td>239900</td>\n",
       "      <td>238800</td>\n",
       "      <td>239700.0</td>\n",
       "      <td>241700</td>\n",
       "      <td>241200</td>\n",
       "      <td>238600</td>\n",
       "      <td>235100</td>\n",
       "      <td>232500</td>\n",
       "      <td>235900</td>\n",
       "      <td>241400</td>\n",
       "    </tr>\n",
       "  </tbody>\n",
       "</table>\n",
       "<p>5 rows × 262 columns</p>\n",
       "</div>"
      ],
      "text/plain": [
       "       RegionID           RegionName State      Metro CountyName  SizeRank  \\\n",
       "11251    398292  Town of Wrightstown    WI  Green Bay      Brown     11252   \n",
       "11252    398343               Urbana    NY    Corning    Steuben     11253   \n",
       "11253    398496          New Denmark    WI  Green Bay      Brown     11254   \n",
       "11254    398839               Angels    CA        NaN  Calaveras     11255   \n",
       "11255    737788      Lebanon Borough    NJ   New York  Hunterdon     11256   \n",
       "\n",
       "        1996-04   1996-05   1996-06   1996-07   ...     2016-10  2016-11  \\\n",
       "11251       NaN       NaN       NaN       NaN   ...      167500   169500   \n",
       "11252   66900.0   65800.0   65500.0   65100.0   ...      152700   154100   \n",
       "11253       NaN       NaN       NaN       NaN   ...      200400   202400   \n",
       "11254  115600.0  116400.0  118000.0  119000.0   ...      269100   273100   \n",
       "11255  143500.0  143200.0  141700.0  140700.0   ...      239900   238800   \n",
       "\n",
       "        2016-12  2017-01  2017-02  2017-03  2017-04  2017-05  2017-06  2017-07  \n",
       "11251  171400.0   173600   176100   177300   177100   177800   178800   179600  \n",
       "11252  153300.0   155100   156500   153100   148100   146600   144200   140900  \n",
       "11253  204900.0   207100   209200   211000   212400   213700   215300   216600  \n",
       "11254  275500.0   276700   278100   280900   285200   287500   287100   286200  \n",
       "11255  239700.0   241700   241200   238600   235100   232500   235900   241400  \n",
       "\n",
       "[5 rows x 262 columns]"
      ]
     },
     "execution_count": 17,
     "metadata": {},
     "output_type": "execute_result"
    }
   ],
   "source": [
    "# Viewing the last 5 rows of a dataframe\n",
    "df.tail()"
   ]
  },
  {
   "cell_type": "code",
   "execution_count": 12,
   "metadata": {
    "collapsed": true
   },
   "outputs": [
    {
     "data": {
      "text/plain": [
       "Index(['RegionID', 'RegionName', 'State', 'Metro', 'CountyName', 'SizeRank',\n",
       "       '1996-04', '1996-05', '1996-06', '1996-07',\n",
       "       ...\n",
       "       '2016-10', '2016-11', '2016-12', '2017-01', '2017-02', '2017-03',\n",
       "       '2017-04', '2017-05', '2017-06', '2017-07'],\n",
       "      dtype='object', length=262)"
      ]
     },
     "execution_count": 12,
     "metadata": {},
     "output_type": "execute_result"
    }
   ],
   "source": [
    "# Get a list of columns\n",
    "df.columns"
   ]
  },
  {
   "cell_type": "code",
   "execution_count": 14,
   "metadata": {
    "collapsed": true
   },
   "outputs": [],
   "source": [
    "# Accessing a dataframe column by number and creating a new dataframe\n",
    "df2 = df.iloc[:,:6]"
   ]
  },
  {
   "cell_type": "markdown",
   "metadata": {},
   "source": [
    "## Data frame sorting and filtering"
   ]
  },
  {
   "cell_type": "code",
   "execution_count": 20,
   "metadata": {
    "collapsed": true
   },
   "outputs": [],
   "source": [
    "# Sorting dataframe by column(s)\n",
    "df.sort_values(by=['State', 'RegionName'], ascending=True, inplace=True)"
   ]
  },
  {
   "cell_type": "code",
   "execution_count": 18,
   "metadata": {
    "collapsed": true,
    "scrolled": true
   },
   "outputs": [],
   "source": [
    "# Filtering the dataframe by an element in a column and creating a new dataframe\n",
    "df3 = df[df['Metro']=='San Francisco']"
   ]
  },
  {
   "cell_type": "code",
   "execution_count": 19,
   "metadata": {
    "collapsed": true
   },
   "outputs": [],
   "source": [
    "# Accessing a dataframe by row index name and column index name(s)and creating a new series\n",
    "xSSF = df3.loc[727, '1996-04':]"
   ]
  },
  {
   "cell_type": "code",
   "execution_count": null,
   "metadata": {
    "collapsed": true
   },
   "outputs": [],
   "source": [
    "# see if a pandas column contains a string\n",
    "dfMetTP2['SampleID'].str.contains('NA12878')"
   ]
  },
  {
   "cell_type": "code",
   "execution_count": 25,
   "metadata": {
    "collapsed": true
   },
   "outputs": [],
   "source": [
    "### May have to re-do the following"
   ]
  },
  {
   "cell_type": "code",
   "execution_count": 21,
   "metadata": {
    "collapsed": true
   },
   "outputs": [
    {
     "ename": "NameError",
     "evalue": "name 'x' is not defined",
     "output_type": "error",
     "traceback": [
      "\u001b[1;31m---------------------------------------------------------------------------\u001b[0m",
      "\u001b[1;31mNameError\u001b[0m                                 Traceback (most recent call last)",
      "\u001b[1;32m<ipython-input-21-1dafde5cf7fc>\u001b[0m in \u001b[0;36m<module>\u001b[1;34m()\u001b[0m\n\u001b[0;32m      1\u001b[0m \u001b[1;31m# Accessing the date in a\u001b[0m\u001b[1;33m\u001b[0m\u001b[1;33m\u001b[0m\u001b[0m\n\u001b[1;32m----> 2\u001b[1;33m \u001b[0mx\u001b[0m\u001b[1;33m[\u001b[0m\u001b[1;34m'date'\u001b[0m\u001b[1;33m]\u001b[0m \u001b[1;33m=\u001b[0m \u001b[0mpd\u001b[0m\u001b[1;33m.\u001b[0m\u001b[0mto_datetime\u001b[0m\u001b[1;33m(\u001b[0m\u001b[0mx\u001b[0m\u001b[1;33m.\u001b[0m\u001b[0mindex\u001b[0m\u001b[1;33m)\u001b[0m\u001b[1;33m\u001b[0m\u001b[0m\n\u001b[0m",
      "\u001b[1;31mNameError\u001b[0m: name 'x' is not defined"
     ]
    }
   ],
   "source": [
    "# Accessing the date (re-do)\n",
    "x['date'] = pd.to_datetime(x.index)"
   ]
  },
  {
   "cell_type": "code",
   "execution_count": 67,
   "metadata": {
    "collapsed": true
   },
   "outputs": [],
   "source": [
    "x2 = x[:-1]\n",
    "x2SSF = xSSF[:-1]"
   ]
  },
  {
   "cell_type": "markdown",
   "metadata": {},
   "source": [
    "# Advanced Pandas"
   ]
  },
  {
   "cell_type": "code",
   "execution_count": null,
   "metadata": {
    "collapsed": true
   },
   "outputs": [],
   "source": [
    "# cool pivot table example\n",
    "\n",
    "df = pd.DataFrame({'Account_number':[1,1,2,2,2,3,3], 'Product':['A', 'A', 'A', 'B', 'B','A', 'B']})\n",
    "\n",
    "df.pivot_table(index='Account_number', columns='Product', aggfunc=len, fill_value=0)"
   ]
  },
  {
   "cell_type": "markdown",
   "metadata": {},
   "source": [
    "## Merging"
   ]
  },
  {
   "cell_type": "code",
   "execution_count": null,
   "metadata": {
    "collapsed": true
   },
   "outputs": [],
   "source": [
    "pd.merge(staff_df, student_df, how='outer', left_index=True, right_index=True)\n",
    "pd.merge(staff_df, student_df, how='inner', left_index=True, right_index=True)\n",
    "# left regardless if they're in the overlap\n",
    "pd.merge(staff_df, student_df, how='left', left_index=True, right_index=True)"
   ]
  },
  {
   "cell_type": "markdown",
   "metadata": {},
   "source": [
    "## Method chaining"
   ]
  },
  {
   "cell_type": "code",
   "execution_count": null,
   "metadata": {
    "collapsed": true
   },
   "outputs": [],
   "source": [
    "\n",
    "(df.where(df['SUMLEV']==50)\n",
    "    .dropna()\n",
    "    .set_index(['STNAME','CTYNAME'])\n",
    "    .rename(columns={'ESTIMATESBASE2010': 'Estimates Base 2010'}))"
   ]
  },
  {
   "cell_type": "markdown",
   "metadata": {},
   "source": [
    "## Lambda"
   ]
  },
  {
   "cell_type": "code",
   "execution_count": null,
   "metadata": {
    "collapsed": true
   },
   "outputs": [],
   "source": [
    "df.apply(lambda x: np.sum(x[rows]), axis=1)"
   ]
  },
  {
   "cell_type": "markdown",
   "metadata": {},
   "source": [
    "## Vector functions\n",
    "\n",
    "other:\n",
    "df.iterrows\n",
    ".iterritems\n",
    "zip\n",
    "enumerate"
   ]
  },
  {
   "cell_type": "markdown",
   "metadata": {},
   "source": [
    "## Apply function"
   ]
  },
  {
   "cell_type": "code",
   "execution_count": null,
   "metadata": {
    "collapsed": true
   },
   "outputs": [],
   "source": [
    "import numpy as np\n",
    "def min_max(row):\n",
    "    data = row[['POPESTIMATE2010',\n",
    "                'POPESTIMATE2011',\n",
    "                'POPESTIMATE2012',\n",
    "                'POPESTIMATE2013',\n",
    "                'POPESTIMATE2014',\n",
    "                'POPESTIMATE2015']]\n",
    "    return pd.Series({'min': np.min(data), 'max': np.max(data)})\n",
    "\n",
    "df.apply(min_max, axis=1)"
   ]
  },
  {
   "cell_type": "markdown",
   "metadata": {},
   "source": [
    "## Group by\n",
    "\n",
    "Common workflow for groupby: split data, apply function, then combine results (split, apply, combine function).\n",
    "Groupby object has agg method (aggregate). This method applies a function to the column or columns of data in the group, and returns the results."
   ]
  },
  {
   "cell_type": "code",
   "execution_count": 28,
   "metadata": {
    "collapsed": true
   },
   "outputs": [
    {
     "ename": "FileNotFoundError",
     "evalue": "File b'census.csv' does not exist",
     "output_type": "error",
     "traceback": [
      "\u001b[1;31m---------------------------------------------------------------------------\u001b[0m",
      "\u001b[1;31mFileNotFoundError\u001b[0m                         Traceback (most recent call last)",
      "\u001b[1;32m<ipython-input-28-9096edd9935d>\u001b[0m in \u001b[0;36m<module>\u001b[1;34m()\u001b[0m\n\u001b[0;32m      1\u001b[0m \u001b[1;32mimport\u001b[0m \u001b[0mpandas\u001b[0m \u001b[1;32mas\u001b[0m \u001b[0mpd\u001b[0m\u001b[1;33m\u001b[0m\u001b[0m\n\u001b[0;32m      2\u001b[0m \u001b[1;32mimport\u001b[0m \u001b[0mnumpy\u001b[0m \u001b[1;32mas\u001b[0m \u001b[0mnp\u001b[0m\u001b[1;33m\u001b[0m\u001b[0m\n\u001b[1;32m----> 3\u001b[1;33m \u001b[0mdf\u001b[0m \u001b[1;33m=\u001b[0m \u001b[0mpd\u001b[0m\u001b[1;33m.\u001b[0m\u001b[0mread_csv\u001b[0m\u001b[1;33m(\u001b[0m\u001b[1;34m'census.csv'\u001b[0m\u001b[1;33m)\u001b[0m\u001b[1;33m\u001b[0m\u001b[0m\n\u001b[0m\u001b[0;32m      4\u001b[0m \u001b[0mdf\u001b[0m \u001b[1;33m=\u001b[0m \u001b[0mdf\u001b[0m\u001b[1;33m[\u001b[0m\u001b[0mdf\u001b[0m\u001b[1;33m[\u001b[0m\u001b[1;34m'SUMLEV'\u001b[0m\u001b[1;33m]\u001b[0m\u001b[1;33m==\u001b[0m\u001b[1;36m50\u001b[0m\u001b[1;33m]\u001b[0m\u001b[1;33m\u001b[0m\u001b[0m\n\u001b[0;32m      5\u001b[0m \u001b[0mdf\u001b[0m\u001b[1;33m\u001b[0m\u001b[0m\n",
      "\u001b[1;32mC:\\Users\\Benjamin.Lacar\\AppData\\Local\\Continuum\\Anaconda3_v440\\lib\\site-packages\\pandas\\io\\parsers.py\u001b[0m in \u001b[0;36mparser_f\u001b[1;34m(filepath_or_buffer, sep, delimiter, header, names, index_col, usecols, squeeze, prefix, mangle_dupe_cols, dtype, engine, converters, true_values, false_values, skipinitialspace, skiprows, nrows, na_values, keep_default_na, na_filter, verbose, skip_blank_lines, parse_dates, infer_datetime_format, keep_date_col, date_parser, dayfirst, iterator, chunksize, compression, thousands, decimal, lineterminator, quotechar, quoting, escapechar, comment, encoding, dialect, tupleize_cols, error_bad_lines, warn_bad_lines, skipfooter, skip_footer, doublequote, delim_whitespace, as_recarray, compact_ints, use_unsigned, low_memory, buffer_lines, memory_map, float_precision)\u001b[0m\n\u001b[0;32m    653\u001b[0m                     skip_blank_lines=skip_blank_lines)\n\u001b[0;32m    654\u001b[0m \u001b[1;33m\u001b[0m\u001b[0m\n\u001b[1;32m--> 655\u001b[1;33m         \u001b[1;32mreturn\u001b[0m \u001b[0m_read\u001b[0m\u001b[1;33m(\u001b[0m\u001b[0mfilepath_or_buffer\u001b[0m\u001b[1;33m,\u001b[0m \u001b[0mkwds\u001b[0m\u001b[1;33m)\u001b[0m\u001b[1;33m\u001b[0m\u001b[0m\n\u001b[0m\u001b[0;32m    656\u001b[0m \u001b[1;33m\u001b[0m\u001b[0m\n\u001b[0;32m    657\u001b[0m     \u001b[0mparser_f\u001b[0m\u001b[1;33m.\u001b[0m\u001b[0m__name__\u001b[0m \u001b[1;33m=\u001b[0m \u001b[0mname\u001b[0m\u001b[1;33m\u001b[0m\u001b[0m\n",
      "\u001b[1;32mC:\\Users\\Benjamin.Lacar\\AppData\\Local\\Continuum\\Anaconda3_v440\\lib\\site-packages\\pandas\\io\\parsers.py\u001b[0m in \u001b[0;36m_read\u001b[1;34m(filepath_or_buffer, kwds)\u001b[0m\n\u001b[0;32m    403\u001b[0m \u001b[1;33m\u001b[0m\u001b[0m\n\u001b[0;32m    404\u001b[0m     \u001b[1;31m# Create the parser.\u001b[0m\u001b[1;33m\u001b[0m\u001b[1;33m\u001b[0m\u001b[0m\n\u001b[1;32m--> 405\u001b[1;33m     \u001b[0mparser\u001b[0m \u001b[1;33m=\u001b[0m \u001b[0mTextFileReader\u001b[0m\u001b[1;33m(\u001b[0m\u001b[0mfilepath_or_buffer\u001b[0m\u001b[1;33m,\u001b[0m \u001b[1;33m**\u001b[0m\u001b[0mkwds\u001b[0m\u001b[1;33m)\u001b[0m\u001b[1;33m\u001b[0m\u001b[0m\n\u001b[0m\u001b[0;32m    406\u001b[0m \u001b[1;33m\u001b[0m\u001b[0m\n\u001b[0;32m    407\u001b[0m     \u001b[1;32mif\u001b[0m \u001b[0mchunksize\u001b[0m \u001b[1;32mor\u001b[0m \u001b[0miterator\u001b[0m\u001b[1;33m:\u001b[0m\u001b[1;33m\u001b[0m\u001b[0m\n",
      "\u001b[1;32mC:\\Users\\Benjamin.Lacar\\AppData\\Local\\Continuum\\Anaconda3_v440\\lib\\site-packages\\pandas\\io\\parsers.py\u001b[0m in \u001b[0;36m__init__\u001b[1;34m(self, f, engine, **kwds)\u001b[0m\n\u001b[0;32m    760\u001b[0m             \u001b[0mself\u001b[0m\u001b[1;33m.\u001b[0m\u001b[0moptions\u001b[0m\u001b[1;33m[\u001b[0m\u001b[1;34m'has_index_names'\u001b[0m\u001b[1;33m]\u001b[0m \u001b[1;33m=\u001b[0m \u001b[0mkwds\u001b[0m\u001b[1;33m[\u001b[0m\u001b[1;34m'has_index_names'\u001b[0m\u001b[1;33m]\u001b[0m\u001b[1;33m\u001b[0m\u001b[0m\n\u001b[0;32m    761\u001b[0m \u001b[1;33m\u001b[0m\u001b[0m\n\u001b[1;32m--> 762\u001b[1;33m         \u001b[0mself\u001b[0m\u001b[1;33m.\u001b[0m\u001b[0m_make_engine\u001b[0m\u001b[1;33m(\u001b[0m\u001b[0mself\u001b[0m\u001b[1;33m.\u001b[0m\u001b[0mengine\u001b[0m\u001b[1;33m)\u001b[0m\u001b[1;33m\u001b[0m\u001b[0m\n\u001b[0m\u001b[0;32m    763\u001b[0m \u001b[1;33m\u001b[0m\u001b[0m\n\u001b[0;32m    764\u001b[0m     \u001b[1;32mdef\u001b[0m \u001b[0mclose\u001b[0m\u001b[1;33m(\u001b[0m\u001b[0mself\u001b[0m\u001b[1;33m)\u001b[0m\u001b[1;33m:\u001b[0m\u001b[1;33m\u001b[0m\u001b[0m\n",
      "\u001b[1;32mC:\\Users\\Benjamin.Lacar\\AppData\\Local\\Continuum\\Anaconda3_v440\\lib\\site-packages\\pandas\\io\\parsers.py\u001b[0m in \u001b[0;36m_make_engine\u001b[1;34m(self, engine)\u001b[0m\n\u001b[0;32m    964\u001b[0m     \u001b[1;32mdef\u001b[0m \u001b[0m_make_engine\u001b[0m\u001b[1;33m(\u001b[0m\u001b[0mself\u001b[0m\u001b[1;33m,\u001b[0m \u001b[0mengine\u001b[0m\u001b[1;33m=\u001b[0m\u001b[1;34m'c'\u001b[0m\u001b[1;33m)\u001b[0m\u001b[1;33m:\u001b[0m\u001b[1;33m\u001b[0m\u001b[0m\n\u001b[0;32m    965\u001b[0m         \u001b[1;32mif\u001b[0m \u001b[0mengine\u001b[0m \u001b[1;33m==\u001b[0m \u001b[1;34m'c'\u001b[0m\u001b[1;33m:\u001b[0m\u001b[1;33m\u001b[0m\u001b[0m\n\u001b[1;32m--> 966\u001b[1;33m             \u001b[0mself\u001b[0m\u001b[1;33m.\u001b[0m\u001b[0m_engine\u001b[0m \u001b[1;33m=\u001b[0m \u001b[0mCParserWrapper\u001b[0m\u001b[1;33m(\u001b[0m\u001b[0mself\u001b[0m\u001b[1;33m.\u001b[0m\u001b[0mf\u001b[0m\u001b[1;33m,\u001b[0m \u001b[1;33m**\u001b[0m\u001b[0mself\u001b[0m\u001b[1;33m.\u001b[0m\u001b[0moptions\u001b[0m\u001b[1;33m)\u001b[0m\u001b[1;33m\u001b[0m\u001b[0m\n\u001b[0m\u001b[0;32m    967\u001b[0m         \u001b[1;32melse\u001b[0m\u001b[1;33m:\u001b[0m\u001b[1;33m\u001b[0m\u001b[0m\n\u001b[0;32m    968\u001b[0m             \u001b[1;32mif\u001b[0m \u001b[0mengine\u001b[0m \u001b[1;33m==\u001b[0m \u001b[1;34m'python'\u001b[0m\u001b[1;33m:\u001b[0m\u001b[1;33m\u001b[0m\u001b[0m\n",
      "\u001b[1;32mC:\\Users\\Benjamin.Lacar\\AppData\\Local\\Continuum\\Anaconda3_v440\\lib\\site-packages\\pandas\\io\\parsers.py\u001b[0m in \u001b[0;36m__init__\u001b[1;34m(self, src, **kwds)\u001b[0m\n\u001b[0;32m   1580\u001b[0m         \u001b[0mkwds\u001b[0m\u001b[1;33m[\u001b[0m\u001b[1;34m'allow_leading_cols'\u001b[0m\u001b[1;33m]\u001b[0m \u001b[1;33m=\u001b[0m \u001b[0mself\u001b[0m\u001b[1;33m.\u001b[0m\u001b[0mindex_col\u001b[0m \u001b[1;32mis\u001b[0m \u001b[1;32mnot\u001b[0m \u001b[1;32mFalse\u001b[0m\u001b[1;33m\u001b[0m\u001b[0m\n\u001b[0;32m   1581\u001b[0m \u001b[1;33m\u001b[0m\u001b[0m\n\u001b[1;32m-> 1582\u001b[1;33m         \u001b[0mself\u001b[0m\u001b[1;33m.\u001b[0m\u001b[0m_reader\u001b[0m \u001b[1;33m=\u001b[0m \u001b[0mparsers\u001b[0m\u001b[1;33m.\u001b[0m\u001b[0mTextReader\u001b[0m\u001b[1;33m(\u001b[0m\u001b[0msrc\u001b[0m\u001b[1;33m,\u001b[0m \u001b[1;33m**\u001b[0m\u001b[0mkwds\u001b[0m\u001b[1;33m)\u001b[0m\u001b[1;33m\u001b[0m\u001b[0m\n\u001b[0m\u001b[0;32m   1583\u001b[0m \u001b[1;33m\u001b[0m\u001b[0m\n\u001b[0;32m   1584\u001b[0m         \u001b[1;31m# XXX\u001b[0m\u001b[1;33m\u001b[0m\u001b[1;33m\u001b[0m\u001b[0m\n",
      "\u001b[1;32mpandas\\_libs\\parsers.pyx\u001b[0m in \u001b[0;36mpandas._libs.parsers.TextReader.__cinit__ (pandas\\_libs\\parsers.c:4209)\u001b[1;34m()\u001b[0m\n",
      "\u001b[1;32mpandas\\_libs\\parsers.pyx\u001b[0m in \u001b[0;36mpandas._libs.parsers.TextReader._setup_parser_source (pandas\\_libs\\parsers.c:8873)\u001b[1;34m()\u001b[0m\n",
      "\u001b[1;31mFileNotFoundError\u001b[0m: File b'census.csv' does not exist"
     ]
    }
   ],
   "source": [
    "# Need to update table\n",
    "import pandas as pd\n",
    "import numpy as np\n",
    "df = pd.read_csv('census.csv')\n",
    "df = df[df['SUMLEV']==50]\n",
    "df"
   ]
  },
  {
   "cell_type": "code",
   "execution_count": null,
   "metadata": {
    "collapsed": true
   },
   "outputs": [],
   "source": [
    "# Example to get multiple values in a groupby\n",
    "(df.set_index('STNAME').groupby(level=0)['CENSUS2010POP']\n",
    "    .agg({'avg': np.average, 'sum': np.sum}))"
   ]
  },
  {
   "cell_type": "markdown",
   "metadata": {},
   "source": [
    "## Link for  tips on Pandas data manipulation\n",
    "This [article](https://www.analyticsvidhya.com/blog/2016/01/12-pandas-techniques-python-data-manipulation/) covers the following:\n",
    "- Boolean indexing\n",
    "- apply\n",
    "- imputing missing files\n",
    "- pivot table\n",
    "- multi-indexing\n",
    "- crosstab\n",
    "- merging data frames\n",
    "- sorting\n",
    "- plotting\n",
    "- cut function for binning\n",
    "- coding nominal data\n",
    "- iterating over rows"
   ]
  },
  {
   "cell_type": "markdown",
   "metadata": {},
   "source": [
    "# Numerical series creations with numpy"
   ]
  },
  {
   "cell_type": "code",
   "execution_count": 4,
   "metadata": {
    "collapsed": true
   },
   "outputs": [],
   "source": [
    "import numpy as np\n",
    "ind = np.arange(1, 5)"
   ]
  },
  {
   "cell_type": "code",
   "execution_count": 5,
   "metadata": {},
   "outputs": [
    {
     "data": {
      "text/plain": [
       "array([1, 2, 3, 4])"
      ]
     },
     "execution_count": 5,
     "metadata": {},
     "output_type": "execute_result"
    }
   ],
   "source": [
    "ind"
   ]
  },
  {
   "cell_type": "markdown",
   "metadata": {},
   "source": [
    "# Plot visualization in Python"
   ]
  },
  {
   "cell_type": "markdown",
   "metadata": {},
   "source": [
    "## Plotting with matplotlib"
   ]
  },
  {
   "cell_type": "markdown",
   "metadata": {},
   "source": [
    "You can show matplotlib figures directly in the notebook by using the %matplotlib notebook and %matplotlib inline magic commands.\n",
    "%matplotlib notebook provides an interactive environment.\n"
   ]
  },
  {
   "cell_type": "code",
   "execution_count": 63,
   "metadata": {
    "collapsed": true
   },
   "outputs": [],
   "source": [
    "%matplotlib notebook\n",
    "# know how to get the backend and be aware of the backend layer\n",
    "\n",
    "# Configures matplotlib to work in the browswer. It's a backend that's operating with the browser.\n",
    "import matplotlib as mpl\n",
    "mpl.get_backend()\n",
    "\n",
    "# make sure we're using the nbagg backend\n",
    "# access get/set layers"
   ]
  },
  {
   "cell_type": "markdown",
   "metadata": {},
   "source": [
    "### Basic template and parts of a figure\n",
    "http://matplotlib.org/faq/usage_faq.html#parts-of-a-figure"
   ]
  },
  {
   "cell_type": "code",
   "execution_count": 69,
   "metadata": {},
   "outputs": [
    {
     "data": {
      "text/plain": [
       "[<matplotlib.lines.Line2D at 0x2406bac5b70>]"
      ]
     },
     "execution_count": 69,
     "metadata": {},
     "output_type": "execute_result"
    },
    {
     "data": {
      "image/png": "[encoded data removed]",
      "text/plain": [
       "<matplotlib.figure.Figure at 0x2406ba3a048>"
      ]
     },
     "metadata": {},
     "output_type": "display_data"
    }
   ],
   "source": [
    "import matplotlib.pyplot as plt\n",
    "%matplotlib inline\n",
    "y=x['date']\n",
    "f, (ax1, ax2) = plt.subplots(2, 1, sharex=True)\n",
    "ax1.plot(y, x2)\n",
    "#ax1.title('Chula Vista home values')\n",
    "ax2.plot(y, xSSF)"
   ]
  },
  {
   "cell_type": "code",
   "execution_count": 1,
   "metadata": {},
   "outputs": [
    {
     "data": {
      "image/png": "[encoded data removed]",
      "text/plain": [
       "<matplotlib.figure.Figure at 0x2db6c8b27b8>"
      ]
     },
     "metadata": {},
     "output_type": "display_data"
    }
   ],
   "source": [
    "import matplotlib.pyplot as plt\n",
    "import numpy as np\n",
    "x = np.arange(0, 10, 0.2)\n",
    "y = np.sin(x)\n",
    "fig = plt.figure()\n",
    "ax = fig.add_subplot(111)\n",
    "ax.plot(x, y)\n",
    "plt.show()"
   ]
  },
  {
   "cell_type": "markdown",
   "metadata": {},
   "source": [
    "### Making a discontinuous axis\n",
    "- [StackOverflow entry: \"Python/Matplotlib - Is there a way to make a discontinuous axis?\"](https://stackoverflow.com/questions/5656798/python-matplotlib-is-there-a-way-to-make-a-discontinuous-axis)\n",
    "- [Matplotlib documentation](https://matplotlib.org/examples/pylab_examples/broken_axis.html)"
   ]
  },
  {
   "cell_type": "markdown",
   "metadata": {},
   "source": [
    "### Iterating subplot axis array\n",
    "- [StackOverflow entry: \"matplotlib iterate subplot axis array through single list\"](https://stackoverflow.com/questions/20288842/matplotlib-iterate-subplot-axis-array-through-single-list)\n"
   ]
  },
  {
   "cell_type": "markdown",
   "metadata": {},
   "source": [
    "### Different size subplots with gridspec\n",
    "\n",
    "[StackOverflow entry: \"Matplotlib different size subplots\"](https://stackoverflow.com/questions/10388462/matplotlib-different-size-subplots)"
   ]
  },
  {
   "cell_type": "markdown",
   "metadata": {},
   "source": [
    "### Adding a custom line to a plot"
   ]
  },
  {
   "cell_type": "code",
   "execution_count": null,
   "metadata": {
    "collapsed": true
   },
   "outputs": [],
   "source": [
    "# plot the  cutoff line\n",
    "ax = plt.plot([0, 8], [0.90, 0.90], linewidth=1, linestyle='dashed', color='black', alpha=0.5)"
   ]
  },
  {
   "cell_type": "markdown",
   "metadata": {},
   "source": [
    "## Plotting with Seaborn"
   ]
  },
  {
   "cell_type": "markdown",
   "metadata": {},
   "source": [
    "### Seaborn factor plots"
   ]
  },
  {
   "cell_type": "code",
   "execution_count": null,
   "metadata": {
    "collapsed": true
   },
   "outputs": [],
   "source": [
    "sns_plot = sns.factorplot(x='IFC_no', y='PCT_READS_MAPPED_TO_GENOME', data=dfMetTP3, order=xorder, kind=\"box\", color='#d3d3d3')   # hex value for light gray"
   ]
  },
  {
   "cell_type": "code",
   "execution_count": null,
   "metadata": {
    "collapsed": true
   },
   "outputs": [],
   "source": []
  },
  {
   "cell_type": "code",
   "execution_count": null,
   "metadata": {
    "collapsed": true
   },
   "outputs": [],
   "source": [
    "xorder = sorted(dfMetTP3['IFC_no'].unique().tolist())\n",
    "sns_plot = sns.factorplot(x='IFC_no', y='PCT_READS_MAPPED_TO_GENOME', data=dfMetTP3, order=xorder, kind=\"box\", color='#d3d3d3')   # hex value for light gray\n",
    "sns_plot = sns.swarmplot(x='IFC_no', y='PCT_READS_MAPPED_TO_GENOME', data=dfMetTP3, order=xorder, alpha=1, color=F_violet, size=4) #, palette=[F_teal, F_magenta, F_purple])\n",
    "\n",
    "# plot the  cutoff line\n",
    "ax = plt.plot([0, 8], [0.90, 0.90], linewidth=1, linestyle='dashed', color='black', alpha=0.5)\n",
    "sns_plot.set_xticklabels(labels = xorder, rotation=45)\n",
    "plt.ylim(0.87, 1)   # matplotlib function\n",
    "\n",
    "vals = sns_plot.axes.get_yticks()\n",
    "sns_plot.set_yticklabels(['{:2.0f}%'.format(x*100) for x in vals])\n",
    "plt.ylabel('')\n",
    "plt.xlabel('')\n",
    "# plt.ylabel('% Reads Mapped to Genome')\n",
    "plt.title('% Reads Mapped to Genome (NA12878)')\n",
    "\n",
    "ax = plt.gca()\n",
    "ax.text(4.1, 0.894, 'spec', fontsize=10, color='black', ha='center', va='bottom')\n",
    "\n",
    "plt.subplots_adjust(bottom=0.2, top=0.91, left=0.12, right=0.97)\n",
    "sns.set(font='Proxima Nova')\n",
    "sns.set_style(style='white')\n",
    "\n",
    "# for tick in ax.get_xticklabels():\n",
    "#     tick.set_rotation(45)\n",
    "\n",
    "# save the figure\n",
    "plt.savefig('pctReadsMappedToGenome_boxplot_byIFC_wScatter.png', dpi=400)"
   ]
  },
  {
   "cell_type": "code",
   "execution_count": null,
   "metadata": {
    "collapsed": true
   },
   "outputs": [],
   "source": [
    "# note the workaround when x is omitted\n",
    "\n",
    "sns_plot = sns.swarmplot(x=[\"\"]*len(dfMetTP3), y='PCT_READS_MAPPED_TO_GENOME', hue='IFC_no', data=dfMetTP3, alpha=1, size=4, palette=F_colors) #, palette=[F_teal, F_magenta, F_purple])\n",
    "\n"
   ]
  },
  {
   "cell_type": "code",
   "execution_count": null,
   "metadata": {
    "collapsed": true
   },
   "outputs": [],
   "source": [
    "# plt.figure()\n",
    "\n",
    "# XaxisData = 'TOTAL_READ'\n",
    "# YaxisData ='PCT_READS_MAPPED_TO_GENOME'\n",
    "# ax = dfMetTP2.plot.scatter(x=XaxisData, y=YaxisData, color=F_purple)\n",
    "# fontTitle = {'fontname' : 'Montserrat'}\n",
    "# font1 = {'fontname':'Proxima Nova'}\n",
    "# plt.title(XaxisData.replace('_', ' ') + ' vs. ' + YaxisData.replace('_', ' '), **fontTitle)\n",
    "# plt.xlabel(XaxisData.replace('_', ' '), **font1)\n",
    "# plt.ylabel(YaxisData.replace('_', ' '), **font1)\n",
    "\n",
    "# fig = ax.get_figure()\n",
    "# fig.savefig(XaxisData + '_vs_' + YaxisData + '.png')\n",
    "\n",
    "# may need to edit for now\n",
    "# Plotting scatter plot with colors\n",
    "# plt.rcParams.update(pd.tools.plotting.mpl_stylesheet)\n",
    "# colors = [F_purple, F_magenta, F_teal] # list( F_colors[i] for i in [0, 2, 4] ) # F_colors # pd.tools.plotting._get_standard_colors(len(groups), color_type='random')\n",
    "\n",
    "# fig, ax = plt.subplots()\n",
    "# # ax.set_color_cycle(colors)\n",
    "# ax.set_prop_cycle(c=colors)\n",
    "# ax.margins(0.05)\n",
    "# for name, group in IFCgroup:\n",
    "#     ax.plot(group.TOTAL_READ, group.PCT_READS_MAPPED_TO_GENOME, marker='o', linestyle='', ms=6, label=name)\n",
    "# ax.legend(numpoints=1, loc='lower right')\n",
    "\n",
    "# XaxisData = 'TOTAL_READ'\n",
    "# YaxisData ='PCT_READS_MAPPED_TO_GENOME'\n",
    "\n",
    "# fontTitle = {'fontname' : 'Montserrat'}\n",
    "# font1 = {'fontname':'Proxima Nova'}\n",
    "# plt.title(XaxisData.replace('_', ' ') + ' vs. ' + YaxisData.replace('_', ' '), **fontTitle)\n",
    "# plt.xlabel(XaxisData.replace('_', ' '), **font1)\n",
    "# plt.ylabel(YaxisData.replace('_', ' '), **font1)\n",
    "\n",
    "# plt.show()"
   ]
  },
  {
   "cell_type": "code",
   "execution_count": null,
   "metadata": {
    "collapsed": true
   },
   "outputs": [],
   "source": [
    "### making one figure with different subplots, each with different properties from each other\n",
    "\n",
    "# fig = plt.figure()\n",
    "# ax1 = fig.add_subplot(111)\n",
    "# ax2 = fig.add_subplot(212)\n",
    "\n",
    "f, (ax1, ax2) = plt.subplots(1, 2, sharey=False, figsize=(12,4))   #  sharey, sharex determines control of sharing axes properties\n",
    "\n",
    "#####   properties for first figure   ##########\n",
    "xorder = sorted(dfMetTP3['IFCtype, no'].unique().tolist())\n",
    "sns.boxplot(x='IFCtype, no', y='PCT_READS_MAPPED_TO_GENOME', data=dfMetTP3,\n",
    "                          order=xorder, color='#d3d3d3', ax=ax1)   # hex value for light gray\n",
    "sns.swarmplot(x='IFCtype, no', y='PCT_READS_MAPPED_TO_GENOME', data=dfMetTP3,\n",
    "                         order=xorder, alpha=1, color=F_violet, size=3, ax=ax1) #, palette=[F_teal, F_magenta, F_purple])\n",
    "\n",
    "# plot the cutoff line\n",
    "ax1.plot([0, 18], [0.90, 0.90], linewidth=1, linestyle='dashed', color='black', alpha=0.5)  # works with ax1\n",
    "ax1.set_xticklabels(labels = xorder, rotation=90)   # works with ax1\n",
    "ax1.set_ylim(0.87, 1)  # works with ax1\n",
    "\n",
    "# plt.ylim(0.87, 1)   # matplotlib function, doesn't work with ax1\n",
    "\n",
    "vals = ax1.axes.get_yticks()\n",
    "ax1.set_yticklabels(['{:2.0f}%'.format(x*100) for x in vals])   # works with ax1\n",
    "ax1.set_ylabel('')  # works with ax1\n",
    "#plt.ylabel('')  # matplotlib function, doesn't work with ax1\n",
    "ax1.set_xlabel('')  # works with ax1\n",
    "ax1.set_title('% Reads Mapped to Genome (NA12878)')  # works with ax1\n",
    "\n",
    "# ax = plt.gca()  # this line not needed\n",
    "xvals = ax1.axes.get_xticks()\n",
    "ax1.text(len(xvals)/2-0.5, 0.892, 'spec', fontsize=10, color='black', ha='center', va='bottom')\n",
    "\n",
    "sns.boxplot(x='IFCtype, no', y='TOTAL_READ', data=dfMetTP3,\n",
    "                          order=xorder, color='#d3d3d3', ax=ax2)   # hex value for light gray\n",
    "sns.swarmplot(x='IFCtype, no', y='TOTAL_READ', data=dfMetTP3,\n",
    "                         order=xorder, alpha=1, color=F_violet, size=3, ax=ax2) #, palette=[F_teal, F_magenta, F_purple])\n",
    "\n",
    "ax2.set_xticklabels(labels = xorder, rotation=90)   # works with ax2\n",
    "# ax2.set_ylim(0.87, 1)  # works with ax1\n",
    "ax2.set_title('Total Reads (NA12878)')  # works with ax2\n",
    "\n",
    "# plt.subplots_adjust(bottom=0.2, top=0.91, left=0.12, right=0.97)\n",
    "sns.set(font='Proxima Nova')\n",
    "sns.set_style(style='white')\n",
    "\n"
   ]
  },
  {
   "cell_type": "code",
   "execution_count": 4,
   "metadata": {
    "collapsed": true,
    "scrolled": true
   },
   "outputs": [],
   "source": [
    "import pandas as pd\n",
    "import numpy as np\n",
    "import matplotlib.pyplot as plt\n",
    "import seaborn as sns\n",
    "from scipy import stats, integrate\n",
    "\n",
    "% matplotlib inline"
   ]
  },
  {
   "cell_type": "code",
   "execution_count": 2,
   "metadata": {},
   "outputs": [
    {
     "name": "stdout",
     "output_type": "stream",
     "text": [
      "C:\\Users\\Benjamin.Lacar\\Desktop\n"
     ]
    }
   ],
   "source": [
    "# set the right directory\n",
    "import os\n",
    "path = 'C:\\\\Users\\\\Benjamin.Lacar\\\\Desktop'\n",
    "os.chdir(path) \n",
    "cwd = os.getcwd()\n",
    "print(cwd)"
   ]
  },
  {
   "cell_type": "code",
   "execution_count": 67,
   "metadata": {
    "collapsed": true
   },
   "outputs": [],
   "source": [
    "y=np.linspace(0,100,100)"
   ]
  },
  {
   "cell_type": "code",
   "execution_count": 68,
   "metadata": {
    "collapsed": true
   },
   "outputs": [
    {
     "data": {
      "text/plain": [
       "array([   0.        ,    1.01010101,    2.02020202,    3.03030303,\n",
       "          4.04040404,    5.05050505,    6.06060606,    7.07070707,\n",
       "          8.08080808,    9.09090909,   10.1010101 ,   11.11111111,\n",
       "         12.12121212,   13.13131313,   14.14141414,   15.15151515,\n",
       "         16.16161616,   17.17171717,   18.18181818,   19.19191919,\n",
       "         20.2020202 ,   21.21212121,   22.22222222,   23.23232323,\n",
       "         24.24242424,   25.25252525,   26.26262626,   27.27272727,\n",
       "         28.28282828,   29.29292929,   30.3030303 ,   31.31313131,\n",
       "         32.32323232,   33.33333333,   34.34343434,   35.35353535,\n",
       "         36.36363636,   37.37373737,   38.38383838,   39.39393939,\n",
       "         40.4040404 ,   41.41414141,   42.42424242,   43.43434343,\n",
       "         44.44444444,   45.45454545,   46.46464646,   47.47474747,\n",
       "         48.48484848,   49.49494949,   50.50505051,   51.51515152,\n",
       "         52.52525253,   53.53535354,   54.54545455,   55.55555556,\n",
       "         56.56565657,   57.57575758,   58.58585859,   59.5959596 ,\n",
       "         60.60606061,   61.61616162,   62.62626263,   63.63636364,\n",
       "         64.64646465,   65.65656566,   66.66666667,   67.67676768,\n",
       "         68.68686869,   69.6969697 ,   70.70707071,   71.71717172,\n",
       "         72.72727273,   73.73737374,   74.74747475,   75.75757576,\n",
       "         76.76767677,   77.77777778,   78.78787879,   79.7979798 ,\n",
       "         80.80808081,   81.81818182,   82.82828283,   83.83838384,\n",
       "         84.84848485,   85.85858586,   86.86868687,   87.87878788,\n",
       "         88.88888889,   89.8989899 ,   90.90909091,   91.91919192,\n",
       "         92.92929293,   93.93939394,   94.94949495,   95.95959596,\n",
       "         96.96969697,   97.97979798,   98.98989899,  100.        ])"
      ]
     },
     "execution_count": 68,
     "metadata": {},
     "output_type": "execute_result"
    }
   ],
   "source": [
    "y"
   ]
  },
  {
   "cell_type": "code",
   "execution_count": 69,
   "metadata": {
    "collapsed": true
   },
   "outputs": [],
   "source": [
    "x = np.random.uniform(40,1000,100)\n"
   ]
  },
  {
   "cell_type": "code",
   "execution_count": 12,
   "metadata": {
    "scrolled": false
   },
   "outputs": [
    {
     "data": {
      "image/png": "[encoded data removed]",
      "text/plain": [
       "<matplotlib.figure.Figure at 0x23aa4c807b8>"
      ]
     },
     "metadata": {},
     "output_type": "display_data"
    }
   ],
   "source": [
    "# generate a set of numbers that can replicate a hypothetical bioanalyzer data\n",
    "\n",
    "#k1 = np.random.normal(loc=35.0, scale=5, size=35)   # marker 1\n",
    "k2 = np.random.normal(loc=50.0, scale=10, size=0)   # primers\n",
    "k3 = np.random.normal(loc=100.0, scale=10, size=0)    # primer dimers\n",
    "k4 = np.random.normal(loc=300.0, scale=15, size=70)    # desired peak 1\n",
    "k5 = np.random.normal(loc=325.0, scale=15, size=80)    # desired peak 2\n",
    "k6 = np.random.normal(loc=600.0, scale=200, size=10)    # genomic\n",
    "k7 = np.random.normal(loc=800.0, scale=200, size=10)    # genomic\n",
    "k8 = np.random.normal(loc=1000.0, scale=100, size=10)    # genomic\n",
    "#k9 = np.random.normal(loc=10380, scale=5, size=50)   # marker 2\n",
    "kC = np.concatenate([k2, k3, k4, k5, k6, k7, k8])\n",
    "# plot as a histogram\n",
    "# x = np.random.normal(size=100)\n",
    "ax = sns.distplot(kC, hist=True, kde=False, bins=100, hist_kws={\"alpha\": 0.25, \"color\":F_purple});\n",
    "sns.set(font='Proxima Nova')\n",
    "sns.set_style(style='white', )\n",
    "\n",
    "#ax.set_xlabel('No. of bases')\n",
    "\n",
    "# save figure\n",
    "plt.savefig('Plot5_new.png', dpi=400)"
   ]
  },
  {
   "cell_type": "code",
   "execution_count": null,
   "metadata": {
    "collapsed": true
   },
   "outputs": [],
   "source": [
    "scipy.stats.skew(k2, )"
   ]
  },
  {
   "cell_type": "markdown",
   "metadata": {},
   "source": [
    "### setting axis properties\n",
    "\n",
    "see ax line down below\n",
    "https://stackoverflow.com/questions/31632637/label-axes-on-seaborn-barplot\n"
   ]
  },
  {
   "cell_type": "code",
   "execution_count": null,
   "metadata": {
    "collapsed": true
   },
   "outputs": [],
   "source": [
    "ax = sns.factorplot(y='PCT_READS_MAPPED_TO_AMPLICONS_FROM_ALIGNED_READS', data=dfMetTP2, kind=\"box\", palette=['gray'])\n",
    "ax = sns.swarmplot(x=[\"\"]*len(dfMetTP2), y='PCT_READS_MAPPED_TO_AMPLICONS_FROM_ALIGNED_READS', data=dfMetTP2, alpha=1, size=2,\n",
    "              hue='IFC_no', palette=[F_teal, F_magenta, F_purple])\n",
    "\n",
    "# plot our cutoff line\n",
    "plt.plot([-.5, 0.5], [0.95, 0.95], linewidth=1, linestyle='dashed', color='black', alpha=0.5)\n",
    "\n",
    "# for changing axes Seaborn's barplot returns an axis-object (not a figure). This means you can do the following: \n",
    "ax.set(title='% Reads Mapped to Target from Aligned Reads', ylabel='common y-label')  \n",
    "plt.ylim(0.94, 1)   # matplotlib function\n",
    "\n",
    "\n",
    "sns.set(font='Proxima Nova')\n",
    "sns.set_style(style='white')"
   ]
  },
  {
   "cell_type": "code",
   "execution_count": null,
   "metadata": {
    "collapsed": true
   },
   "outputs": [],
   "source": [
    "# saving a figure\n",
    "plt.savefig('pctReadsMappedToGenome_boxplot_byIFC_noScatter.png', dpi=400)"
   ]
  },
  {
   "cell_type": "code",
   "execution_count": null,
   "metadata": {
    "collapsed": true
   },
   "outputs": [],
   "source": [
    "# prevent saving from cutting off figure\n",
    "\n",
    "figure.autolayout : True\n",
    "    \n",
    "    \n",
    "from matplotlib import rcParams\n",
    "rcParams.update({'figure.autolayout': True})"
   ]
  },
  {
   "cell_type": "markdown",
   "metadata": {},
   "source": [
    "### quickly making visuals\n",
    "https://www.analyticsvidhya.com/blog/2016/01/12-pandas-techniques-python-data-manipulation/"
   ]
  },
  {
   "cell_type": "code",
   "execution_count": null,
   "metadata": {
    "collapsed": true
   },
   "outputs": [],
   "source": [
    "import matplotlib.pyplot as plt\n",
    "%matplotlib inline\n",
    "# quick boxplot check\n",
    "data.boxplot(column=\"ApplicantIncome\",by=\"Loan_Status\")"
   ]
  },
  {
   "cell_type": "code",
   "execution_count": null,
   "metadata": {
    "collapsed": true
   },
   "outputs": [],
   "source": [
    "# quick histogram check\n",
    "dfMetTP2_b.hist(column='PCT_READS_MAPPED_TO_GENOME', by='IFC_no')"
   ]
  },
  {
   "cell_type": "code",
   "execution_count": null,
   "metadata": {
    "collapsed": true
   },
   "outputs": [],
   "source": []
  },
  {
   "cell_type": "markdown",
   "metadata": {},
   "source": [
    "# Statistics"
   ]
  },
  {
   "cell_type": "markdown",
   "metadata": {},
   "source": [
    "### Making simulated histograms"
   ]
  },
  {
   "cell_type": "code",
   "execution_count": 18,
   "metadata": {},
   "outputs": [
    {
     "data": {
      "image/png": "[encoded data removed]",
      "text/plain": [
       "<matplotlib.figure.Figure at 0x2db721d0e80>"
      ]
     },
     "metadata": {},
     "output_type": "display_data"
    }
   ],
   "source": [
    "# generate a set of numbers that can replicate a hypothetical bioanalyzer data\n",
    "\n",
    "#k1 = np.random.normal(loc=35.0, scale=5, size=35)   # marker 1\n",
    "k2 = np.random.normal(loc=25.0, scale=5, size=800)   # primers\n",
    "k3 = np.random.normal(loc=75.0, scale=10, size=300)    # primer dimers\n",
    "k4 = np.random.normal(loc=150.0, scale=30, size=40)    # desired peak 1\n",
    "k5 = np.random.normal(loc=300.0, scale=40, size=30)    # desired peak 2\n",
    "k6 = np.random.normal(loc=400.0, scale=40, size=40)    # genomic\n",
    "k7 = np.random.normal(loc=500.0, scale=40, size=50)    # genomic\n",
    "k8 = np.random.normal(loc=600.0, scale=40, size=40)    # genomic\n",
    "k8 = np.random.normal(loc=700.0, scale=40, size=40)    # genomic\n",
    "k8 = np.random.normal(loc=800.0, scale=40, size=40)    # genomic\n",
    "k8 = np.random.normal(loc=900.0, scale=40, size=40)    # genomic\n",
    "k9 = np.random.normal(loc=1000, scale=40, size=30)   \n",
    "k10 = np.random.normal(loc=1100, scale=40, size=30)   \n",
    "k11 = np.random.normal(loc=1200, scale=40, size=30)   \n",
    "k12 = np.random.normal(loc=1400, scale=40, size=30)   \n",
    "kC = np.concatenate([k2, k3, k3, k4, k5, k6, k7, k8, k9, k10, k11, k12])\n",
    "# plot as a histogram\n",
    "# x = np.random.normal(size=100)\n",
    "ax = sns.distplot(kC, hist=True, kde=False, bins=100, hist_kws={\"alpha\": 0.25, \"color\":F_purple});\n",
    "sns.set(font='Proxima Nova')\n",
    "sns.set_style(style='white')\n",
    "\n",
    "#ax.set_xlabel('No. of bases')\n",
    "#plt.savefig('updatedPrimerDimer_bioA.png', dpi=400)"
   ]
  },
  {
   "cell_type": "code",
   "execution_count": null,
   "metadata": {
    "collapsed": true
   },
   "outputs": [],
   "source": [
    "import scipy.stats as stats\n",
    "\n",
    "statsTest = stats.f_oneway\n",
    "df = dfMetTP2.copy()\n",
    "colMetric = 'PCT_READS_MAPPED_TO_GENOME'\n",
    "grpCol = 'IFC_no'\n",
    "dfForStats = df.pivot(columns=grpCol, values=colMetric)\n",
    " \n",
    "stats.f_oneway(dfForStats.iloc[:,0].dropna(), dfForStats.iloc[:,1].dropna(), dfForStats.iloc[:,2].dropna())"
   ]
  },
  {
   "cell_type": "code",
   "execution_count": null,
   "metadata": {
    "collapsed": true
   },
   "outputs": [],
   "source": []
  },
  {
   "cell_type": "markdown",
   "metadata": {},
   "source": [
    "### Python Coursera"
   ]
  },
  {
   "cell_type": "code",
   "execution_count": 31,
   "metadata": {},
   "outputs": [
    {
     "data": {
      "image/png": "[encoded data removed]",
      "text/plain": [
       "<matplotlib.figure.Figure at 0x2db70a3d908>"
      ]
     },
     "metadata": {},
     "output_type": "display_data"
    }
   ],
   "source": [
    "import matplotlib.pyplot as plt\n",
    "import numpy as np\n",
    "\n",
    "plt.figure()\n",
    "\n",
    "languages =['Python', 'SQL', 'Java', 'C++', 'JavaScript']\n",
    "pos = np.arange(len(languages))\n",
    "popularity = [56, 39, 34, 34, 29]\n",
    "\n",
    "plt.bar(pos, popularity, align='center')\n",
    "plt.xticks(pos, languages)\n",
    "plt.ylabel('% Popularity')\n",
    "plt.title('Top 5 Languages for Math & Data \\nby % popularity on Stack Overflow', alpha=0.8)\n",
    "\n",
    "#TODO: remove all the ticks (both axes), and tick labels on the Y axis\n",
    "# remove all the ticks (both axes), and tick labels on the Y axis\n",
    "plt.tick_params(top='on', bottom='on', left='off', right='off', labelleft='on', labelbottom='on')\n",
    "\n",
    "# remove the frame of the chart\n",
    "for spine in plt.gca().spines.values():\n",
    "    spine.set_visible(False)\n",
    "plt.show()\n"
   ]
  },
  {
   "cell_type": "code",
   "execution_count": 33,
   "metadata": {
    "collapsed": true
   },
   "outputs": [
    {
     "name": "stdout",
     "output_type": "stream",
     "text": [
      "Spine\n",
      "Spine\n",
      "Spine\n",
      "Spine\n"
     ]
    },
    {
     "data": {
      "image/png": "[encoded data removed]",
      "text/plain": [
       "<matplotlib.figure.Figure at 0x2db71c29080>"
      ]
     },
     "metadata": {},
     "output_type": "display_data"
    }
   ],
   "source": [
    "for spine in plt.gca().spines.values():\n",
    "    print(spine)"
   ]
  },
  {
   "cell_type": "code",
   "execution_count": 34,
   "metadata": {
    "scrolled": true
   },
   "outputs": [
    {
     "data": {
      "image/png": "[encoded data removed]",
      "text/plain": [
       "<matplotlib.figure.Figure at 0x2db72040dd8>"
      ]
     },
     "metadata": {},
     "output_type": "display_data"
    }
   ],
   "source": [
    "# dejunkified plot\n",
    "\n",
    "import matplotlib.pyplot as plt\n",
    "import numpy as np\n",
    "\n",
    "plt.figure()\n",
    "\n",
    "languages =['Python', 'SQL', 'Java', 'C++', 'JavaScript']\n",
    "pos = np.arange(len(languages))\n",
    "popularity = [56, 39, 34, 34, 29]\n",
    "\n",
    "# change the bar color to be less bright blue\n",
    "bars = plt.bar(pos, popularity, align='center', linewidth=0, color='lightslategrey')\n",
    "# make one bar, the python bar, a contrasting color\n",
    "bars[0].set_color('#1F77B4')\n",
    "\n",
    "# soften all labels by turning grey\n",
    "plt.xticks(pos, languages, alpha=0.8)\n",
    "# remove the Y label since bars are directly labeled\n",
    "#plt.ylabel('% Popularity', alpha=0.8)\n",
    "plt.title('Top 5 Languages for Math & Data \\nby % popularity on Stack Overflow', alpha=0.8)\n",
    "\n",
    "# remove all the ticks (both axes), and tick labels on the Y axis\n",
    "plt.tick_params(top='off', bottom='off', left='off', right='off', labelleft='off', labelbottom='on')\n",
    "\n",
    "# remove the frame of the chart\n",
    "for spine in plt.gca().spines.values():\n",
    "    spine.set_visible(False)\n",
    "    \n",
    "# direct label each bar with Y axis values\n",
    "for bar in bars:\n",
    "    plt.gca().text(bar.get_x() + bar.get_width()/2, bar.get_height() - 5, str(int(bar.get_height())) + '%', \n",
    "                 ha='center', color='w', fontsize=11)\n",
    "plt.show()"
   ]
  },
  {
   "cell_type": "code",
   "execution_count": null,
   "metadata": {
    "collapsed": true
   },
   "outputs": [],
   "source": []
  },
  {
   "cell_type": "code",
   "execution_count": 39,
   "metadata": {
    "collapsed": true,
    "scrolled": false
   },
   "outputs": [],
   "source": [
    "### importing HTML table into pandas\n",
    "import pandas as pd\n",
    "\n",
    "url = 'https://en.wikipedia.org/wiki/List_of_San_Diego_Padres_seasons'\n",
    "# but this can't find the table\n",
    "data = pd.read_html(url, header=0)\n",
    "\n",
    "# remove the footers too\n",
    "df_winPerc = data[1].head(49)"
   ]
  },
  {
   "cell_type": "code",
   "execution_count": 44,
   "metadata": {
    "collapsed": true
   },
   "outputs": [],
   "source": [
    "# get the salary info\n",
    "\n",
    "url = 'http://www.baseballprospectus.com/compensation/?cyear=2017&team=SDN&pos='\n",
    "# but this can't find the table\n",
    "data = pd.read_html(url, header=0)\n",
    "\n",
    "df = data[1].iloc[36:,:]\n",
    "df.columns = df.iloc[0]"
   ]
  },
  {
   "cell_type": "code",
   "execution_count": 65,
   "metadata": {
    "collapsed": true
   },
   "outputs": [],
   "source": [
    "df_Payroll = df.drop(36, axis=0).drop(['PR Sort', 'Diff', 'AvgPR Sort', 'Diff Sort'], axis=1).iloc[:, :3]"
   ]
  },
  {
   "cell_type": "code",
   "execution_count": 66,
   "metadata": {
    "collapsed": true
   },
   "outputs": [
    {
     "data": {
      "text/html": [
       "<div>\n",
       "<style>\n",
       "    .dataframe thead tr:only-child th {\n",
       "        text-align: right;\n",
       "    }\n",
       "\n",
       "    .dataframe thead th {\n",
       "        text-align: left;\n",
       "    }\n",
       "\n",
       "    .dataframe tbody tr th {\n",
       "        vertical-align: top;\n",
       "    }\n",
       "</style>\n",
       "<table border=\"1\" class=\"dataframe\">\n",
       "  <thead>\n",
       "    <tr style=\"text-align: right;\">\n",
       "      <th>36</th>\n",
       "      <th>Year</th>\n",
       "      <th>Padres payroll</th>\n",
       "      <th>Avg payroll</th>\n",
       "    </tr>\n",
       "  </thead>\n",
       "  <tbody>\n",
       "    <tr>\n",
       "      <th>37</th>\n",
       "      <td>1996</td>\n",
       "      <td>$2,000,000</td>\n",
       "      <td>$4,583,416</td>\n",
       "    </tr>\n",
       "    <tr>\n",
       "      <th>38</th>\n",
       "      <td>1997</td>\n",
       "      <td>$2,000,000</td>\n",
       "      <td>$4,892,222</td>\n",
       "    </tr>\n",
       "    <tr>\n",
       "      <th>39</th>\n",
       "      <td>2000</td>\n",
       "      <td>$53,816,000</td>\n",
       "      <td>$57,548,235</td>\n",
       "    </tr>\n",
       "    <tr>\n",
       "      <th>40</th>\n",
       "      <td>2001</td>\n",
       "      <td>$37,438,000</td>\n",
       "      <td>$67,152,893</td>\n",
       "    </tr>\n",
       "    <tr>\n",
       "      <th>41</th>\n",
       "      <td>2002</td>\n",
       "      <td>$40,678,000</td>\n",
       "      <td>$69,249,884</td>\n",
       "    </tr>\n",
       "  </tbody>\n",
       "</table>\n",
       "</div>"
      ],
      "text/plain": [
       "36  Year Padres payroll  Avg payroll\n",
       "37  1996     $2,000,000   $4,583,416\n",
       "38  1997     $2,000,000   $4,892,222\n",
       "39  2000    $53,816,000  $57,548,235\n",
       "40  2001    $37,438,000  $67,152,893\n",
       "41  2002    $40,678,000  $69,249,884"
      ]
     },
     "execution_count": 66,
     "metadata": {},
     "output_type": "execute_result"
    }
   ],
   "source": [
    "df_Payroll.head()"
   ]
  },
  {
   "cell_type": "code",
   "execution_count": 67,
   "metadata": {
    "collapsed": true
   },
   "outputs": [
    {
     "data": {
      "text/html": [
       "<div>\n",
       "<style>\n",
       "    .dataframe thead tr:only-child th {\n",
       "        text-align: right;\n",
       "    }\n",
       "\n",
       "    .dataframe thead th {\n",
       "        text-align: left;\n",
       "    }\n",
       "\n",
       "    .dataframe tbody tr th {\n",
       "        vertical-align: top;\n",
       "    }\n",
       "</style>\n",
       "<table border=\"1\" class=\"dataframe\">\n",
       "  <thead>\n",
       "    <tr style=\"text-align: right;\">\n",
       "      <th></th>\n",
       "      <th>Season</th>\n",
       "      <th>Level</th>\n",
       "      <th>League</th>\n",
       "      <th>Division</th>\n",
       "      <th>Finish</th>\n",
       "      <th>Wins</th>\n",
       "      <th>Losses</th>\n",
       "      <th>Win%</th>\n",
       "      <th>GB</th>\n",
       "      <th>Postseason</th>\n",
       "      <th>Awards</th>\n",
       "    </tr>\n",
       "  </thead>\n",
       "  <tbody>\n",
       "    <tr>\n",
       "      <th>0</th>\n",
       "      <td>1969</td>\n",
       "      <td>MLB</td>\n",
       "      <td>NL</td>\n",
       "      <td>West</td>\n",
       "      <td>6th</td>\n",
       "      <td>52.0</td>\n",
       "      <td>110.0</td>\n",
       "      <td>0.321</td>\n",
       "      <td>41</td>\n",
       "      <td>NaN</td>\n",
       "      <td>NaN</td>\n",
       "    </tr>\n",
       "    <tr>\n",
       "      <th>1</th>\n",
       "      <td>1970</td>\n",
       "      <td>MLB</td>\n",
       "      <td>NL</td>\n",
       "      <td>West</td>\n",
       "      <td>6th</td>\n",
       "      <td>63.0</td>\n",
       "      <td>99.0</td>\n",
       "      <td>0.389</td>\n",
       "      <td>39</td>\n",
       "      <td>NaN</td>\n",
       "      <td>NaN</td>\n",
       "    </tr>\n",
       "    <tr>\n",
       "      <th>2</th>\n",
       "      <td>1971</td>\n",
       "      <td>MLB</td>\n",
       "      <td>NL</td>\n",
       "      <td>West</td>\n",
       "      <td>6th</td>\n",
       "      <td>61.0</td>\n",
       "      <td>100.0</td>\n",
       "      <td>0.379</td>\n",
       "      <td>28½</td>\n",
       "      <td>NaN</td>\n",
       "      <td>NaN</td>\n",
       "    </tr>\n",
       "    <tr>\n",
       "      <th>3</th>\n",
       "      <td>1972</td>\n",
       "      <td>MLB</td>\n",
       "      <td>NL</td>\n",
       "      <td>West</td>\n",
       "      <td>6th</td>\n",
       "      <td>58.0</td>\n",
       "      <td>95.0</td>\n",
       "      <td>0.379</td>\n",
       "      <td>36½</td>\n",
       "      <td>NaN</td>\n",
       "      <td>NaN</td>\n",
       "    </tr>\n",
       "    <tr>\n",
       "      <th>4</th>\n",
       "      <td>1973</td>\n",
       "      <td>MLB</td>\n",
       "      <td>NL</td>\n",
       "      <td>West</td>\n",
       "      <td>6th</td>\n",
       "      <td>60.0</td>\n",
       "      <td>102.0</td>\n",
       "      <td>0.370</td>\n",
       "      <td>39</td>\n",
       "      <td>NaN</td>\n",
       "      <td>NaN</td>\n",
       "    </tr>\n",
       "  </tbody>\n",
       "</table>\n",
       "</div>"
      ],
      "text/plain": [
       "  Season Level League Division Finish  Wins  Losses   Win%   GB Postseason  \\\n",
       "0   1969   MLB     NL     West    6th  52.0   110.0  0.321   41        NaN   \n",
       "1   1970   MLB     NL     West    6th  63.0    99.0  0.389   39        NaN   \n",
       "2   1971   MLB     NL     West    6th  61.0   100.0  0.379  28½        NaN   \n",
       "3   1972   MLB     NL     West    6th  58.0    95.0  0.379  36½        NaN   \n",
       "4   1973   MLB     NL     West    6th  60.0   102.0  0.370   39        NaN   \n",
       "\n",
       "  Awards  \n",
       "0    NaN  \n",
       "1    NaN  \n",
       "2    NaN  \n",
       "3    NaN  \n",
       "4    NaN  "
      ]
     },
     "execution_count": 67,
     "metadata": {},
     "output_type": "execute_result"
    }
   ],
   "source": [
    "df_winPerc.head()"
   ]
  },
  {
   "cell_type": "code",
   "execution_count": 69,
   "metadata": {
    "collapsed": true
   },
   "outputs": [],
   "source": [
    "df_all = pd.merge(df_winPerc, df_Payroll, how='inner', left_on='Season', right_on='Year')"
   ]
  },
  {
   "cell_type": "code",
   "execution_count": 70,
   "metadata": {},
   "outputs": [
    {
     "data": {
      "text/html": [
       "<div>\n",
       "<style>\n",
       "    .dataframe thead tr:only-child th {\n",
       "        text-align: right;\n",
       "    }\n",
       "\n",
       "    .dataframe thead th {\n",
       "        text-align: left;\n",
       "    }\n",
       "\n",
       "    .dataframe tbody tr th {\n",
       "        vertical-align: top;\n",
       "    }\n",
       "</style>\n",
       "<table border=\"1\" class=\"dataframe\">\n",
       "  <thead>\n",
       "    <tr style=\"text-align: right;\">\n",
       "      <th></th>\n",
       "      <th>Season</th>\n",
       "      <th>Level</th>\n",
       "      <th>League</th>\n",
       "      <th>Division</th>\n",
       "      <th>Finish</th>\n",
       "      <th>Wins</th>\n",
       "      <th>Losses</th>\n",
       "      <th>Win%</th>\n",
       "      <th>GB</th>\n",
       "      <th>Postseason</th>\n",
       "      <th>Awards</th>\n",
       "      <th>Year</th>\n",
       "      <th>Padres payroll</th>\n",
       "      <th>Avg payroll</th>\n",
       "    </tr>\n",
       "  </thead>\n",
       "  <tbody>\n",
       "    <tr>\n",
       "      <th>0</th>\n",
       "      <td>1996</td>\n",
       "      <td>MLB</td>\n",
       "      <td>NL</td>\n",
       "      <td>West ^</td>\n",
       "      <td>1st</td>\n",
       "      <td>91.0</td>\n",
       "      <td>71.0</td>\n",
       "      <td>0.562</td>\n",
       "      <td>—</td>\n",
       "      <td>Lost NLDS (Cardinals) 3–0</td>\n",
       "      <td>Ken Caminiti (MVP) Bruce Bochy (MOY)</td>\n",
       "      <td>1996</td>\n",
       "      <td>$2,000,000</td>\n",
       "      <td>$4,583,416</td>\n",
       "    </tr>\n",
       "    <tr>\n",
       "      <th>1</th>\n",
       "      <td>1997</td>\n",
       "      <td>MLB</td>\n",
       "      <td>NL</td>\n",
       "      <td>West</td>\n",
       "      <td>4th</td>\n",
       "      <td>76.0</td>\n",
       "      <td>86.0</td>\n",
       "      <td>0.469</td>\n",
       "      <td>14</td>\n",
       "      <td>NaN</td>\n",
       "      <td>NaN</td>\n",
       "      <td>1997</td>\n",
       "      <td>$2,000,000</td>\n",
       "      <td>$4,892,222</td>\n",
       "    </tr>\n",
       "    <tr>\n",
       "      <th>2</th>\n",
       "      <td>2000</td>\n",
       "      <td>MLB</td>\n",
       "      <td>NL</td>\n",
       "      <td>West</td>\n",
       "      <td>5th</td>\n",
       "      <td>76.0</td>\n",
       "      <td>86.0</td>\n",
       "      <td>0.469</td>\n",
       "      <td>21</td>\n",
       "      <td>NaN</td>\n",
       "      <td>NaN</td>\n",
       "      <td>2000</td>\n",
       "      <td>$53,816,000</td>\n",
       "      <td>$57,548,235</td>\n",
       "    </tr>\n",
       "    <tr>\n",
       "      <th>3</th>\n",
       "      <td>2001</td>\n",
       "      <td>MLB</td>\n",
       "      <td>NL</td>\n",
       "      <td>West</td>\n",
       "      <td>4th</td>\n",
       "      <td>79.0</td>\n",
       "      <td>83.0</td>\n",
       "      <td>0.488</td>\n",
       "      <td>13</td>\n",
       "      <td>NaN</td>\n",
       "      <td>NaN</td>\n",
       "      <td>2001</td>\n",
       "      <td>$37,438,000</td>\n",
       "      <td>$67,152,893</td>\n",
       "    </tr>\n",
       "    <tr>\n",
       "      <th>4</th>\n",
       "      <td>2002</td>\n",
       "      <td>MLB</td>\n",
       "      <td>NL</td>\n",
       "      <td>West</td>\n",
       "      <td>5th</td>\n",
       "      <td>66.0</td>\n",
       "      <td>96.0</td>\n",
       "      <td>0.407</td>\n",
       "      <td>32</td>\n",
       "      <td>NaN</td>\n",
       "      <td>NaN</td>\n",
       "      <td>2002</td>\n",
       "      <td>$40,678,000</td>\n",
       "      <td>$69,249,884</td>\n",
       "    </tr>\n",
       "  </tbody>\n",
       "</table>\n",
       "</div>"
      ],
      "text/plain": [
       "  Season Level League Division Finish  Wins  Losses   Win%  GB  \\\n",
       "0   1996   MLB     NL   West ^    1st  91.0    71.0  0.562   —   \n",
       "1   1997   MLB     NL     West    4th  76.0    86.0  0.469  14   \n",
       "2   2000   MLB     NL     West    5th  76.0    86.0  0.469  21   \n",
       "3   2001   MLB     NL     West    4th  79.0    83.0  0.488  13   \n",
       "4   2002   MLB     NL     West    5th  66.0    96.0  0.407  32   \n",
       "\n",
       "                  Postseason                                Awards  Year  \\\n",
       "0  Lost NLDS (Cardinals) 3–0  Ken Caminiti (MVP) Bruce Bochy (MOY)  1996   \n",
       "1                        NaN                                   NaN  1997   \n",
       "2                        NaN                                   NaN  2000   \n",
       "3                        NaN                                   NaN  2001   \n",
       "4                        NaN                                   NaN  2002   \n",
       "\n",
       "  Padres payroll  Avg payroll  \n",
       "0     $2,000,000   $4,583,416  \n",
       "1     $2,000,000   $4,892,222  \n",
       "2    $53,816,000  $57,548,235  \n",
       "3    $37,438,000  $67,152,893  \n",
       "4    $40,678,000  $69,249,884  "
      ]
     },
     "execution_count": 70,
     "metadata": {},
     "output_type": "execute_result"
    }
   ],
   "source": [
    "df_all.head()"
   ]
  },
  {
   "cell_type": "code",
   "execution_count": 77,
   "metadata": {
    "collapsed": true
   },
   "outputs": [],
   "source": [
    "\n",
    "# convert currencies to float\n",
    "df_all['Padres payroll'] = df_all['Padres payroll'].str.replace('$', '').str.replace(',','').astype(float)\n",
    "df_all['Avg payroll'] = df_all['Avg payroll'].str.replace('$', '').str.replace(',','').astype(float)\n"
   ]
  },
  {
   "cell_type": "code",
   "execution_count": 78,
   "metadata": {
    "collapsed": true
   },
   "outputs": [],
   "source": [
    "df_all['Padres Payroll % of MLB average'] = df_all['Padres payroll']/df_all['Avg payroll']"
   ]
  },
  {
   "cell_type": "code",
   "execution_count": 86,
   "metadata": {
    "collapsed": true
   },
   "outputs": [],
   "source": [
    "# start at 2000s to since no data is available for 1998, 1999\n",
    "df_all = df_all.iloc[2:,:]"
   ]
  },
  {
   "cell_type": "code",
   "execution_count": 89,
   "metadata": {},
   "outputs": [
    {
     "name": "stderr",
     "output_type": "stream",
     "text": [
      "C:\\Users\\Benjamin.Lacar\\AppData\\Local\\Continuum\\Anaconda3_v440\\lib\\site-packages\\ipykernel_launcher.py:1: SettingWithCopyWarning: \n",
      "A value is trying to be set on a copy of a slice from a DataFrame.\n",
      "Try using .loc[row_indexer,col_indexer] = value instead\n",
      "\n",
      "See the caveats in the documentation: http://pandas.pydata.org/pandas-docs/stable/indexing.html#indexing-view-versus-copy\n",
      "  \"\"\"Entry point for launching an IPython kernel.\n"
     ]
    }
   ],
   "source": [
    "df_all['Season'] = pd.to_datetime(df_all['Season'])"
   ]
  },
  {
   "cell_type": "code",
   "execution_count": 95,
   "metadata": {
    "collapsed": true
   },
   "outputs": [],
   "source": [
    "df_all.set_index('Season', inplace=True)"
   ]
  },
  {
   "cell_type": "code",
   "execution_count": 97,
   "metadata": {},
   "outputs": [
    {
     "data": {
      "text/plain": [
       "DatetimeIndex(['2000-01-01', '2001-01-01', '2002-01-01', '2003-01-01',\n",
       "               '2004-01-01', '2005-01-01', '2006-01-01', '2007-01-01',\n",
       "               '2008-01-01', '2009-01-01', '2010-01-01', '2011-01-01',\n",
       "               '2012-01-01', '2013-01-01', '2014-01-01', '2015-01-01',\n",
       "               '2016-01-01'],\n",
       "              dtype='datetime64[ns]', name='Season', freq=None)"
      ]
     },
     "execution_count": 97,
     "metadata": {},
     "output_type": "execute_result"
    }
   ],
   "source": [
    "df_all.index"
   ]
  },
  {
   "cell_type": "code",
   "execution_count": 207,
   "metadata": {},
   "outputs": [
    {
     "data": {
      "text/html": [
       "<div>\n",
       "<style>\n",
       "    .dataframe thead tr:only-child th {\n",
       "        text-align: right;\n",
       "    }\n",
       "\n",
       "    .dataframe thead th {\n",
       "        text-align: left;\n",
       "    }\n",
       "\n",
       "    .dataframe tbody tr th {\n",
       "        vertical-align: top;\n",
       "    }\n",
       "</style>\n",
       "<table border=\"1\" class=\"dataframe\">\n",
       "  <thead>\n",
       "    <tr style=\"text-align: right;\">\n",
       "      <th></th>\n",
       "      <th>Level</th>\n",
       "      <th>League</th>\n",
       "      <th>Division</th>\n",
       "      <th>Finish</th>\n",
       "      <th>Wins</th>\n",
       "      <th>Losses</th>\n",
       "      <th>Win%</th>\n",
       "      <th>GB</th>\n",
       "      <th>Postseason</th>\n",
       "      <th>Awards</th>\n",
       "      <th>Year</th>\n",
       "      <th>Padres payroll</th>\n",
       "      <th>Avg payroll</th>\n",
       "      <th>Padres Payroll % of MLB average</th>\n",
       "    </tr>\n",
       "    <tr>\n",
       "      <th>Season</th>\n",
       "      <th></th>\n",
       "      <th></th>\n",
       "      <th></th>\n",
       "      <th></th>\n",
       "      <th></th>\n",
       "      <th></th>\n",
       "      <th></th>\n",
       "      <th></th>\n",
       "      <th></th>\n",
       "      <th></th>\n",
       "      <th></th>\n",
       "      <th></th>\n",
       "      <th></th>\n",
       "      <th></th>\n",
       "    </tr>\n",
       "  </thead>\n",
       "  <tbody>\n",
       "    <tr>\n",
       "      <th>2000-01-01</th>\n",
       "      <td>MLB</td>\n",
       "      <td>NL</td>\n",
       "      <td>West</td>\n",
       "      <td>5th</td>\n",
       "      <td>76.0</td>\n",
       "      <td>86.0</td>\n",
       "      <td>0.469</td>\n",
       "      <td>21</td>\n",
       "      <td>NaN</td>\n",
       "      <td>NaN</td>\n",
       "      <td>2000</td>\n",
       "      <td>53816000.0</td>\n",
       "      <td>57548235.0</td>\n",
       "      <td>0.935146</td>\n",
       "    </tr>\n",
       "    <tr>\n",
       "      <th>2001-01-01</th>\n",
       "      <td>MLB</td>\n",
       "      <td>NL</td>\n",
       "      <td>West</td>\n",
       "      <td>4th</td>\n",
       "      <td>79.0</td>\n",
       "      <td>83.0</td>\n",
       "      <td>0.488</td>\n",
       "      <td>13</td>\n",
       "      <td>NaN</td>\n",
       "      <td>NaN</td>\n",
       "      <td>2001</td>\n",
       "      <td>37438000.0</td>\n",
       "      <td>67152893.0</td>\n",
       "      <td>0.557504</td>\n",
       "    </tr>\n",
       "    <tr>\n",
       "      <th>2002-01-01</th>\n",
       "      <td>MLB</td>\n",
       "      <td>NL</td>\n",
       "      <td>West</td>\n",
       "      <td>5th</td>\n",
       "      <td>66.0</td>\n",
       "      <td>96.0</td>\n",
       "      <td>0.407</td>\n",
       "      <td>32</td>\n",
       "      <td>NaN</td>\n",
       "      <td>NaN</td>\n",
       "      <td>2002</td>\n",
       "      <td>40678000.0</td>\n",
       "      <td>69249884.0</td>\n",
       "      <td>0.587409</td>\n",
       "    </tr>\n",
       "    <tr>\n",
       "      <th>2003-01-01</th>\n",
       "      <td>MLB</td>\n",
       "      <td>NL</td>\n",
       "      <td>West</td>\n",
       "      <td>5th</td>\n",
       "      <td>64.0</td>\n",
       "      <td>98.0</td>\n",
       "      <td>0.395</td>\n",
       "      <td>36½</td>\n",
       "      <td>NaN</td>\n",
       "      <td>NaN</td>\n",
       "      <td>2003</td>\n",
       "      <td>43565000.0</td>\n",
       "      <td>72210211.0</td>\n",
       "      <td>0.603308</td>\n",
       "    </tr>\n",
       "    <tr>\n",
       "      <th>2004-01-01</th>\n",
       "      <td>MLB</td>\n",
       "      <td>NL</td>\n",
       "      <td>West</td>\n",
       "      <td>3rd</td>\n",
       "      <td>87.0</td>\n",
       "      <td>75.0</td>\n",
       "      <td>0.537</td>\n",
       "      <td>6</td>\n",
       "      <td>NaN</td>\n",
       "      <td>NaN</td>\n",
       "      <td>2004</td>\n",
       "      <td>59172333.0</td>\n",
       "      <td>71437964.0</td>\n",
       "      <td>0.828304</td>\n",
       "    </tr>\n",
       "    <tr>\n",
       "      <th>2005-01-01</th>\n",
       "      <td>MLB</td>\n",
       "      <td>NL</td>\n",
       "      <td>West ^</td>\n",
       "      <td>1st</td>\n",
       "      <td>82.0</td>\n",
       "      <td>80.0</td>\n",
       "      <td>0.506</td>\n",
       "      <td>—</td>\n",
       "      <td>Lost NLDS (Cardinals) 3–0</td>\n",
       "      <td>NaN</td>\n",
       "      <td>2005</td>\n",
       "      <td>62186333.0</td>\n",
       "      <td>73700583.0</td>\n",
       "      <td>0.843770</td>\n",
       "    </tr>\n",
       "    <tr>\n",
       "      <th>2006-01-01</th>\n",
       "      <td>MLB</td>\n",
       "      <td>NL</td>\n",
       "      <td>West ^</td>\n",
       "      <td>1st</td>\n",
       "      <td>88.0</td>\n",
       "      <td>74.0</td>\n",
       "      <td>0.543</td>\n",
       "      <td>—</td>\n",
       "      <td>Lost NLDS (Cardinals) 3–1</td>\n",
       "      <td>NaN</td>\n",
       "      <td>2006</td>\n",
       "      <td>69170167.0</td>\n",
       "      <td>81320418.0</td>\n",
       "      <td>0.850588</td>\n",
       "    </tr>\n",
       "    <tr>\n",
       "      <th>2007-01-01</th>\n",
       "      <td>MLB</td>\n",
       "      <td>NL</td>\n",
       "      <td>West</td>\n",
       "      <td>3rd</td>\n",
       "      <td>89.0</td>\n",
       "      <td>74.0</td>\n",
       "      <td>0.546</td>\n",
       "      <td>1½</td>\n",
       "      <td>NaN</td>\n",
       "      <td>Jake Peavy (CYA)</td>\n",
       "      <td>2007</td>\n",
       "      <td>58571067.0</td>\n",
       "      <td>85813074.0</td>\n",
       "      <td>0.682542</td>\n",
       "    </tr>\n",
       "    <tr>\n",
       "      <th>2008-01-01</th>\n",
       "      <td>MLB</td>\n",
       "      <td>NL</td>\n",
       "      <td>West</td>\n",
       "      <td>5th</td>\n",
       "      <td>63.0</td>\n",
       "      <td>99.0</td>\n",
       "      <td>0.389</td>\n",
       "      <td>21</td>\n",
       "      <td>NaN</td>\n",
       "      <td>NaN</td>\n",
       "      <td>2008</td>\n",
       "      <td>74010117.0</td>\n",
       "      <td>93345041.0</td>\n",
       "      <td>0.792866</td>\n",
       "    </tr>\n",
       "    <tr>\n",
       "      <th>2009-01-01</th>\n",
       "      <td>MLB</td>\n",
       "      <td>NL</td>\n",
       "      <td>West</td>\n",
       "      <td>4th</td>\n",
       "      <td>75.0</td>\n",
       "      <td>87.0</td>\n",
       "      <td>0.463</td>\n",
       "      <td>20</td>\n",
       "      <td>NaN</td>\n",
       "      <td>NaN</td>\n",
       "      <td>2009</td>\n",
       "      <td>44173200.0</td>\n",
       "      <td>93808721.0</td>\n",
       "      <td>0.470886</td>\n",
       "    </tr>\n",
       "    <tr>\n",
       "      <th>2010-01-01</th>\n",
       "      <td>MLB</td>\n",
       "      <td>NL</td>\n",
       "      <td>West</td>\n",
       "      <td>2nd</td>\n",
       "      <td>90.0</td>\n",
       "      <td>72.0</td>\n",
       "      <td>0.555</td>\n",
       "      <td>2</td>\n",
       "      <td>NaN</td>\n",
       "      <td>Heath Bell (ROY) Bud Black (MOY)</td>\n",
       "      <td>2010</td>\n",
       "      <td>37799300.0</td>\n",
       "      <td>95698261.0</td>\n",
       "      <td>0.394984</td>\n",
       "    </tr>\n",
       "    <tr>\n",
       "      <th>2011-01-01</th>\n",
       "      <td>MLB</td>\n",
       "      <td>NL</td>\n",
       "      <td>West</td>\n",
       "      <td>5th</td>\n",
       "      <td>71.0</td>\n",
       "      <td>91.0</td>\n",
       "      <td>0.435</td>\n",
       "      <td>23</td>\n",
       "      <td>NaN</td>\n",
       "      <td>NaN</td>\n",
       "      <td>2011</td>\n",
       "      <td>45869140.0</td>\n",
       "      <td>97450552.0</td>\n",
       "      <td>0.470691</td>\n",
       "    </tr>\n",
       "    <tr>\n",
       "      <th>2012-01-01</th>\n",
       "      <td>MLB</td>\n",
       "      <td>NL</td>\n",
       "      <td>West</td>\n",
       "      <td>4th</td>\n",
       "      <td>76.0</td>\n",
       "      <td>86.0</td>\n",
       "      <td>0.469</td>\n",
       "      <td>18</td>\n",
       "      <td>NaN</td>\n",
       "      <td>NaN</td>\n",
       "      <td>2012</td>\n",
       "      <td>55621900.0</td>\n",
       "      <td>100756166.0</td>\n",
       "      <td>0.552045</td>\n",
       "    </tr>\n",
       "    <tr>\n",
       "      <th>2013-01-01</th>\n",
       "      <td>MLB</td>\n",
       "      <td>NL</td>\n",
       "      <td>West</td>\n",
       "      <td>T-3rd</td>\n",
       "      <td>76.0</td>\n",
       "      <td>86.0</td>\n",
       "      <td>0.469</td>\n",
       "      <td>16</td>\n",
       "      <td>NaN</td>\n",
       "      <td>NaN</td>\n",
       "      <td>2013</td>\n",
       "      <td>68333600.0</td>\n",
       "      <td>106658387.0</td>\n",
       "      <td>0.640677</td>\n",
       "    </tr>\n",
       "    <tr>\n",
       "      <th>2014-01-01</th>\n",
       "      <td>MLB</td>\n",
       "      <td>NL</td>\n",
       "      <td>West</td>\n",
       "      <td>3rd</td>\n",
       "      <td>77.0</td>\n",
       "      <td>85.0</td>\n",
       "      <td>0.475</td>\n",
       "      <td>17</td>\n",
       "      <td>NaN</td>\n",
       "      <td>NaN</td>\n",
       "      <td>2014</td>\n",
       "      <td>90636600.0</td>\n",
       "      <td>115428670.0</td>\n",
       "      <td>0.785217</td>\n",
       "    </tr>\n",
       "    <tr>\n",
       "      <th>2015-01-01</th>\n",
       "      <td>MLB</td>\n",
       "      <td>NL</td>\n",
       "      <td>West</td>\n",
       "      <td>4th</td>\n",
       "      <td>74.0</td>\n",
       "      <td>88.0</td>\n",
       "      <td>0.457</td>\n",
       "      <td>18</td>\n",
       "      <td>NaN</td>\n",
       "      <td>NaN</td>\n",
       "      <td>2015</td>\n",
       "      <td>108387033.0</td>\n",
       "      <td>125458486.0</td>\n",
       "      <td>0.863927</td>\n",
       "    </tr>\n",
       "    <tr>\n",
       "      <th>2016-01-01</th>\n",
       "      <td>MLB</td>\n",
       "      <td>NL</td>\n",
       "      <td>West</td>\n",
       "      <td>5th</td>\n",
       "      <td>68.0</td>\n",
       "      <td>94.0</td>\n",
       "      <td>0.420</td>\n",
       "      <td>23</td>\n",
       "      <td>NaN</td>\n",
       "      <td>NaN</td>\n",
       "      <td>2016</td>\n",
       "      <td>100509500.0</td>\n",
       "      <td>130290910.0</td>\n",
       "      <td>0.771424</td>\n",
       "    </tr>\n",
       "  </tbody>\n",
       "</table>\n",
       "</div>"
      ],
      "text/plain": [
       "           Level League Division Finish  Wins  Losses   Win%   GB  \\\n",
       "Season                                                              \n",
       "2000-01-01   MLB     NL     West    5th  76.0    86.0  0.469   21   \n",
       "2001-01-01   MLB     NL     West    4th  79.0    83.0  0.488   13   \n",
       "2002-01-01   MLB     NL     West    5th  66.0    96.0  0.407   32   \n",
       "2003-01-01   MLB     NL     West    5th  64.0    98.0  0.395  36½   \n",
       "2004-01-01   MLB     NL     West    3rd  87.0    75.0  0.537    6   \n",
       "2005-01-01   MLB     NL   West ^    1st  82.0    80.0  0.506    —   \n",
       "2006-01-01   MLB     NL   West ^    1st  88.0    74.0  0.543    —   \n",
       "2007-01-01   MLB     NL     West    3rd  89.0    74.0  0.546   1½   \n",
       "2008-01-01   MLB     NL     West    5th  63.0    99.0  0.389   21   \n",
       "2009-01-01   MLB     NL     West    4th  75.0    87.0  0.463   20   \n",
       "2010-01-01   MLB     NL     West    2nd  90.0    72.0  0.555    2   \n",
       "2011-01-01   MLB     NL     West    5th  71.0    91.0  0.435   23   \n",
       "2012-01-01   MLB     NL     West    4th  76.0    86.0  0.469   18   \n",
       "2013-01-01   MLB     NL     West  T-3rd  76.0    86.0  0.469   16   \n",
       "2014-01-01   MLB     NL     West    3rd  77.0    85.0  0.475   17   \n",
       "2015-01-01   MLB     NL     West    4th  74.0    88.0  0.457   18   \n",
       "2016-01-01   MLB     NL     West    5th  68.0    94.0  0.420   23   \n",
       "\n",
       "                           Postseason                            Awards  Year  \\\n",
       "Season                                                                          \n",
       "2000-01-01                        NaN                               NaN  2000   \n",
       "2001-01-01                        NaN                               NaN  2001   \n",
       "2002-01-01                        NaN                               NaN  2002   \n",
       "2003-01-01                        NaN                               NaN  2003   \n",
       "2004-01-01                        NaN                               NaN  2004   \n",
       "2005-01-01  Lost NLDS (Cardinals) 3–0                               NaN  2005   \n",
       "2006-01-01  Lost NLDS (Cardinals) 3–1                               NaN  2006   \n",
       "2007-01-01                        NaN                  Jake Peavy (CYA)  2007   \n",
       "2008-01-01                        NaN                               NaN  2008   \n",
       "2009-01-01                        NaN                               NaN  2009   \n",
       "2010-01-01                        NaN  Heath Bell (ROY) Bud Black (MOY)  2010   \n",
       "2011-01-01                        NaN                               NaN  2011   \n",
       "2012-01-01                        NaN                               NaN  2012   \n",
       "2013-01-01                        NaN                               NaN  2013   \n",
       "2014-01-01                        NaN                               NaN  2014   \n",
       "2015-01-01                        NaN                               NaN  2015   \n",
       "2016-01-01                        NaN                               NaN  2016   \n",
       "\n",
       "            Padres payroll  Avg payroll  Padres Payroll % of MLB average  \n",
       "Season                                                                    \n",
       "2000-01-01      53816000.0   57548235.0                         0.935146  \n",
       "2001-01-01      37438000.0   67152893.0                         0.557504  \n",
       "2002-01-01      40678000.0   69249884.0                         0.587409  \n",
       "2003-01-01      43565000.0   72210211.0                         0.603308  \n",
       "2004-01-01      59172333.0   71437964.0                         0.828304  \n",
       "2005-01-01      62186333.0   73700583.0                         0.843770  \n",
       "2006-01-01      69170167.0   81320418.0                         0.850588  \n",
       "2007-01-01      58571067.0   85813074.0                         0.682542  \n",
       "2008-01-01      74010117.0   93345041.0                         0.792866  \n",
       "2009-01-01      44173200.0   93808721.0                         0.470886  \n",
       "2010-01-01      37799300.0   95698261.0                         0.394984  \n",
       "2011-01-01      45869140.0   97450552.0                         0.470691  \n",
       "2012-01-01      55621900.0  100756166.0                         0.552045  \n",
       "2013-01-01      68333600.0  106658387.0                         0.640677  \n",
       "2014-01-01      90636600.0  115428670.0                         0.785217  \n",
       "2015-01-01     108387033.0  125458486.0                         0.863927  \n",
       "2016-01-01     100509500.0  130290910.0                         0.771424  "
      ]
     },
     "execution_count": 207,
     "metadata": {},
     "output_type": "execute_result"
    }
   ],
   "source": [
    "df_all"
   ]
  },
  {
   "cell_type": "code",
   "execution_count": null,
   "metadata": {
    "collapsed": true
   },
   "outputs": [],
   "source": []
  },
  {
   "cell_type": "code",
   "execution_count": 208,
   "metadata": {},
   "outputs": [
    {
     "name": "stdout",
     "output_type": "stream",
     "text": [
      "C:\\Users\\Benjamin.Lacar\\Documents\\Box\\Box Sync\\BL (Benjamin.Lacar@fluidigm.com)\\Python\\Coursera_dataScience\\course2_downloads\\week4\n"
     ]
    }
   ],
   "source": [
    "import os\n",
    "path = 'C:\\\\Users\\\\Benjamin.Lacar\\\\Documents\\\\Box\\\\Box Sync\\\\BL (Benjamin.Lacar@fluidigm.com)\\\\Python\\\\Coursera_dataScience\\\\course2_downloads\\\\week4'\n",
    "os.chdir(path) \n",
    "cwd = os.getcwd()\n",
    "print(cwd)"
   ]
  },
  {
   "cell_type": "code",
   "execution_count": 209,
   "metadata": {},
   "outputs": [
    {
     "data": {
      "image/png": "[encoded data removed]",
      "text/plain": [
       "<matplotlib.figure.Figure at 0x29879a5fa58>"
      ]
     },
     "metadata": {},
     "output_type": "display_data"
    }
   ],
   "source": [
    "import matplotlib.pyplot as plt\n",
    "import seaborn as sns\n",
    "import numpy as np\n",
    "\n",
    "sns.set_style('white')\n",
    "# use the 'seaborn-colorblind' style\n",
    "plt.style.use('seaborn-colorblind')\n",
    "\n",
    "fig, ax = plt.subplots()\n",
    "\n",
    "ax.plot(df_all['Padres Payroll % of MLB average'], color='blue')\n",
    "ax2 =ax.twinx()\n",
    "ax2.plot(df_all['Win%'], color='orange')\n",
    "\n",
    "# add correlation coefficient\n",
    "cc = df_all[['Win%', 'Padres Payroll % of MLB average']].corr(method='pearson', min_periods=1).iloc[0,1];\n",
    "\n",
    "ax.text(ax.get_xticks()[-1], ax.get_yticks()[-2], 'correlation='+str(\"%.1f\" % (100*cc))+'%', ha='right');\n",
    "\n",
    "\n",
    "# change left y-axis to percentage and make blue\n",
    "vals = ax.get_yticks();\n",
    "ax.set_yticklabels(['{:3.0f}%'.format(x*100) for x in vals], color='blue', size=13);\n",
    "ax.set_ylabel('% Padres Payroll of league average', size=14)\n",
    "ax.yaxis.label.set_color('blue')\n",
    "\n",
    "# change right y-axis to percentage and make orange\n",
    "vals = ax2.get_yticks();\n",
    "ax2.set_yticklabels(['{:3.0f}%'.format(x*100) for x in vals], color='orange', size=12);\n",
    "ax2.set_ylabel('Winning percentage', size=14)\n",
    "ax2.yaxis.label.set_color('orange')\n",
    "\n",
    "# edit title and xlabel\n",
    "ax.set_xlabel('Season', size=14)\n",
    "ax.set_title('Comparison of Padres Payroll and Winning Percentage in the 2000s', size=14)\n",
    "\n",
    "# change years to show all and rotate\n",
    "ax.set_xticks(df_all.index);\n",
    "ax.set_xticklabels(df_all.index.year, size=12, rotation=90);\n",
    "\n",
    "\n",
    "plt.savefig('pctPadresPayroll_pctWinning.png', dpi=400)"
   ]
  },
  {
   "cell_type": "code",
   "execution_count": 171,
   "metadata": {},
   "outputs": [
    {
     "data": {
      "text/plain": [
       "0.048123323911428026"
      ]
     },
     "execution_count": 171,
     "metadata": {},
     "output_type": "execute_result"
    }
   ],
   "source": [
    "df_all[['Win%', 'Padres Payroll % of MLB average']].corr(method='pearson', min_periods=1).iloc[0,1]"
   ]
  },
  {
   "cell_type": "code",
   "execution_count": 212,
   "metadata": {},
   "outputs": [
    {
     "data": {
      "text/plain": [
       "0.048123323911428012"
      ]
     },
     "execution_count": 212,
     "metadata": {},
     "output_type": "execute_result"
    }
   ],
   "source": [
    "df_all.loc['Win%'].corr(df_all['Padres Payroll % of MLB average'])"
   ]
  },
  {
   "cell_type": "code",
   "execution_count": 219,
   "metadata": {},
   "outputs": [
    {
     "data": {
      "text/plain": [
       "DatetimeIndex(['2000-01-01', '2001-01-01', '2002-01-01', '2003-01-01',\n",
       "               '2004-01-01', '2005-01-01', '2006-01-01', '2007-01-01',\n",
       "               '2008-01-01', '2009-01-01', '2010-01-01', '2011-01-01',\n",
       "               '2012-01-01', '2013-01-01', '2014-01-01', '2015-01-01',\n",
       "               '2016-01-01'],\n",
       "              dtype='datetime64[ns]', name='Season', freq=None)"
      ]
     },
     "execution_count": 219,
     "metadata": {},
     "output_type": "execute_result"
    }
   ],
   "source": [
    "df_all.index"
   ]
  },
  {
   "cell_type": "code",
   "execution_count": 221,
   "metadata": {
    "scrolled": true
   },
   "outputs": [
    {
     "data": {
      "text/plain": [
       "0.50195481219779436"
      ]
     },
     "execution_count": 221,
     "metadata": {},
     "output_type": "execute_result"
    }
   ],
   "source": [
    "df_all.loc[:'2007-01-01','Win%'].corr(df_all.loc[:'2007-01-01','Padres Payroll % of MLB average'])"
   ]
  },
  {
   "cell_type": "code",
   "execution_count": null,
   "metadata": {
    "collapsed": true
   },
   "outputs": [],
   "source": [
    "# trying with jsp\n",
    "\n",
    "import pandas as pd\n",
    "url = 'http://sandiego.padres.mlb.com/sd/history/year_by_year_results.jsp'\n",
    "# but this can't find the table\n",
    "pd.read_html(url)\n",
    "\n",
    "# try beautiful soup and requests\n",
    "from bs4 import BeautifulSoup\n",
    "import re\n",
    "import urllib.request\n",
    "import requests\n",
    "\n",
    "page = urllib.request.urlopen(url).read()\n",
    "soup = BeautifulSoup(page)"
   ]
  },
  {
   "cell_type": "code",
   "execution_count": 8,
   "metadata": {},
   "outputs": [
    {
     "ename": "ValueError",
     "evalue": "No tables found",
     "output_type": "error",
     "traceback": [
      "\u001b[1;31m---------------------------------------------------------------------------\u001b[0m",
      "\u001b[1;31mValueError\u001b[0m                                Traceback (most recent call last)",
      "\u001b[1;32m<ipython-input-8-57b6eb4f0899>\u001b[0m in \u001b[0;36m<module>\u001b[1;34m()\u001b[0m\n\u001b[1;32m----> 1\u001b[1;33m \u001b[0mpd\u001b[0m\u001b[1;33m.\u001b[0m\u001b[0mread_html\u001b[0m\u001b[1;33m(\u001b[0m\u001b[0mrequests\u001b[0m\u001b[1;33m.\u001b[0m\u001b[0mget\u001b[0m\u001b[1;33m(\u001b[0m\u001b[0murl\u001b[0m\u001b[1;33m)\u001b[0m\u001b[1;33m.\u001b[0m\u001b[0mtext\u001b[0m\u001b[1;33m)\u001b[0m\u001b[1;33m\u001b[0m\u001b[0m\n\u001b[0m",
      "\u001b[1;32mC:\\Users\\Benjamin.Lacar\\AppData\\Local\\Continuum\\Anaconda3_v440\\lib\\site-packages\\pandas\\io\\html.py\u001b[0m in \u001b[0;36mread_html\u001b[1;34m(io, match, flavor, header, index_col, skiprows, attrs, parse_dates, tupleize_cols, thousands, encoding, decimal, converters, na_values, keep_default_na)\u001b[0m\n\u001b[0;32m    904\u001b[0m                   \u001b[0mthousands\u001b[0m\u001b[1;33m=\u001b[0m\u001b[0mthousands\u001b[0m\u001b[1;33m,\u001b[0m \u001b[0mattrs\u001b[0m\u001b[1;33m=\u001b[0m\u001b[0mattrs\u001b[0m\u001b[1;33m,\u001b[0m \u001b[0mencoding\u001b[0m\u001b[1;33m=\u001b[0m\u001b[0mencoding\u001b[0m\u001b[1;33m,\u001b[0m\u001b[1;33m\u001b[0m\u001b[0m\n\u001b[0;32m    905\u001b[0m                   \u001b[0mdecimal\u001b[0m\u001b[1;33m=\u001b[0m\u001b[0mdecimal\u001b[0m\u001b[1;33m,\u001b[0m \u001b[0mconverters\u001b[0m\u001b[1;33m=\u001b[0m\u001b[0mconverters\u001b[0m\u001b[1;33m,\u001b[0m \u001b[0mna_values\u001b[0m\u001b[1;33m=\u001b[0m\u001b[0mna_values\u001b[0m\u001b[1;33m,\u001b[0m\u001b[1;33m\u001b[0m\u001b[0m\n\u001b[1;32m--> 906\u001b[1;33m                   keep_default_na=keep_default_na)\n\u001b[0m",
      "\u001b[1;32mC:\\Users\\Benjamin.Lacar\\AppData\\Local\\Continuum\\Anaconda3_v440\\lib\\site-packages\\pandas\\io\\html.py\u001b[0m in \u001b[0;36m_parse\u001b[1;34m(flavor, io, match, attrs, encoding, **kwargs)\u001b[0m\n\u001b[0;32m    741\u001b[0m             \u001b[1;32mbreak\u001b[0m\u001b[1;33m\u001b[0m\u001b[0m\n\u001b[0;32m    742\u001b[0m     \u001b[1;32melse\u001b[0m\u001b[1;33m:\u001b[0m\u001b[1;33m\u001b[0m\u001b[0m\n\u001b[1;32m--> 743\u001b[1;33m         \u001b[0mraise_with_traceback\u001b[0m\u001b[1;33m(\u001b[0m\u001b[0mretained\u001b[0m\u001b[1;33m)\u001b[0m\u001b[1;33m\u001b[0m\u001b[0m\n\u001b[0m\u001b[0;32m    744\u001b[0m \u001b[1;33m\u001b[0m\u001b[0m\n\u001b[0;32m    745\u001b[0m     \u001b[0mret\u001b[0m \u001b[1;33m=\u001b[0m \u001b[1;33m[\u001b[0m\u001b[1;33m]\u001b[0m\u001b[1;33m\u001b[0m\u001b[0m\n",
      "\u001b[1;32mC:\\Users\\Benjamin.Lacar\\AppData\\Local\\Continuum\\Anaconda3_v440\\lib\\site-packages\\pandas\\compat\\__init__.py\u001b[0m in \u001b[0;36mraise_with_traceback\u001b[1;34m(exc, traceback)\u001b[0m\n\u001b[0;32m    342\u001b[0m         \u001b[1;32mif\u001b[0m \u001b[0mtraceback\u001b[0m \u001b[1;33m==\u001b[0m \u001b[0mEllipsis\u001b[0m\u001b[1;33m:\u001b[0m\u001b[1;33m\u001b[0m\u001b[0m\n\u001b[0;32m    343\u001b[0m             \u001b[0m_\u001b[0m\u001b[1;33m,\u001b[0m \u001b[0m_\u001b[0m\u001b[1;33m,\u001b[0m \u001b[0mtraceback\u001b[0m \u001b[1;33m=\u001b[0m \u001b[0msys\u001b[0m\u001b[1;33m.\u001b[0m\u001b[0mexc_info\u001b[0m\u001b[1;33m(\u001b[0m\u001b[1;33m)\u001b[0m\u001b[1;33m\u001b[0m\u001b[0m\n\u001b[1;32m--> 344\u001b[1;33m         \u001b[1;32mraise\u001b[0m \u001b[0mexc\u001b[0m\u001b[1;33m.\u001b[0m\u001b[0mwith_traceback\u001b[0m\u001b[1;33m(\u001b[0m\u001b[0mtraceback\u001b[0m\u001b[1;33m)\u001b[0m\u001b[1;33m\u001b[0m\u001b[0m\n\u001b[0m\u001b[0;32m    345\u001b[0m \u001b[1;32melse\u001b[0m\u001b[1;33m:\u001b[0m\u001b[1;33m\u001b[0m\u001b[0m\n\u001b[0;32m    346\u001b[0m     \u001b[1;31m# this version of raise is a syntax error in Python 3\u001b[0m\u001b[1;33m\u001b[0m\u001b[1;33m\u001b[0m\u001b[0m\n",
      "\u001b[1;31mValueError\u001b[0m: No tables found"
     ]
    }
   ],
   "source": [
    "pd.read_html(requests.get(url).text)"
   ]
  }
 ],
 "metadata": {
  "anaconda-cloud": {},
  "kernelspec": {
   "display_name": "Python 3",
   "language": "python",
   "name": "python3"
  },
  "language_info": {
   "codemirror_mode": {
    "name": "ipython",
    "version": 3
   },
   "file_extension": ".py",
   "mimetype": "text/x-python",
   "name": "python",
   "nbconvert_exporter": "python",
   "pygments_lexer": "ipython3",
   "version": "3.5.4"
  },
  "toc": {
   "nav_menu": {
    "height": "230px",
    "width": "289px"
   },
   "number_sections": true,
   "sideBar": true,
   "skip_h1_title": false,
   "toc_cell": false,
   "toc_position": {
    "height": "550px",
    "left": "0px",
    "right": "1665px",
    "top": "106px",
    "width": "255px"
   },
   "toc_section_display": "block",
   "toc_window_display": true
  },
  "varInspector": {
   "cols": {
    "lenName": 16,
    "lenType": 16,
    "lenVar": 40
   },
   "kernels_config": {
    "python": {
     "delete_cmd_postfix": "",
     "delete_cmd_prefix": "del ",
     "library": "var_list.py",
     "varRefreshCmd": "print(var_dic_list())"
    },
    "r": {
     "delete_cmd_postfix": ") ",
     "delete_cmd_prefix": "rm(",
     "library": "var_list.r",
     "varRefreshCmd": "cat(var_dic_list()) "
    }
   },
   "types_to_exclude": [
    "module",
    "function",
    "builtin_function_or_method",
    "instance",
    "_Feature"
   ],
   "window_display": false
  }
 },
 "nbformat": 4,
 "nbformat_minor": 1
}
