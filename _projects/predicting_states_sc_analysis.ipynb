{
 "cells": [
  {
   "cell_type": "markdown",
   "metadata": {},
   "source": [
    "**Predicting phenotypic states from single cell analysis**\n",
    "\n",
    "excerpt: Using logistic regression to classify the activation state of a neuron from gene expression using Python and sci-kit learn.\n",
    "header:\n",
    "  image: /assets/cellstate/nerve-cell-2213009_1280.jpg\n",
    "  teaser: /assets/cellstate/nerve-cell-2213009_1280.jpg\n",
    "\n",
    "[Single-cell analysis](https://en.wikipedia.org/wiki/Single-cell_analysis) has revolutionized biological studies by providing greater resolution to tissue profiling and allowing for rare cell characterization. By far, the most popular application of single-cell analysis is transcriptional profiling of cells; that is, determining what cellular [mRNA](https://en.wikipedia.org/wiki/Messenger_RNA) is being expressed. I've been fortunate to have the opportunity to contribute to this field from my [academic](https://www.nature.com/articles/ncomms11022) and [industry](https://www.fluidigm.com/applications/single-cell-analysis) work.\n",
    "\n",
    "For some single-cell approaches, it is possible to link phenotypic information about the cell with the thousands of genes that a cell can express. For example, a certain phenotype could be indicated by expression of a known marker [protein](https://en.wikipedia.org/wiki/Protein). The protein's expression can be assessed by [flow sorting](https://en.wikipedia.org/wiki/Flow_cytometry) or cellular imaging with [fluorescence microscopy](https://en.wikipedia.org/wiki/Fluorescence_microscope) upstream of processing for single-cell transcriptome expression. However, it can be labor-intensive or not always possible to phenotype the cell, especially as current experiments scale to [thousands](https://www.nature.com/articles/ncomms14049) of single-cell samples. \n",
    "\n",
    "In this project, I am interested in exploring the possibility of using machine learning to train an algorithm towards identifying cellular phenotype based on gene expression alone. I'll use one set of data that we analyzed in my [academic work](https://www.nature.com/articles/ncomms11022). In our study, we looked in the mouse brain and characterized neurons activated by a novel experience. A commonly used phenotype of an activated neuron is whether it expresses the gene Fos (otherwise known as [c-Fos](https://en.wikipedia.org/wiki/C-Fos)).\n",
    "\n",
    "This dataset begins with 96 samples of which 48 were Fos+ and 48 were Fos-, but as you'll see, filtering steps were applied to reduce the number of samples. The number of genes starts off with over 43,000(!) but as you see, this also gets reduced with filtering. I then use the unsupervised algorithm of PCA to see how whether activated and non-activated subpopulations separate  following dimensional reduction. Finally, I use logistic regression to train a subset of neurons for classification based on Fos state, then assess the accuracy of the model on a cross-validation subset."
   ]
  },
  {
   "cell_type": "code",
   "execution_count": 3,
   "metadata": {
    "collapsed": true
   },
   "outputs": [],
   "source": [
    "# Import packages\n",
    "import os\n",
    "import pandas as pd\n",
    "import numpy as np\n",
    "import matplotlib.pyplot as plt\n",
    "import seaborn as sns\n",
    "%matplotlib inline"
   ]
  },
  {
   "cell_type": "markdown",
   "metadata": {},
   "source": [
    "## Import data"
   ]
  },
  {
   "cell_type": "code",
   "execution_count": 4,
   "metadata": {
    "collapsed": true
   },
   "outputs": [],
   "source": [
    "# Import gene expression data frame\n",
    "parent_path = '/Users/lacar/Documents/Gage lab/Gage Lab Dropbox/CellIsolation_MethodsPaper/PaperAndFigs/FromOneDrive_finalDocuments/Lab/AnalysisOfSequencing'\n",
    "child_path = '/SaraRSEM_output/update15_0225/'\n",
    "os.chdir(parent_path + child_path)\n",
    "df_tpm = pd.read_table('RSEM_geneSymbol_tpm_141204_allsamples.txt', sep=' ').transpose()"
   ]
  },
  {
   "cell_type": "code",
   "execution_count": 5,
   "metadata": {},
   "outputs": [
    {
     "data": {
      "text/html": [
       "<div>\n",
       "<style scoped>\n",
       "    .dataframe tbody tr th:only-of-type {\n",
       "        vertical-align: middle;\n",
       "    }\n",
       "\n",
       "    .dataframe tbody tr th {\n",
       "        vertical-align: top;\n",
       "    }\n",
       "\n",
       "    .dataframe thead th {\n",
       "        text-align: right;\n",
       "    }\n",
       "</style>\n",
       "<table border=\"1\" class=\"dataframe\">\n",
       "  <thead>\n",
       "    <tr style=\"text-align: right;\">\n",
       "      <th></th>\n",
       "      <th>0610005C13Rik</th>\n",
       "      <th>0610007P14Rik</th>\n",
       "      <th>0610009B22Rik</th>\n",
       "      <th>0610009E02Rik</th>\n",
       "      <th>0610009L18Rik</th>\n",
       "      <th>0610009O20Rik</th>\n",
       "      <th>0610010F05Rik</th>\n",
       "      <th>0610010K14Rik</th>\n",
       "      <th>0610011F06Rik</th>\n",
       "      <th>0610012D04Rik</th>\n",
       "      <th>...</th>\n",
       "      <th>Zwilch</th>\n",
       "      <th>Zwint</th>\n",
       "      <th>Zxda</th>\n",
       "      <th>Zxdb</th>\n",
       "      <th>Zxdc</th>\n",
       "      <th>Zyg11a</th>\n",
       "      <th>Zyg11b</th>\n",
       "      <th>Zyx</th>\n",
       "      <th>Zzef1</th>\n",
       "      <th>Zzz3</th>\n",
       "    </tr>\n",
       "  </thead>\n",
       "  <tbody>\n",
       "    <tr>\n",
       "      <th>nc_ui_ti_C10_141204</th>\n",
       "      <td>6.54</td>\n",
       "      <td>652.15</td>\n",
       "      <td>0.0</td>\n",
       "      <td>0.0</td>\n",
       "      <td>0.0</td>\n",
       "      <td>0.0</td>\n",
       "      <td>0.0</td>\n",
       "      <td>0.00</td>\n",
       "      <td>0.0</td>\n",
       "      <td>0.0</td>\n",
       "      <td>...</td>\n",
       "      <td>0.0</td>\n",
       "      <td>22.39</td>\n",
       "      <td>0.0</td>\n",
       "      <td>0.0</td>\n",
       "      <td>0.00</td>\n",
       "      <td>0.0</td>\n",
       "      <td>0.00</td>\n",
       "      <td>0.0</td>\n",
       "      <td>22.03</td>\n",
       "      <td>0.00</td>\n",
       "    </tr>\n",
       "    <tr>\n",
       "      <th>nc_ui_ti_C11_141204</th>\n",
       "      <td>0.00</td>\n",
       "      <td>0.00</td>\n",
       "      <td>0.0</td>\n",
       "      <td>0.0</td>\n",
       "      <td>0.0</td>\n",
       "      <td>0.0</td>\n",
       "      <td>0.0</td>\n",
       "      <td>0.00</td>\n",
       "      <td>0.0</td>\n",
       "      <td>0.0</td>\n",
       "      <td>...</td>\n",
       "      <td>0.0</td>\n",
       "      <td>0.00</td>\n",
       "      <td>0.0</td>\n",
       "      <td>0.0</td>\n",
       "      <td>0.00</td>\n",
       "      <td>0.0</td>\n",
       "      <td>0.00</td>\n",
       "      <td>0.0</td>\n",
       "      <td>69.07</td>\n",
       "      <td>0.00</td>\n",
       "    </tr>\n",
       "    <tr>\n",
       "      <th>nc_ui_ti_C12_141204</th>\n",
       "      <td>4.98</td>\n",
       "      <td>29.90</td>\n",
       "      <td>0.0</td>\n",
       "      <td>0.0</td>\n",
       "      <td>0.0</td>\n",
       "      <td>0.0</td>\n",
       "      <td>0.0</td>\n",
       "      <td>173.27</td>\n",
       "      <td>0.0</td>\n",
       "      <td>0.0</td>\n",
       "      <td>...</td>\n",
       "      <td>0.0</td>\n",
       "      <td>2905.22</td>\n",
       "      <td>0.0</td>\n",
       "      <td>0.0</td>\n",
       "      <td>0.00</td>\n",
       "      <td>0.0</td>\n",
       "      <td>0.00</td>\n",
       "      <td>0.0</td>\n",
       "      <td>0.00</td>\n",
       "      <td>5.87</td>\n",
       "    </tr>\n",
       "    <tr>\n",
       "      <th>nc_ui_ti_C7_141204</th>\n",
       "      <td>4.45</td>\n",
       "      <td>56.36</td>\n",
       "      <td>0.0</td>\n",
       "      <td>0.0</td>\n",
       "      <td>0.0</td>\n",
       "      <td>0.0</td>\n",
       "      <td>0.0</td>\n",
       "      <td>0.00</td>\n",
       "      <td>2.3</td>\n",
       "      <td>0.0</td>\n",
       "      <td>...</td>\n",
       "      <td>0.0</td>\n",
       "      <td>156.51</td>\n",
       "      <td>0.0</td>\n",
       "      <td>0.0</td>\n",
       "      <td>2.91</td>\n",
       "      <td>0.0</td>\n",
       "      <td>200.94</td>\n",
       "      <td>0.0</td>\n",
       "      <td>62.27</td>\n",
       "      <td>0.00</td>\n",
       "    </tr>\n",
       "    <tr>\n",
       "      <th>nc_ui_ti_C8_141204</th>\n",
       "      <td>0.00</td>\n",
       "      <td>86.04</td>\n",
       "      <td>0.0</td>\n",
       "      <td>0.0</td>\n",
       "      <td>0.0</td>\n",
       "      <td>0.0</td>\n",
       "      <td>0.0</td>\n",
       "      <td>0.00</td>\n",
       "      <td>0.0</td>\n",
       "      <td>0.0</td>\n",
       "      <td>...</td>\n",
       "      <td>0.0</td>\n",
       "      <td>0.00</td>\n",
       "      <td>0.0</td>\n",
       "      <td>0.0</td>\n",
       "      <td>0.00</td>\n",
       "      <td>0.0</td>\n",
       "      <td>0.00</td>\n",
       "      <td>0.0</td>\n",
       "      <td>2.99</td>\n",
       "      <td>0.00</td>\n",
       "    </tr>\n",
       "  </tbody>\n",
       "</table>\n",
       "<p>5 rows × 43309 columns</p>\n",
       "</div>"
      ],
      "text/plain": [
       "                     0610005C13Rik  0610007P14Rik  0610009B22Rik  \\\n",
       "nc_ui_ti_C10_141204           6.54         652.15            0.0   \n",
       "nc_ui_ti_C11_141204           0.00           0.00            0.0   \n",
       "nc_ui_ti_C12_141204           4.98          29.90            0.0   \n",
       "nc_ui_ti_C7_141204            4.45          56.36            0.0   \n",
       "nc_ui_ti_C8_141204            0.00          86.04            0.0   \n",
       "\n",
       "                     0610009E02Rik  0610009L18Rik  0610009O20Rik  \\\n",
       "nc_ui_ti_C10_141204            0.0            0.0            0.0   \n",
       "nc_ui_ti_C11_141204            0.0            0.0            0.0   \n",
       "nc_ui_ti_C12_141204            0.0            0.0            0.0   \n",
       "nc_ui_ti_C7_141204             0.0            0.0            0.0   \n",
       "nc_ui_ti_C8_141204             0.0            0.0            0.0   \n",
       "\n",
       "                     0610010F05Rik  0610010K14Rik  0610011F06Rik  \\\n",
       "nc_ui_ti_C10_141204            0.0           0.00            0.0   \n",
       "nc_ui_ti_C11_141204            0.0           0.00            0.0   \n",
       "nc_ui_ti_C12_141204            0.0         173.27            0.0   \n",
       "nc_ui_ti_C7_141204             0.0           0.00            2.3   \n",
       "nc_ui_ti_C8_141204             0.0           0.00            0.0   \n",
       "\n",
       "                     0610012D04Rik  ...   Zwilch    Zwint  Zxda  Zxdb  Zxdc  \\\n",
       "nc_ui_ti_C10_141204            0.0  ...      0.0    22.39   0.0   0.0  0.00   \n",
       "nc_ui_ti_C11_141204            0.0  ...      0.0     0.00   0.0   0.0  0.00   \n",
       "nc_ui_ti_C12_141204            0.0  ...      0.0  2905.22   0.0   0.0  0.00   \n",
       "nc_ui_ti_C7_141204             0.0  ...      0.0   156.51   0.0   0.0  2.91   \n",
       "nc_ui_ti_C8_141204             0.0  ...      0.0     0.00   0.0   0.0  0.00   \n",
       "\n",
       "                     Zyg11a  Zyg11b  Zyx  Zzef1  Zzz3  \n",
       "nc_ui_ti_C10_141204     0.0    0.00  0.0  22.03  0.00  \n",
       "nc_ui_ti_C11_141204     0.0    0.00  0.0  69.07  0.00  \n",
       "nc_ui_ti_C12_141204     0.0    0.00  0.0   0.00  5.87  \n",
       "nc_ui_ti_C7_141204      0.0  200.94  0.0  62.27  0.00  \n",
       "nc_ui_ti_C8_141204      0.0    0.00  0.0   2.99  0.00  \n",
       "\n",
       "[5 rows x 43309 columns]"
      ]
     },
     "execution_count": 5,
     "metadata": {},
     "output_type": "execute_result"
    }
   ],
   "source": [
    "# The genes are the columns (features) of the dataframe,\n",
    "# while each single-cell sample are the row indexes.\n",
    "# The values are the expression level of that gene for that sample.\n",
    "df_tpm.head()"
   ]
  },
  {
   "cell_type": "markdown",
   "metadata": {},
   "source": [
    "## Data filtering"
   ]
  },
  {
   "cell_type": "markdown",
   "metadata": {},
   "source": [
    "### Apply a gene filter"
   ]
  },
  {
   "cell_type": "code",
   "execution_count": 6,
   "metadata": {
    "scrolled": true
   },
   "outputs": [
    {
     "data": {
      "text/html": [
       "<div>\n",
       "<style scoped>\n",
       "    .dataframe tbody tr th:only-of-type {\n",
       "        vertical-align: middle;\n",
       "    }\n",
       "\n",
       "    .dataframe tbody tr th {\n",
       "        vertical-align: top;\n",
       "    }\n",
       "\n",
       "    .dataframe thead th {\n",
       "        text-align: right;\n",
       "    }\n",
       "</style>\n",
       "<table border=\"1\" class=\"dataframe\">\n",
       "  <thead>\n",
       "    <tr style=\"text-align: right;\">\n",
       "      <th></th>\n",
       "      <th>0610005C13Rik</th>\n",
       "      <th>0610007P14Rik</th>\n",
       "      <th>0610009B22Rik</th>\n",
       "      <th>0610009E02Rik</th>\n",
       "      <th>0610009L18Rik</th>\n",
       "      <th>0610009O20Rik</th>\n",
       "      <th>0610010F05Rik</th>\n",
       "      <th>0610010K14Rik</th>\n",
       "      <th>0610011F06Rik</th>\n",
       "      <th>0610012G03Rik</th>\n",
       "      <th>...</th>\n",
       "      <th>Zw10</th>\n",
       "      <th>Zwilch</th>\n",
       "      <th>Zwint</th>\n",
       "      <th>Zxda</th>\n",
       "      <th>Zxdb</th>\n",
       "      <th>Zxdc</th>\n",
       "      <th>Zyg11b</th>\n",
       "      <th>Zyx</th>\n",
       "      <th>Zzef1</th>\n",
       "      <th>Zzz3</th>\n",
       "    </tr>\n",
       "  </thead>\n",
       "  <tbody>\n",
       "    <tr>\n",
       "      <th>nc_ui_ti_C10_141204</th>\n",
       "      <td>6.54</td>\n",
       "      <td>652.15</td>\n",
       "      <td>0.0</td>\n",
       "      <td>0.0</td>\n",
       "      <td>0.0</td>\n",
       "      <td>0.0</td>\n",
       "      <td>0.0</td>\n",
       "      <td>0.00</td>\n",
       "      <td>0.0</td>\n",
       "      <td>0.0</td>\n",
       "      <td>...</td>\n",
       "      <td>0.0</td>\n",
       "      <td>0.0</td>\n",
       "      <td>22.39</td>\n",
       "      <td>0.0</td>\n",
       "      <td>0.0</td>\n",
       "      <td>0.00</td>\n",
       "      <td>0.00</td>\n",
       "      <td>0.0</td>\n",
       "      <td>22.03</td>\n",
       "      <td>0.00</td>\n",
       "    </tr>\n",
       "    <tr>\n",
       "      <th>nc_ui_ti_C11_141204</th>\n",
       "      <td>0.00</td>\n",
       "      <td>0.00</td>\n",
       "      <td>0.0</td>\n",
       "      <td>0.0</td>\n",
       "      <td>0.0</td>\n",
       "      <td>0.0</td>\n",
       "      <td>0.0</td>\n",
       "      <td>0.00</td>\n",
       "      <td>0.0</td>\n",
       "      <td>0.0</td>\n",
       "      <td>...</td>\n",
       "      <td>0.0</td>\n",
       "      <td>0.0</td>\n",
       "      <td>0.00</td>\n",
       "      <td>0.0</td>\n",
       "      <td>0.0</td>\n",
       "      <td>0.00</td>\n",
       "      <td>0.00</td>\n",
       "      <td>0.0</td>\n",
       "      <td>69.07</td>\n",
       "      <td>0.00</td>\n",
       "    </tr>\n",
       "    <tr>\n",
       "      <th>nc_ui_ti_C12_141204</th>\n",
       "      <td>4.98</td>\n",
       "      <td>29.90</td>\n",
       "      <td>0.0</td>\n",
       "      <td>0.0</td>\n",
       "      <td>0.0</td>\n",
       "      <td>0.0</td>\n",
       "      <td>0.0</td>\n",
       "      <td>173.27</td>\n",
       "      <td>0.0</td>\n",
       "      <td>0.0</td>\n",
       "      <td>...</td>\n",
       "      <td>0.0</td>\n",
       "      <td>0.0</td>\n",
       "      <td>2905.22</td>\n",
       "      <td>0.0</td>\n",
       "      <td>0.0</td>\n",
       "      <td>0.00</td>\n",
       "      <td>0.00</td>\n",
       "      <td>0.0</td>\n",
       "      <td>0.00</td>\n",
       "      <td>5.87</td>\n",
       "    </tr>\n",
       "    <tr>\n",
       "      <th>nc_ui_ti_C7_141204</th>\n",
       "      <td>4.45</td>\n",
       "      <td>56.36</td>\n",
       "      <td>0.0</td>\n",
       "      <td>0.0</td>\n",
       "      <td>0.0</td>\n",
       "      <td>0.0</td>\n",
       "      <td>0.0</td>\n",
       "      <td>0.00</td>\n",
       "      <td>2.3</td>\n",
       "      <td>0.0</td>\n",
       "      <td>...</td>\n",
       "      <td>0.0</td>\n",
       "      <td>0.0</td>\n",
       "      <td>156.51</td>\n",
       "      <td>0.0</td>\n",
       "      <td>0.0</td>\n",
       "      <td>2.91</td>\n",
       "      <td>200.94</td>\n",
       "      <td>0.0</td>\n",
       "      <td>62.27</td>\n",
       "      <td>0.00</td>\n",
       "    </tr>\n",
       "    <tr>\n",
       "      <th>nc_ui_ti_C8_141204</th>\n",
       "      <td>0.00</td>\n",
       "      <td>86.04</td>\n",
       "      <td>0.0</td>\n",
       "      <td>0.0</td>\n",
       "      <td>0.0</td>\n",
       "      <td>0.0</td>\n",
       "      <td>0.0</td>\n",
       "      <td>0.00</td>\n",
       "      <td>0.0</td>\n",
       "      <td>0.0</td>\n",
       "      <td>...</td>\n",
       "      <td>0.0</td>\n",
       "      <td>0.0</td>\n",
       "      <td>0.00</td>\n",
       "      <td>0.0</td>\n",
       "      <td>0.0</td>\n",
       "      <td>0.00</td>\n",
       "      <td>0.00</td>\n",
       "      <td>0.0</td>\n",
       "      <td>2.99</td>\n",
       "      <td>0.00</td>\n",
       "    </tr>\n",
       "  </tbody>\n",
       "</table>\n",
       "<p>5 rows × 24345 columns</p>\n",
       "</div>"
      ],
      "text/plain": [
       "                     0610005C13Rik  0610007P14Rik  0610009B22Rik  \\\n",
       "nc_ui_ti_C10_141204           6.54         652.15            0.0   \n",
       "nc_ui_ti_C11_141204           0.00           0.00            0.0   \n",
       "nc_ui_ti_C12_141204           4.98          29.90            0.0   \n",
       "nc_ui_ti_C7_141204            4.45          56.36            0.0   \n",
       "nc_ui_ti_C8_141204            0.00          86.04            0.0   \n",
       "\n",
       "                     0610009E02Rik  0610009L18Rik  0610009O20Rik  \\\n",
       "nc_ui_ti_C10_141204            0.0            0.0            0.0   \n",
       "nc_ui_ti_C11_141204            0.0            0.0            0.0   \n",
       "nc_ui_ti_C12_141204            0.0            0.0            0.0   \n",
       "nc_ui_ti_C7_141204             0.0            0.0            0.0   \n",
       "nc_ui_ti_C8_141204             0.0            0.0            0.0   \n",
       "\n",
       "                     0610010F05Rik  0610010K14Rik  0610011F06Rik  \\\n",
       "nc_ui_ti_C10_141204            0.0           0.00            0.0   \n",
       "nc_ui_ti_C11_141204            0.0           0.00            0.0   \n",
       "nc_ui_ti_C12_141204            0.0         173.27            0.0   \n",
       "nc_ui_ti_C7_141204             0.0           0.00            2.3   \n",
       "nc_ui_ti_C8_141204             0.0           0.00            0.0   \n",
       "\n",
       "                     0610012G03Rik  ...   Zw10  Zwilch    Zwint  Zxda  Zxdb  \\\n",
       "nc_ui_ti_C10_141204            0.0  ...    0.0     0.0    22.39   0.0   0.0   \n",
       "nc_ui_ti_C11_141204            0.0  ...    0.0     0.0     0.00   0.0   0.0   \n",
       "nc_ui_ti_C12_141204            0.0  ...    0.0     0.0  2905.22   0.0   0.0   \n",
       "nc_ui_ti_C7_141204             0.0  ...    0.0     0.0   156.51   0.0   0.0   \n",
       "nc_ui_ti_C8_141204             0.0  ...    0.0     0.0     0.00   0.0   0.0   \n",
       "\n",
       "                     Zxdc  Zyg11b  Zyx  Zzef1  Zzz3  \n",
       "nc_ui_ti_C10_141204  0.00    0.00  0.0  22.03  0.00  \n",
       "nc_ui_ti_C11_141204  0.00    0.00  0.0  69.07  0.00  \n",
       "nc_ui_ti_C12_141204  0.00    0.00  0.0   0.00  5.87  \n",
       "nc_ui_ti_C7_141204   2.91  200.94  0.0  62.27  0.00  \n",
       "nc_ui_ti_C8_141204   0.00    0.00  0.0   2.99  0.00  \n",
       "\n",
       "[5 rows x 24345 columns]"
      ]
     },
     "execution_count": 6,
     "metadata": {},
     "output_type": "execute_result"
    }
   ],
   "source": [
    "# Filter the dataframe by removing genes that are not expressed in any cell\n",
    "genes_retained_mask = df_tpm.sum(axis=0)>0\n",
    "df_tpm2 = df_tpm[genes_retained_mask.index[genes_retained_mask]]\n",
    "df_tpm2.head()"
   ]
  },
  {
   "cell_type": "markdown",
   "metadata": {},
   "source": [
    "### Apply a sample filter\n",
    "Start by exploring the distribution of gene counts for each sample"
   ]
  },
  {
   "cell_type": "code",
   "execution_count": 7,
   "metadata": {},
   "outputs": [
    {
     "data": {
      "image/png": "[encoded data removed]",
      "text/plain": [
       "<matplotlib.figure.Figure at 0x12225cf28>"
      ]
     },
     "metadata": {},
     "output_type": "display_data"
    }
   ],
   "source": [
    "# Filter the dataframe by removing samples with low gene count\n",
    "df_tpm2[df_tpm2 > 1].count(axis=1).hist();"
   ]
  },
  {
   "cell_type": "markdown",
   "metadata": {},
   "source": [
    "Removing samples that have less than 3000 genes seems like a logical cutoff."
   ]
  },
  {
   "cell_type": "code",
   "execution_count": 8,
   "metadata": {
    "collapsed": true
   },
   "outputs": [],
   "source": [
    "# Filter the dataframe by removing samples with low gene count (3000 genes)\n",
    "samples_retained_mask = df_tpm2[df_tpm2 > 1].count(axis=1) > 3000"
   ]
  },
  {
   "cell_type": "code",
   "execution_count": 9,
   "metadata": {
    "collapsed": true
   },
   "outputs": [],
   "source": [
    "df_tpm3 = df_tpm2[samples_retained_mask]"
   ]
  },
  {
   "cell_type": "code",
   "execution_count": 10,
   "metadata": {},
   "outputs": [
    {
     "data": {
      "image/png": "[encoded data removed]",
      "text/plain": [
       "<matplotlib.figure.Figure at 0x122302ac8>"
      ]
     },
     "metadata": {},
     "output_type": "display_data"
    }
   ],
   "source": [
    "# Sanity check that appropriate filter is implemented\n",
    "df_tpm3[df_tpm3 > 1].count(axis=1).hist();"
   ]
  },
  {
   "cell_type": "code",
   "execution_count": 11,
   "metadata": {
    "scrolled": true
   },
   "outputs": [
    {
     "name": "stderr",
     "output_type": "stream",
     "text": [
      "/Users/lacar/anaconda/lib/python3.5/site-packages/ipykernel/__main__.py:2: SettingWithCopyWarning: \n",
      "A value is trying to be set on a copy of a slice from a DataFrame.\n",
      "Try using .loc[row_indexer,col_indexer] = value instead\n",
      "\n",
      "See the caveats in the documentation: http://pandas.pydata.org/pandas-docs/stable/indexing.html#indexing-view-versus-copy\n",
      "  from ipykernel import kernelapp as app\n",
      "/Users/lacar/anaconda/lib/python3.5/site-packages/pandas/core/indexing.py:357: SettingWithCopyWarning: \n",
      "A value is trying to be set on a copy of a slice from a DataFrame.\n",
      "Try using .loc[row_indexer,col_indexer] = value instead\n",
      "\n",
      "See the caveats in the documentation: http://pandas.pydata.org/pandas-docs/stable/indexing.html#indexing-view-versus-copy\n",
      "  self.obj[key] = _infer_fill_value(value)\n",
      "/Users/lacar/anaconda/lib/python3.5/site-packages/pandas/core/indexing.py:537: SettingWithCopyWarning: \n",
      "A value is trying to be set on a copy of a slice from a DataFrame.\n",
      "Try using .loc[row_indexer,col_indexer] = value instead\n",
      "\n",
      "See the caveats in the documentation: http://pandas.pydata.org/pandas-docs/stable/indexing.html#indexing-view-versus-copy\n",
      "  self.obj[item] = s\n",
      "/Users/lacar/anaconda/lib/python3.5/site-packages/ipykernel/__main__.py:4: SettingWithCopyWarning: \n",
      "A value is trying to be set on a copy of a slice from a DataFrame\n",
      "\n",
      "See the caveats in the documentation: http://pandas.pydata.org/pandas-docs/stable/indexing.html#indexing-view-versus-copy\n"
     ]
    }
   ],
   "source": [
    "# Create a vector containing the fos label\n",
    "df_tpm3['SampleName'] = df_tpm3.index  # temporarily create a sample name vector\n",
    "df_tpm3.loc[:,'fos_label'] = df_tpm3['SampleName'].str.split('_', expand=True)[2]\n",
    "df_tpm3.drop('SampleName', axis=1, inplace=True)"
   ]
  },
  {
   "cell_type": "code",
   "execution_count": 12,
   "metadata": {},
   "outputs": [
    {
     "data": {
      "text/html": [
       "<div>\n",
       "<style scoped>\n",
       "    .dataframe tbody tr th:only-of-type {\n",
       "        vertical-align: middle;\n",
       "    }\n",
       "\n",
       "    .dataframe tbody tr th {\n",
       "        vertical-align: top;\n",
       "    }\n",
       "\n",
       "    .dataframe thead th {\n",
       "        text-align: right;\n",
       "    }\n",
       "</style>\n",
       "<table border=\"1\" class=\"dataframe\">\n",
       "  <thead>\n",
       "    <tr style=\"text-align: right;\">\n",
       "      <th></th>\n",
       "      <th>0610005C13Rik</th>\n",
       "      <th>0610007P14Rik</th>\n",
       "      <th>0610009B22Rik</th>\n",
       "      <th>0610009E02Rik</th>\n",
       "      <th>0610009L18Rik</th>\n",
       "      <th>0610009O20Rik</th>\n",
       "      <th>0610010F05Rik</th>\n",
       "      <th>0610010K14Rik</th>\n",
       "      <th>0610011F06Rik</th>\n",
       "      <th>0610012G03Rik</th>\n",
       "      <th>...</th>\n",
       "      <th>Zwilch</th>\n",
       "      <th>Zwint</th>\n",
       "      <th>Zxda</th>\n",
       "      <th>Zxdb</th>\n",
       "      <th>Zxdc</th>\n",
       "      <th>Zyg11b</th>\n",
       "      <th>Zyx</th>\n",
       "      <th>Zzef1</th>\n",
       "      <th>Zzz3</th>\n",
       "      <th>fos_label</th>\n",
       "    </tr>\n",
       "  </thead>\n",
       "  <tbody>\n",
       "    <tr>\n",
       "      <th>nc_ui_ti_C10_141204</th>\n",
       "      <td>6.54</td>\n",
       "      <td>652.15</td>\n",
       "      <td>0.0</td>\n",
       "      <td>0.0</td>\n",
       "      <td>0.0</td>\n",
       "      <td>0.00</td>\n",
       "      <td>0.0</td>\n",
       "      <td>0.00</td>\n",
       "      <td>0.0</td>\n",
       "      <td>0.0</td>\n",
       "      <td>...</td>\n",
       "      <td>0.00</td>\n",
       "      <td>22.39</td>\n",
       "      <td>0.0</td>\n",
       "      <td>0.0</td>\n",
       "      <td>0.00</td>\n",
       "      <td>0.00</td>\n",
       "      <td>0.00</td>\n",
       "      <td>22.03</td>\n",
       "      <td>0.00</td>\n",
       "      <td>ti</td>\n",
       "    </tr>\n",
       "    <tr>\n",
       "      <th>nc_ui_ti_C12_141204</th>\n",
       "      <td>4.98</td>\n",
       "      <td>29.90</td>\n",
       "      <td>0.0</td>\n",
       "      <td>0.0</td>\n",
       "      <td>0.0</td>\n",
       "      <td>0.00</td>\n",
       "      <td>0.0</td>\n",
       "      <td>173.27</td>\n",
       "      <td>0.0</td>\n",
       "      <td>0.0</td>\n",
       "      <td>...</td>\n",
       "      <td>0.00</td>\n",
       "      <td>2905.22</td>\n",
       "      <td>0.0</td>\n",
       "      <td>0.0</td>\n",
       "      <td>0.00</td>\n",
       "      <td>0.00</td>\n",
       "      <td>0.00</td>\n",
       "      <td>0.00</td>\n",
       "      <td>5.87</td>\n",
       "      <td>ti</td>\n",
       "    </tr>\n",
       "    <tr>\n",
       "      <th>nc_ui_ti_C7_141204</th>\n",
       "      <td>4.45</td>\n",
       "      <td>56.36</td>\n",
       "      <td>0.0</td>\n",
       "      <td>0.0</td>\n",
       "      <td>0.0</td>\n",
       "      <td>0.00</td>\n",
       "      <td>0.0</td>\n",
       "      <td>0.00</td>\n",
       "      <td>2.3</td>\n",
       "      <td>0.0</td>\n",
       "      <td>...</td>\n",
       "      <td>0.00</td>\n",
       "      <td>156.51</td>\n",
       "      <td>0.0</td>\n",
       "      <td>0.0</td>\n",
       "      <td>2.91</td>\n",
       "      <td>200.94</td>\n",
       "      <td>0.00</td>\n",
       "      <td>62.27</td>\n",
       "      <td>0.00</td>\n",
       "      <td>ti</td>\n",
       "    </tr>\n",
       "    <tr>\n",
       "      <th>nc_ui_ti_C8_141204</th>\n",
       "      <td>0.00</td>\n",
       "      <td>86.04</td>\n",
       "      <td>0.0</td>\n",
       "      <td>0.0</td>\n",
       "      <td>0.0</td>\n",
       "      <td>0.00</td>\n",
       "      <td>0.0</td>\n",
       "      <td>0.00</td>\n",
       "      <td>0.0</td>\n",
       "      <td>0.0</td>\n",
       "      <td>...</td>\n",
       "      <td>0.00</td>\n",
       "      <td>0.00</td>\n",
       "      <td>0.0</td>\n",
       "      <td>0.0</td>\n",
       "      <td>0.00</td>\n",
       "      <td>0.00</td>\n",
       "      <td>0.00</td>\n",
       "      <td>2.99</td>\n",
       "      <td>0.00</td>\n",
       "      <td>ti</td>\n",
       "    </tr>\n",
       "    <tr>\n",
       "      <th>nc_ui_ti_C9_141204</th>\n",
       "      <td>10.13</td>\n",
       "      <td>5.22</td>\n",
       "      <td>0.0</td>\n",
       "      <td>0.0</td>\n",
       "      <td>0.0</td>\n",
       "      <td>2.26</td>\n",
       "      <td>0.0</td>\n",
       "      <td>0.00</td>\n",
       "      <td>0.0</td>\n",
       "      <td>0.0</td>\n",
       "      <td>...</td>\n",
       "      <td>5.87</td>\n",
       "      <td>1045.78</td>\n",
       "      <td>0.0</td>\n",
       "      <td>0.0</td>\n",
       "      <td>0.00</td>\n",
       "      <td>2.41</td>\n",
       "      <td>421.23</td>\n",
       "      <td>113.95</td>\n",
       "      <td>0.00</td>\n",
       "      <td>ti</td>\n",
       "    </tr>\n",
       "  </tbody>\n",
       "</table>\n",
       "<p>5 rows × 24346 columns</p>\n",
       "</div>"
      ],
      "text/plain": [
       "                     0610005C13Rik  0610007P14Rik  0610009B22Rik  \\\n",
       "nc_ui_ti_C10_141204           6.54         652.15            0.0   \n",
       "nc_ui_ti_C12_141204           4.98          29.90            0.0   \n",
       "nc_ui_ti_C7_141204            4.45          56.36            0.0   \n",
       "nc_ui_ti_C8_141204            0.00          86.04            0.0   \n",
       "nc_ui_ti_C9_141204           10.13           5.22            0.0   \n",
       "\n",
       "                     0610009E02Rik  0610009L18Rik  0610009O20Rik  \\\n",
       "nc_ui_ti_C10_141204            0.0            0.0           0.00   \n",
       "nc_ui_ti_C12_141204            0.0            0.0           0.00   \n",
       "nc_ui_ti_C7_141204             0.0            0.0           0.00   \n",
       "nc_ui_ti_C8_141204             0.0            0.0           0.00   \n",
       "nc_ui_ti_C9_141204             0.0            0.0           2.26   \n",
       "\n",
       "                     0610010F05Rik  0610010K14Rik  0610011F06Rik  \\\n",
       "nc_ui_ti_C10_141204            0.0           0.00            0.0   \n",
       "nc_ui_ti_C12_141204            0.0         173.27            0.0   \n",
       "nc_ui_ti_C7_141204             0.0           0.00            2.3   \n",
       "nc_ui_ti_C8_141204             0.0           0.00            0.0   \n",
       "nc_ui_ti_C9_141204             0.0           0.00            0.0   \n",
       "\n",
       "                     0610012G03Rik    ...      Zwilch    Zwint  Zxda  Zxdb  \\\n",
       "nc_ui_ti_C10_141204            0.0    ...        0.00    22.39   0.0   0.0   \n",
       "nc_ui_ti_C12_141204            0.0    ...        0.00  2905.22   0.0   0.0   \n",
       "nc_ui_ti_C7_141204             0.0    ...        0.00   156.51   0.0   0.0   \n",
       "nc_ui_ti_C8_141204             0.0    ...        0.00     0.00   0.0   0.0   \n",
       "nc_ui_ti_C9_141204             0.0    ...        5.87  1045.78   0.0   0.0   \n",
       "\n",
       "                     Zxdc  Zyg11b     Zyx   Zzef1  Zzz3  fos_label  \n",
       "nc_ui_ti_C10_141204  0.00    0.00    0.00   22.03  0.00         ti  \n",
       "nc_ui_ti_C12_141204  0.00    0.00    0.00    0.00  5.87         ti  \n",
       "nc_ui_ti_C7_141204   2.91  200.94    0.00   62.27  0.00         ti  \n",
       "nc_ui_ti_C8_141204   0.00    0.00    0.00    2.99  0.00         ti  \n",
       "nc_ui_ti_C9_141204   0.00    2.41  421.23  113.95  0.00         ti  \n",
       "\n",
       "[5 rows x 24346 columns]"
      ]
     },
     "execution_count": 12,
     "metadata": {},
     "output_type": "execute_result"
    }
   ],
   "source": [
    "df_tpm3.head()"
   ]
  },
  {
   "cell_type": "code",
   "execution_count": 13,
   "metadata": {},
   "outputs": [
    {
     "name": "stderr",
     "output_type": "stream",
     "text": [
      "/Users/lacar/anaconda/lib/python3.5/site-packages/pandas/core/generic.py:4619: SettingWithCopyWarning: \n",
      "A value is trying to be set on a copy of a slice from a DataFrame\n",
      "\n",
      "See the caveats in the documentation: http://pandas.pydata.org/pandas-docs/stable/indexing.html#indexing-view-versus-copy\n",
      "  self._update_inplace(new_data)\n"
     ]
    }
   ],
   "source": [
    "# Replace labels with 0 and 1 for classification\n",
    "df_tpm3['fos_label'].replace(to_replace='ti', value=1, inplace=True)\n",
    "df_tpm3['fos_label'].replace(to_replace='tn', value=0, inplace=True)"
   ]
  },
  {
   "cell_type": "code",
   "execution_count": 14,
   "metadata": {},
   "outputs": [
    {
     "data": {
      "text/plain": [
       "fos_label\n",
       "0    43\n",
       "1    39\n",
       "Name: fos_label, dtype: int64"
      ]
     },
     "execution_count": 14,
     "metadata": {},
     "output_type": "execute_result"
    }
   ],
   "source": [
    "# Show the number of examples for each group. Note that 1 = FOS+, 0 = FOS-.\n",
    "df_tpm3.groupby('fos_label')['fos_label'].count()"
   ]
  },
  {
   "cell_type": "markdown",
   "metadata": {},
   "source": [
    "## PCA visualization\n",
    "\n",
    "Visualize how the groups would separate without using the label. "
   ]
  },
  {
   "cell_type": "code",
   "execution_count": 15,
   "metadata": {
    "collapsed": true
   },
   "outputs": [],
   "source": [
    "X = df_tpm3.loc[:,:'Zzz3']"
   ]
  },
  {
   "cell_type": "code",
   "execution_count": 16,
   "metadata": {
    "collapsed": true
   },
   "outputs": [],
   "source": [
    "# Run PCA, ignoring the label\n",
    "from sklearn.decomposition import PCA\n",
    "\n",
    "pca = PCA(n_components=2)\n",
    "pca.fit(X)\n",
    "X = pca.transform(X)\n",
    "# X1 = pca.fit(X).transform(X)"
   ]
  },
  {
   "cell_type": "code",
   "execution_count": 17,
   "metadata": {
    "code_folding": []
   },
   "outputs": [
    {
     "name": "stderr",
     "output_type": "stream",
     "text": [
      "/Users/lacar/anaconda/lib/python3.5/site-packages/pandas/core/indexing.py:357: SettingWithCopyWarning: \n",
      "A value is trying to be set on a copy of a slice from a DataFrame.\n",
      "Try using .loc[row_indexer,col_indexer] = value instead\n",
      "\n",
      "See the caveats in the documentation: http://pandas.pydata.org/pandas-docs/stable/indexing.html#indexing-view-versus-copy\n",
      "  self.obj[key] = _infer_fill_value(value)\n",
      "/Users/lacar/anaconda/lib/python3.5/site-packages/pandas/core/indexing.py:537: SettingWithCopyWarning: \n",
      "A value is trying to be set on a copy of a slice from a DataFrame.\n",
      "Try using .loc[row_indexer,col_indexer] = value instead\n",
      "\n",
      "See the caveats in the documentation: http://pandas.pydata.org/pandas-docs/stable/indexing.html#indexing-view-versus-copy\n",
      "  self.obj[item] = s\n"
     ]
    }
   ],
   "source": [
    "# Add PCA vectors to dataframe\n",
    "df_tpm3.loc[:,'PCAx'] = X[:,0]\n",
    "df_tpm3.loc[:,'PCAy'] = X[:,1]"
   ]
  },
  {
   "cell_type": "code",
   "execution_count": 18,
   "metadata": {},
   "outputs": [
    {
     "data": {
      "text/html": [
       "<div>\n",
       "<style scoped>\n",
       "    .dataframe tbody tr th:only-of-type {\n",
       "        vertical-align: middle;\n",
       "    }\n",
       "\n",
       "    .dataframe tbody tr th {\n",
       "        vertical-align: top;\n",
       "    }\n",
       "\n",
       "    .dataframe thead th {\n",
       "        text-align: right;\n",
       "    }\n",
       "</style>\n",
       "<table border=\"1\" class=\"dataframe\">\n",
       "  <thead>\n",
       "    <tr style=\"text-align: right;\">\n",
       "      <th></th>\n",
       "      <th>0610005C13Rik</th>\n",
       "      <th>0610007P14Rik</th>\n",
       "      <th>0610009B22Rik</th>\n",
       "      <th>0610009E02Rik</th>\n",
       "      <th>0610009L18Rik</th>\n",
       "      <th>0610009O20Rik</th>\n",
       "      <th>0610010F05Rik</th>\n",
       "      <th>0610010K14Rik</th>\n",
       "      <th>0610011F06Rik</th>\n",
       "      <th>0610012G03Rik</th>\n",
       "      <th>...</th>\n",
       "      <th>Zxda</th>\n",
       "      <th>Zxdb</th>\n",
       "      <th>Zxdc</th>\n",
       "      <th>Zyg11b</th>\n",
       "      <th>Zyx</th>\n",
       "      <th>Zzef1</th>\n",
       "      <th>Zzz3</th>\n",
       "      <th>fos_label</th>\n",
       "      <th>PCAx</th>\n",
       "      <th>PCAy</th>\n",
       "    </tr>\n",
       "  </thead>\n",
       "  <tbody>\n",
       "    <tr>\n",
       "      <th>nc_ui_ti_C10_141204</th>\n",
       "      <td>6.54</td>\n",
       "      <td>652.15</td>\n",
       "      <td>0.0</td>\n",
       "      <td>0.0</td>\n",
       "      <td>0.0</td>\n",
       "      <td>0.00</td>\n",
       "      <td>0.0</td>\n",
       "      <td>0.00</td>\n",
       "      <td>0.0</td>\n",
       "      <td>0.0</td>\n",
       "      <td>...</td>\n",
       "      <td>0.0</td>\n",
       "      <td>0.0</td>\n",
       "      <td>0.00</td>\n",
       "      <td>0.00</td>\n",
       "      <td>0.00</td>\n",
       "      <td>22.03</td>\n",
       "      <td>0.00</td>\n",
       "      <td>1</td>\n",
       "      <td>55265.247009</td>\n",
       "      <td>-2057.597830</td>\n",
       "    </tr>\n",
       "    <tr>\n",
       "      <th>nc_ui_ti_C12_141204</th>\n",
       "      <td>4.98</td>\n",
       "      <td>29.90</td>\n",
       "      <td>0.0</td>\n",
       "      <td>0.0</td>\n",
       "      <td>0.0</td>\n",
       "      <td>0.00</td>\n",
       "      <td>0.0</td>\n",
       "      <td>173.27</td>\n",
       "      <td>0.0</td>\n",
       "      <td>0.0</td>\n",
       "      <td>...</td>\n",
       "      <td>0.0</td>\n",
       "      <td>0.0</td>\n",
       "      <td>0.00</td>\n",
       "      <td>0.00</td>\n",
       "      <td>0.00</td>\n",
       "      <td>0.00</td>\n",
       "      <td>5.87</td>\n",
       "      <td>1</td>\n",
       "      <td>25373.311476</td>\n",
       "      <td>-2100.477988</td>\n",
       "    </tr>\n",
       "    <tr>\n",
       "      <th>nc_ui_ti_C7_141204</th>\n",
       "      <td>4.45</td>\n",
       "      <td>56.36</td>\n",
       "      <td>0.0</td>\n",
       "      <td>0.0</td>\n",
       "      <td>0.0</td>\n",
       "      <td>0.00</td>\n",
       "      <td>0.0</td>\n",
       "      <td>0.00</td>\n",
       "      <td>2.3</td>\n",
       "      <td>0.0</td>\n",
       "      <td>...</td>\n",
       "      <td>0.0</td>\n",
       "      <td>0.0</td>\n",
       "      <td>2.91</td>\n",
       "      <td>200.94</td>\n",
       "      <td>0.00</td>\n",
       "      <td>62.27</td>\n",
       "      <td>0.00</td>\n",
       "      <td>1</td>\n",
       "      <td>66632.262116</td>\n",
       "      <td>-1961.555875</td>\n",
       "    </tr>\n",
       "    <tr>\n",
       "      <th>nc_ui_ti_C8_141204</th>\n",
       "      <td>0.00</td>\n",
       "      <td>86.04</td>\n",
       "      <td>0.0</td>\n",
       "      <td>0.0</td>\n",
       "      <td>0.0</td>\n",
       "      <td>0.00</td>\n",
       "      <td>0.0</td>\n",
       "      <td>0.00</td>\n",
       "      <td>0.0</td>\n",
       "      <td>0.0</td>\n",
       "      <td>...</td>\n",
       "      <td>0.0</td>\n",
       "      <td>0.0</td>\n",
       "      <td>0.00</td>\n",
       "      <td>0.00</td>\n",
       "      <td>0.00</td>\n",
       "      <td>2.99</td>\n",
       "      <td>0.00</td>\n",
       "      <td>1</td>\n",
       "      <td>83235.237261</td>\n",
       "      <td>-1817.245181</td>\n",
       "    </tr>\n",
       "    <tr>\n",
       "      <th>nc_ui_ti_C9_141204</th>\n",
       "      <td>10.13</td>\n",
       "      <td>5.22</td>\n",
       "      <td>0.0</td>\n",
       "      <td>0.0</td>\n",
       "      <td>0.0</td>\n",
       "      <td>2.26</td>\n",
       "      <td>0.0</td>\n",
       "      <td>0.00</td>\n",
       "      <td>0.0</td>\n",
       "      <td>0.0</td>\n",
       "      <td>...</td>\n",
       "      <td>0.0</td>\n",
       "      <td>0.0</td>\n",
       "      <td>0.00</td>\n",
       "      <td>2.41</td>\n",
       "      <td>421.23</td>\n",
       "      <td>113.95</td>\n",
       "      <td>0.00</td>\n",
       "      <td>1</td>\n",
       "      <td>54599.738613</td>\n",
       "      <td>-681.069431</td>\n",
       "    </tr>\n",
       "  </tbody>\n",
       "</table>\n",
       "<p>5 rows × 24348 columns</p>\n",
       "</div>"
      ],
      "text/plain": [
       "                     0610005C13Rik  0610007P14Rik  0610009B22Rik  \\\n",
       "nc_ui_ti_C10_141204           6.54         652.15            0.0   \n",
       "nc_ui_ti_C12_141204           4.98          29.90            0.0   \n",
       "nc_ui_ti_C7_141204            4.45          56.36            0.0   \n",
       "nc_ui_ti_C8_141204            0.00          86.04            0.0   \n",
       "nc_ui_ti_C9_141204           10.13           5.22            0.0   \n",
       "\n",
       "                     0610009E02Rik  0610009L18Rik  0610009O20Rik  \\\n",
       "nc_ui_ti_C10_141204            0.0            0.0           0.00   \n",
       "nc_ui_ti_C12_141204            0.0            0.0           0.00   \n",
       "nc_ui_ti_C7_141204             0.0            0.0           0.00   \n",
       "nc_ui_ti_C8_141204             0.0            0.0           0.00   \n",
       "nc_ui_ti_C9_141204             0.0            0.0           2.26   \n",
       "\n",
       "                     0610010F05Rik  0610010K14Rik  0610011F06Rik  \\\n",
       "nc_ui_ti_C10_141204            0.0           0.00            0.0   \n",
       "nc_ui_ti_C12_141204            0.0         173.27            0.0   \n",
       "nc_ui_ti_C7_141204             0.0           0.00            2.3   \n",
       "nc_ui_ti_C8_141204             0.0           0.00            0.0   \n",
       "nc_ui_ti_C9_141204             0.0           0.00            0.0   \n",
       "\n",
       "                     0610012G03Rik     ...       Zxda  Zxdb  Zxdc  Zyg11b  \\\n",
       "nc_ui_ti_C10_141204            0.0     ...        0.0   0.0  0.00    0.00   \n",
       "nc_ui_ti_C12_141204            0.0     ...        0.0   0.0  0.00    0.00   \n",
       "nc_ui_ti_C7_141204             0.0     ...        0.0   0.0  2.91  200.94   \n",
       "nc_ui_ti_C8_141204             0.0     ...        0.0   0.0  0.00    0.00   \n",
       "nc_ui_ti_C9_141204             0.0     ...        0.0   0.0  0.00    2.41   \n",
       "\n",
       "                        Zyx   Zzef1  Zzz3  fos_label          PCAx  \\\n",
       "nc_ui_ti_C10_141204    0.00   22.03  0.00          1  55265.247009   \n",
       "nc_ui_ti_C12_141204    0.00    0.00  5.87          1  25373.311476   \n",
       "nc_ui_ti_C7_141204     0.00   62.27  0.00          1  66632.262116   \n",
       "nc_ui_ti_C8_141204     0.00    2.99  0.00          1  83235.237261   \n",
       "nc_ui_ti_C9_141204   421.23  113.95  0.00          1  54599.738613   \n",
       "\n",
       "                            PCAy  \n",
       "nc_ui_ti_C10_141204 -2057.597830  \n",
       "nc_ui_ti_C12_141204 -2100.477988  \n",
       "nc_ui_ti_C7_141204  -1961.555875  \n",
       "nc_ui_ti_C8_141204  -1817.245181  \n",
       "nc_ui_ti_C9_141204   -681.069431  \n",
       "\n",
       "[5 rows x 24348 columns]"
      ]
     },
     "execution_count": 18,
     "metadata": {},
     "output_type": "execute_result"
    }
   ],
   "source": [
    "df_tpm3.head()"
   ]
  },
  {
   "cell_type": "code",
   "execution_count": 19,
   "metadata": {},
   "outputs": [
    {
     "data": {
      "image/png": "[encoded data removed]",
      "text/plain": [
       "<matplotlib.figure.Figure at 0x12324ee80>"
      ]
     },
     "metadata": {},
     "output_type": "display_data"
    }
   ],
   "source": [
    "# PCA, colored by ethnicities\n",
    "f, ax1 = plt.subplots(1,1)\n",
    "cmap = 'bwr'\n",
    "\n",
    "points = ax1.scatter(df_tpm3['PCAx'], df_tpm3['PCAy'], c=df_tpm3['fos_label'], s=20, cmap=cmap)\n",
    "\n",
    "# plot formatting\n",
    "ax1.set(xlabel='')\n",
    "ax1.set_ylabel('')\n",
    "ax1.set_title('neurons clustered by FOS state', size=14)\n",
    "#ax1.set_ylim(-4000,0)\n",
    "#ax1.legend(loc=0, title='FOS state')\n",
    "    \n",
    "# figure properties\n",
    "sns.set(font='Franklin Gothic Book')\n",
    "ax1.tick_params(axis='both', which='both',length=0)   # remove tick marks\n",
    "sns.set_style(style='white')\n",
    "sns.despine(left=True, bottom=True, right=True)   #  remove frame\n"
   ]
  },
  {
   "cell_type": "markdown",
   "metadata": {},
   "source": [
    "Yikes, this is not the prettiest plot. I spent time figuring out if I had done something wrong, even going back to Andrew Ng's lecture on PCA. I eventually figured out that I forgot to transform the feature values so that they're not spread out across so many different scales. Log2 normalization is common in the single-cell field. It's also clear that there are some outliers here. I'll take care of both of these modifications in the next bit of code."
   ]
  },
  {
   "cell_type": "code",
   "execution_count": 20,
   "metadata": {
    "collapsed": true
   },
   "outputs": [],
   "source": [
    "# Filter the samples that are obvious outliers\n",
    "df_tpm4 = df_tpm3[df_tpm3['PCAy'] < 25000]"
   ]
  },
  {
   "cell_type": "code",
   "execution_count": 21,
   "metadata": {
    "collapsed": true
   },
   "outputs": [],
   "source": [
    "# Use new dataframe and log transform so features are not spread across different scales\n",
    "X = df_tpm4.loc[:,:'Zzz3']\n",
    "X = np.log2(X+1)  # the +1 is added to deal with the log transformation"
   ]
  },
  {
   "cell_type": "code",
   "execution_count": 22,
   "metadata": {
    "collapsed": true
   },
   "outputs": [],
   "source": [
    "# Run PCA again\n",
    "pca = PCA(n_components=2)\n",
    "pca.fit(X)\n",
    "X = pca.transform(X)"
   ]
  },
  {
   "cell_type": "code",
   "execution_count": 23,
   "metadata": {},
   "outputs": [
    {
     "name": "stderr",
     "output_type": "stream",
     "text": [
      "/Users/lacar/anaconda/lib/python3.5/site-packages/pandas/core/indexing.py:537: SettingWithCopyWarning: \n",
      "A value is trying to be set on a copy of a slice from a DataFrame.\n",
      "Try using .loc[row_indexer,col_indexer] = value instead\n",
      "\n",
      "See the caveats in the documentation: http://pandas.pydata.org/pandas-docs/stable/indexing.html#indexing-view-versus-copy\n",
      "  self.obj[item] = s\n"
     ]
    }
   ],
   "source": [
    "# Add new PCA vectors to dataframe\n",
    "df_tpm4.loc[:,'PCAx'] = X[:,0]\n",
    "df_tpm4.loc[:,'PCAy'] = X[:,1]"
   ]
  },
  {
   "cell_type": "code",
   "execution_count": 24,
   "metadata": {},
   "outputs": [
    {
     "data": {
      "text/plain": [
       "(80, 24348)"
      ]
     },
     "execution_count": 24,
     "metadata": {},
     "output_type": "execute_result"
    }
   ],
   "source": [
    "df_tpm4.shape"
   ]
  },
  {
   "cell_type": "code",
   "execution_count": 25,
   "metadata": {},
   "outputs": [
    {
     "data": {
      "image/png": "[encoded data removed]",
      "text/plain": [
       "<matplotlib.figure.Figure at 0x11ec17048>"
      ]
     },
     "metadata": {},
     "output_type": "display_data"
    }
   ],
   "source": [
    "# PCA, colored by FOS state\n",
    "\n",
    "f, ax1 = plt.subplots(1,1)\n",
    "cmap = 'bwr'\n",
    "\n",
    "points = ax1.scatter(df_tpm4['PCAx'], df_tpm4['PCAy'], c=df_tpm4['fos_label'], s=20, cmap=cmap)\n",
    "\n",
    "# plot formatting\n",
    "ax1.set(xlabel='')\n",
    "ax1.set_ylabel('')\n",
    "ax1.set_title('neurons, FOS+ (red), FOS- (blue)', size=14)\n",
    "\n",
    "# figure properties\n",
    "sns.set(font='Franklin Gothic Book')\n",
    "ax1.tick_params(axis='both', which='both',length=0)   # remove tick marks\n",
    "sns.set_style(style='white')\n",
    "sns.despine(left=True, bottom=True, right=True)   #  remove frame\n"
   ]
  },
  {
   "cell_type": "markdown",
   "metadata": {},
   "source": [
    "There we go. With the exception of a few FOS+ neurons, the groups separate quite nicely as we showed in the paper. The FOS+ neurons that are amongst the FOS- neurons are discussed further in our paper (we call them pseudo-FOS+ neurons), but for the purposes of this project, I will remove them from further analysis."
   ]
  },
  {
   "cell_type": "code",
   "execution_count": 26,
   "metadata": {
    "collapsed": true
   },
   "outputs": [],
   "source": [
    "# Filtered dataframe by removing pseudo-FOS+ neurons.\n",
    "mask = (df_tpm4['fos_label']==1) & (df_tpm4['PCAy'] < 0)\n",
    "df_tpm5 = df_tpm4[~mask]   # use ~ to get the inverse of what the mask is getting"
   ]
  },
  {
   "cell_type": "code",
   "execution_count": 27,
   "metadata": {},
   "outputs": [
    {
     "data": {
      "text/plain": [
       "fos_label\n",
       "0    43\n",
       "1    30\n",
       "Name: fos_label, dtype: int64"
      ]
     },
     "execution_count": 27,
     "metadata": {},
     "output_type": "execute_result"
    }
   ],
   "source": [
    "# Group sizes moving forward\n",
    "df_tpm5.groupby('fos_label')['fos_label'].count()"
   ]
  },
  {
   "cell_type": "code",
   "execution_count": 28,
   "metadata": {},
   "outputs": [
    {
     "data": {
      "text/plain": [
       "(73, 24348)"
      ]
     },
     "execution_count": 28,
     "metadata": {},
     "output_type": "execute_result"
    }
   ],
   "source": [
    "df_tpm5.shape"
   ]
  },
  {
   "cell_type": "code",
   "execution_count": 29,
   "metadata": {},
   "outputs": [
    {
     "data": {
      "text/html": [
       "<div>\n",
       "<style scoped>\n",
       "    .dataframe tbody tr th:only-of-type {\n",
       "        vertical-align: middle;\n",
       "    }\n",
       "\n",
       "    .dataframe tbody tr th {\n",
       "        vertical-align: top;\n",
       "    }\n",
       "\n",
       "    .dataframe thead th {\n",
       "        text-align: right;\n",
       "    }\n",
       "</style>\n",
       "<table border=\"1\" class=\"dataframe\">\n",
       "  <thead>\n",
       "    <tr style=\"text-align: right;\">\n",
       "      <th></th>\n",
       "      <th>0610005C13Rik</th>\n",
       "      <th>0610007P14Rik</th>\n",
       "      <th>0610009B22Rik</th>\n",
       "      <th>0610009E02Rik</th>\n",
       "      <th>0610009L18Rik</th>\n",
       "      <th>0610009O20Rik</th>\n",
       "      <th>0610010F05Rik</th>\n",
       "      <th>0610010K14Rik</th>\n",
       "      <th>0610011F06Rik</th>\n",
       "      <th>0610012G03Rik</th>\n",
       "      <th>...</th>\n",
       "      <th>Zxda</th>\n",
       "      <th>Zxdb</th>\n",
       "      <th>Zxdc</th>\n",
       "      <th>Zyg11b</th>\n",
       "      <th>Zyx</th>\n",
       "      <th>Zzef1</th>\n",
       "      <th>Zzz3</th>\n",
       "      <th>fos_label</th>\n",
       "      <th>PCAx</th>\n",
       "      <th>PCAy</th>\n",
       "    </tr>\n",
       "  </thead>\n",
       "  <tbody>\n",
       "    <tr>\n",
       "      <th>nc_ui_ti_C10_141204</th>\n",
       "      <td>6.54</td>\n",
       "      <td>652.15</td>\n",
       "      <td>0.0</td>\n",
       "      <td>0.0</td>\n",
       "      <td>0.0</td>\n",
       "      <td>0.00</td>\n",
       "      <td>0.0</td>\n",
       "      <td>0.00</td>\n",
       "      <td>0.0</td>\n",
       "      <td>0.0</td>\n",
       "      <td>...</td>\n",
       "      <td>0.0</td>\n",
       "      <td>0.0</td>\n",
       "      <td>0.00</td>\n",
       "      <td>0.00</td>\n",
       "      <td>0.00</td>\n",
       "      <td>22.03</td>\n",
       "      <td>0.00</td>\n",
       "      <td>1</td>\n",
       "      <td>-98.443404</td>\n",
       "      <td>35.573904</td>\n",
       "    </tr>\n",
       "    <tr>\n",
       "      <th>nc_ui_ti_C12_141204</th>\n",
       "      <td>4.98</td>\n",
       "      <td>29.90</td>\n",
       "      <td>0.0</td>\n",
       "      <td>0.0</td>\n",
       "      <td>0.0</td>\n",
       "      <td>0.00</td>\n",
       "      <td>0.0</td>\n",
       "      <td>173.27</td>\n",
       "      <td>0.0</td>\n",
       "      <td>0.0</td>\n",
       "      <td>...</td>\n",
       "      <td>0.0</td>\n",
       "      <td>0.0</td>\n",
       "      <td>0.00</td>\n",
       "      <td>0.00</td>\n",
       "      <td>0.00</td>\n",
       "      <td>0.00</td>\n",
       "      <td>5.87</td>\n",
       "      <td>1</td>\n",
       "      <td>-89.695337</td>\n",
       "      <td>58.957000</td>\n",
       "    </tr>\n",
       "    <tr>\n",
       "      <th>nc_ui_ti_C7_141204</th>\n",
       "      <td>4.45</td>\n",
       "      <td>56.36</td>\n",
       "      <td>0.0</td>\n",
       "      <td>0.0</td>\n",
       "      <td>0.0</td>\n",
       "      <td>0.00</td>\n",
       "      <td>0.0</td>\n",
       "      <td>0.00</td>\n",
       "      <td>2.3</td>\n",
       "      <td>0.0</td>\n",
       "      <td>...</td>\n",
       "      <td>0.0</td>\n",
       "      <td>0.0</td>\n",
       "      <td>2.91</td>\n",
       "      <td>200.94</td>\n",
       "      <td>0.00</td>\n",
       "      <td>62.27</td>\n",
       "      <td>0.00</td>\n",
       "      <td>1</td>\n",
       "      <td>-73.877361</td>\n",
       "      <td>53.059502</td>\n",
       "    </tr>\n",
       "    <tr>\n",
       "      <th>nc_ui_ti_C8_141204</th>\n",
       "      <td>0.00</td>\n",
       "      <td>86.04</td>\n",
       "      <td>0.0</td>\n",
       "      <td>0.0</td>\n",
       "      <td>0.0</td>\n",
       "      <td>0.00</td>\n",
       "      <td>0.0</td>\n",
       "      <td>0.00</td>\n",
       "      <td>0.0</td>\n",
       "      <td>0.0</td>\n",
       "      <td>...</td>\n",
       "      <td>0.0</td>\n",
       "      <td>0.0</td>\n",
       "      <td>0.00</td>\n",
       "      <td>0.00</td>\n",
       "      <td>0.00</td>\n",
       "      <td>2.99</td>\n",
       "      <td>0.00</td>\n",
       "      <td>1</td>\n",
       "      <td>-89.654077</td>\n",
       "      <td>44.035686</td>\n",
       "    </tr>\n",
       "    <tr>\n",
       "      <th>nc_ui_ti_C9_141204</th>\n",
       "      <td>10.13</td>\n",
       "      <td>5.22</td>\n",
       "      <td>0.0</td>\n",
       "      <td>0.0</td>\n",
       "      <td>0.0</td>\n",
       "      <td>2.26</td>\n",
       "      <td>0.0</td>\n",
       "      <td>0.00</td>\n",
       "      <td>0.0</td>\n",
       "      <td>0.0</td>\n",
       "      <td>...</td>\n",
       "      <td>0.0</td>\n",
       "      <td>0.0</td>\n",
       "      <td>0.00</td>\n",
       "      <td>2.41</td>\n",
       "      <td>421.23</td>\n",
       "      <td>113.95</td>\n",
       "      <td>0.00</td>\n",
       "      <td>1</td>\n",
       "      <td>-77.416770</td>\n",
       "      <td>33.563082</td>\n",
       "    </tr>\n",
       "  </tbody>\n",
       "</table>\n",
       "<p>5 rows × 24348 columns</p>\n",
       "</div>"
      ],
      "text/plain": [
       "                     0610005C13Rik  0610007P14Rik  0610009B22Rik  \\\n",
       "nc_ui_ti_C10_141204           6.54         652.15            0.0   \n",
       "nc_ui_ti_C12_141204           4.98          29.90            0.0   \n",
       "nc_ui_ti_C7_141204            4.45          56.36            0.0   \n",
       "nc_ui_ti_C8_141204            0.00          86.04            0.0   \n",
       "nc_ui_ti_C9_141204           10.13           5.22            0.0   \n",
       "\n",
       "                     0610009E02Rik  0610009L18Rik  0610009O20Rik  \\\n",
       "nc_ui_ti_C10_141204            0.0            0.0           0.00   \n",
       "nc_ui_ti_C12_141204            0.0            0.0           0.00   \n",
       "nc_ui_ti_C7_141204             0.0            0.0           0.00   \n",
       "nc_ui_ti_C8_141204             0.0            0.0           0.00   \n",
       "nc_ui_ti_C9_141204             0.0            0.0           2.26   \n",
       "\n",
       "                     0610010F05Rik  0610010K14Rik  0610011F06Rik  \\\n",
       "nc_ui_ti_C10_141204            0.0           0.00            0.0   \n",
       "nc_ui_ti_C12_141204            0.0         173.27            0.0   \n",
       "nc_ui_ti_C7_141204             0.0           0.00            2.3   \n",
       "nc_ui_ti_C8_141204             0.0           0.00            0.0   \n",
       "nc_ui_ti_C9_141204             0.0           0.00            0.0   \n",
       "\n",
       "                     0610012G03Rik    ...      Zxda  Zxdb  Zxdc  Zyg11b  \\\n",
       "nc_ui_ti_C10_141204            0.0    ...       0.0   0.0  0.00    0.00   \n",
       "nc_ui_ti_C12_141204            0.0    ...       0.0   0.0  0.00    0.00   \n",
       "nc_ui_ti_C7_141204             0.0    ...       0.0   0.0  2.91  200.94   \n",
       "nc_ui_ti_C8_141204             0.0    ...       0.0   0.0  0.00    0.00   \n",
       "nc_ui_ti_C9_141204             0.0    ...       0.0   0.0  0.00    2.41   \n",
       "\n",
       "                        Zyx   Zzef1  Zzz3  fos_label       PCAx       PCAy  \n",
       "nc_ui_ti_C10_141204    0.00   22.03  0.00          1 -98.443404  35.573904  \n",
       "nc_ui_ti_C12_141204    0.00    0.00  5.87          1 -89.695337  58.957000  \n",
       "nc_ui_ti_C7_141204     0.00   62.27  0.00          1 -73.877361  53.059502  \n",
       "nc_ui_ti_C8_141204     0.00    2.99  0.00          1 -89.654077  44.035686  \n",
       "nc_ui_ti_C9_141204   421.23  113.95  0.00          1 -77.416770  33.563082  \n",
       "\n",
       "[5 rows x 24348 columns]"
      ]
     },
     "execution_count": 29,
     "metadata": {},
     "output_type": "execute_result"
    }
   ],
   "source": [
    "df_tpm5.head()"
   ]
  },
  {
   "cell_type": "code",
   "execution_count": 30,
   "metadata": {},
   "outputs": [
    {
     "name": "stdout",
     "output_type": "stream",
     "text": [
      "Stored 'X' (DataFrame)\n"
     ]
    }
   ],
   "source": [
    "X = np.log2(df_tpm5.loc[:,:'Zzz3']+1)   # a matrix\n",
    "%store X"
   ]
  },
  {
   "cell_type": "code",
   "execution_count": 31,
   "metadata": {},
   "outputs": [
    {
     "name": "stdout",
     "output_type": "stream",
     "text": [
      "Stored 'y' (Series)\n"
     ]
    }
   ],
   "source": [
    "y = df_tpm5['fos_label']  # a vector\n",
    "%store y"
   ]
  },
  {
   "cell_type": "markdown",
   "metadata": {},
   "source": [
    "## Supervised machine learning"
   ]
  },
  {
   "cell_type": "markdown",
   "metadata": {},
   "source": [
    "What machine learning algorithm should I apply? This is a classification problem (FOS+ vs. FOS-) but this is also a situation where the number of *m* examples (73) is much, much smaller than the number of *n* features?  << n features (24345)?\n",
    "\n",
    "I reviewed my notes from the [Machine Learning course](https://www.coursera.org/learn/machine-learning) I completed and saw that logistic regression or support vector machines without a kernel (\"linear\") would be good options. Andrew Ng talks about this [here](https://youtu.be/FCUBwP-JTsA?t=867)."
   ]
  },
  {
   "cell_type": "code",
   "execution_count": 31,
   "metadata": {
    "collapsed": true
   },
   "outputs": [
    {
     "name": "stderr",
     "output_type": "stream",
     "text": [
      "/Users/lacar/anaconda/lib/python3.5/site-packages/sklearn/cross_validation.py:41: DeprecationWarning: This module was deprecated in version 0.18 in favor of the model_selection module into which all the refactored classes and functions are moved. Also note that the interface of the new CV iterators are different from that of this module. This module will be removed in 0.20.\n",
      "  \"This module will be removed in 0.20.\", DeprecationWarning)\n"
     ]
    }
   ],
   "source": [
    "from sklearn.linear_model import LogisticRegression\n",
    "from sklearn.model_selection import train_test_split\n",
    "from sklearn import metrics\n",
    "from sklearn.cross_validation import cross_val_score"
   ]
  },
  {
   "cell_type": "code",
   "execution_count": 32,
   "metadata": {
    "collapsed": true
   },
   "outputs": [],
   "source": [
    "# I didn't carry over the log2 normalization, so I'll do it again here.\n",
    "# Using X and y to refer to my feature set and label set, respectively\n",
    "\n",
    "X = np.log2(df_tpm5.loc[:,:'Zzz3']+1)   # a matrix\n",
    "y = df_tpm5['fos_label']  # a vector"
   ]
  },
  {
   "cell_type": "code",
   "execution_count": null,
   "metadata": {
    "collapsed": true
   },
   "outputs": [],
   "source": []
  },
  {
   "cell_type": "markdown",
   "metadata": {},
   "source": [
    "### Using all samples for training and testing\n",
    "\n",
    "This is a first pass at trying the data on this model."
   ]
  },
  {
   "cell_type": "code",
   "execution_count": 33,
   "metadata": {},
   "outputs": [
    {
     "data": {
      "text/plain": [
       "1.0"
      ]
     },
     "execution_count": 33,
     "metadata": {},
     "output_type": "execute_result"
    }
   ],
   "source": [
    "# Followed DataSchool example found online\n",
    "# (http://nbviewer.jupyter.org/gist/justmarkham/6d5c061ca5aee67c4316471f8c2ae976)\n",
    "\n",
    "# Instantiate a logistic regression model, and fit with X and y \n",
    "model = LogisticRegression()\n",
    "model = model.fit(X, y)\n",
    "\n",
    "# check the accuracy on the training set\n",
    "model.score(X, y)"
   ]
  },
  {
   "cell_type": "markdown",
   "metadata": {},
   "source": [
    "A perfect accuracy, which is awesome, but not entirely surprising for two reasons. We used all of the samples for both training and testing and we saw that PCA split these two groups pretty cleanly. Nevertheless, let's see how the model coefficients look."
   ]
  },
  {
   "cell_type": "code",
   "execution_count": 34,
   "metadata": {},
   "outputs": [
    {
     "data": {
      "text/html": [
       "<div>\n",
       "<style scoped>\n",
       "    .dataframe tbody tr th:only-of-type {\n",
       "        vertical-align: middle;\n",
       "    }\n",
       "\n",
       "    .dataframe tbody tr th {\n",
       "        vertical-align: top;\n",
       "    }\n",
       "\n",
       "    .dataframe thead th {\n",
       "        text-align: right;\n",
       "    }\n",
       "</style>\n",
       "<table border=\"1\" class=\"dataframe\">\n",
       "  <thead>\n",
       "    <tr style=\"text-align: right;\">\n",
       "      <th></th>\n",
       "      <th>gene</th>\n",
       "      <th>coef</th>\n",
       "    </tr>\n",
       "  </thead>\n",
       "  <tbody>\n",
       "    <tr>\n",
       "      <th>2020</th>\n",
       "      <td>Arc</td>\n",
       "      <td>0.012490</td>\n",
       "    </tr>\n",
       "    <tr>\n",
       "      <th>17392</th>\n",
       "      <td>Plk2</td>\n",
       "      <td>0.011933</td>\n",
       "    </tr>\n",
       "    <tr>\n",
       "      <th>1875</th>\n",
       "      <td>Ankrd33b</td>\n",
       "      <td>0.011126</td>\n",
       "    </tr>\n",
       "    <tr>\n",
       "      <th>16864</th>\n",
       "      <td>Pcdh8</td>\n",
       "      <td>0.010876</td>\n",
       "    </tr>\n",
       "    <tr>\n",
       "      <th>13538</th>\n",
       "      <td>Ifrd1</td>\n",
       "      <td>0.010867</td>\n",
       "    </tr>\n",
       "  </tbody>\n",
       "</table>\n",
       "</div>"
      ],
      "text/plain": [
       "           gene      coef\n",
       "2020        Arc  0.012490\n",
       "17392      Plk2  0.011933\n",
       "1875   Ankrd33b  0.011126\n",
       "16864     Pcdh8  0.010876\n",
       "13538     Ifrd1  0.010867"
      ]
     },
     "execution_count": 34,
     "metadata": {},
     "output_type": "execute_result"
    }
   ],
   "source": [
    "# Examining the model coefficients\n",
    "df_gene_model_coef = pd.DataFrame()\n",
    "df_gene_model_coef['gene'] = X.columns\n",
    "df_gene_model_coef['coef'] = np.transpose(model.coef_)\n",
    "df_gene_model_coef.sort_values(by='coef', ascending=False).head(5)"
   ]
  },
  {
   "cell_type": "markdown",
   "metadata": {
    "collapsed": true
   },
   "source": [
    "While the coefficients are not very high, the top gene is Arc, a immediate early gene known for being involved in activity. This is encouraging for our model since it matches what we predict and also what we've shown through differential expression, which is shown in the paper."
   ]
  },
  {
   "cell_type": "markdown",
   "metadata": {},
   "source": [
    "### Evaluation by splitting into training and validation sets"
   ]
  },
  {
   "cell_type": "code",
   "execution_count": 35,
   "metadata": {},
   "outputs": [
    {
     "data": {
      "text/plain": [
       "LogisticRegression(C=1.0, class_weight=None, dual=False, fit_intercept=True,\n",
       "          intercept_scaling=1, max_iter=100, multi_class='ovr', n_jobs=1,\n",
       "          penalty='l2', random_state=None, solver='liblinear', tol=0.0001,\n",
       "          verbose=0, warm_start=False)"
      ]
     },
     "execution_count": 35,
     "metadata": {},
     "output_type": "execute_result"
    }
   ],
   "source": [
    "# Split into train and test sets. I'll use a ratio of 60/40 of train/test.\n",
    "X_train, X_test, y_train, y_test = train_test_split(X, y, test_size=0.4, random_state=0)\n",
    "model2 = LogisticRegression()\n",
    "model2.fit(X_train, y_train)"
   ]
  },
  {
   "cell_type": "markdown",
   "metadata": {},
   "source": [
    "#### Sanity check by evaluating train and test samples and shape"
   ]
  },
  {
   "cell_type": "code",
   "execution_count": 36,
   "metadata": {
    "scrolled": true
   },
   "outputs": [
    {
     "data": {
      "text/html": [
       "<div>\n",
       "<style scoped>\n",
       "    .dataframe tbody tr th:only-of-type {\n",
       "        vertical-align: middle;\n",
       "    }\n",
       "\n",
       "    .dataframe tbody tr th {\n",
       "        vertical-align: top;\n",
       "    }\n",
       "\n",
       "    .dataframe thead th {\n",
       "        text-align: right;\n",
       "    }\n",
       "</style>\n",
       "<table border=\"1\" class=\"dataframe\">\n",
       "  <thead>\n",
       "    <tr style=\"text-align: right;\">\n",
       "      <th></th>\n",
       "      <th>0610005C13Rik</th>\n",
       "      <th>0610007P14Rik</th>\n",
       "      <th>0610009B22Rik</th>\n",
       "      <th>0610009E02Rik</th>\n",
       "      <th>0610009L18Rik</th>\n",
       "      <th>0610009O20Rik</th>\n",
       "      <th>0610010F05Rik</th>\n",
       "      <th>0610010K14Rik</th>\n",
       "      <th>0610011F06Rik</th>\n",
       "      <th>0610012G03Rik</th>\n",
       "      <th>...</th>\n",
       "      <th>Zw10</th>\n",
       "      <th>Zwilch</th>\n",
       "      <th>Zwint</th>\n",
       "      <th>Zxda</th>\n",
       "      <th>Zxdb</th>\n",
       "      <th>Zxdc</th>\n",
       "      <th>Zyg11b</th>\n",
       "      <th>Zyx</th>\n",
       "      <th>Zzef1</th>\n",
       "      <th>Zzz3</th>\n",
       "    </tr>\n",
       "  </thead>\n",
       "  <tbody>\n",
       "    <tr>\n",
       "      <th>nc_ux_tn_A6_141204</th>\n",
       "      <td>0.000000</td>\n",
       "      <td>0.000000</td>\n",
       "      <td>0.0</td>\n",
       "      <td>0.0</td>\n",
       "      <td>0.000000</td>\n",
       "      <td>0.000000</td>\n",
       "      <td>0.000000</td>\n",
       "      <td>9.227905</td>\n",
       "      <td>0.000000</td>\n",
       "      <td>0.000000</td>\n",
       "      <td>...</td>\n",
       "      <td>0.000000</td>\n",
       "      <td>0.000000</td>\n",
       "      <td>0.000000</td>\n",
       "      <td>0.0</td>\n",
       "      <td>0.0</td>\n",
       "      <td>6.257199</td>\n",
       "      <td>0.000000</td>\n",
       "      <td>0.000000</td>\n",
       "      <td>0.000000</td>\n",
       "      <td>6.616475</td>\n",
       "    </tr>\n",
       "    <tr>\n",
       "      <th>nc_ui_ti_C8_141204</th>\n",
       "      <td>0.000000</td>\n",
       "      <td>6.443607</td>\n",
       "      <td>0.0</td>\n",
       "      <td>0.0</td>\n",
       "      <td>0.000000</td>\n",
       "      <td>0.000000</td>\n",
       "      <td>0.000000</td>\n",
       "      <td>0.000000</td>\n",
       "      <td>0.000000</td>\n",
       "      <td>0.000000</td>\n",
       "      <td>...</td>\n",
       "      <td>0.000000</td>\n",
       "      <td>0.000000</td>\n",
       "      <td>0.000000</td>\n",
       "      <td>0.0</td>\n",
       "      <td>0.0</td>\n",
       "      <td>0.000000</td>\n",
       "      <td>0.000000</td>\n",
       "      <td>0.000000</td>\n",
       "      <td>1.996389</td>\n",
       "      <td>0.000000</td>\n",
       "    </tr>\n",
       "    <tr>\n",
       "      <th>nm_ux_ti_F12_141204</th>\n",
       "      <td>3.693766</td>\n",
       "      <td>4.218781</td>\n",
       "      <td>0.0</td>\n",
       "      <td>0.0</td>\n",
       "      <td>0.000000</td>\n",
       "      <td>0.000000</td>\n",
       "      <td>0.000000</td>\n",
       "      <td>0.000000</td>\n",
       "      <td>0.000000</td>\n",
       "      <td>0.000000</td>\n",
       "      <td>...</td>\n",
       "      <td>0.000000</td>\n",
       "      <td>0.000000</td>\n",
       "      <td>10.052269</td>\n",
       "      <td>0.0</td>\n",
       "      <td>0.0</td>\n",
       "      <td>0.000000</td>\n",
       "      <td>1.847997</td>\n",
       "      <td>0.000000</td>\n",
       "      <td>3.344828</td>\n",
       "      <td>0.000000</td>\n",
       "    </tr>\n",
       "    <tr>\n",
       "      <th>nc_ui_tn_C1_141204</th>\n",
       "      <td>0.000000</td>\n",
       "      <td>9.720073</td>\n",
       "      <td>0.0</td>\n",
       "      <td>0.0</td>\n",
       "      <td>0.000000</td>\n",
       "      <td>0.000000</td>\n",
       "      <td>0.000000</td>\n",
       "      <td>0.000000</td>\n",
       "      <td>3.705978</td>\n",
       "      <td>0.000000</td>\n",
       "      <td>...</td>\n",
       "      <td>0.000000</td>\n",
       "      <td>0.000000</td>\n",
       "      <td>0.000000</td>\n",
       "      <td>0.0</td>\n",
       "      <td>0.0</td>\n",
       "      <td>0.000000</td>\n",
       "      <td>0.000000</td>\n",
       "      <td>7.086189</td>\n",
       "      <td>3.379898</td>\n",
       "      <td>0.000000</td>\n",
       "    </tr>\n",
       "    <tr>\n",
       "      <th>nc_ux_tn_B1_141204</th>\n",
       "      <td>0.000000</td>\n",
       "      <td>8.137811</td>\n",
       "      <td>0.0</td>\n",
       "      <td>0.0</td>\n",
       "      <td>9.276031</td>\n",
       "      <td>6.100978</td>\n",
       "      <td>0.000000</td>\n",
       "      <td>0.000000</td>\n",
       "      <td>0.000000</td>\n",
       "      <td>0.000000</td>\n",
       "      <td>...</td>\n",
       "      <td>3.906891</td>\n",
       "      <td>0.000000</td>\n",
       "      <td>0.000000</td>\n",
       "      <td>0.0</td>\n",
       "      <td>0.0</td>\n",
       "      <td>0.000000</td>\n",
       "      <td>5.612058</td>\n",
       "      <td>0.000000</td>\n",
       "      <td>7.188440</td>\n",
       "      <td>0.000000</td>\n",
       "    </tr>\n",
       "    <tr>\n",
       "      <th>nm_ux_ti_F9_141204</th>\n",
       "      <td>1.169925</td>\n",
       "      <td>3.865919</td>\n",
       "      <td>0.0</td>\n",
       "      <td>0.0</td>\n",
       "      <td>0.000000</td>\n",
       "      <td>6.123708</td>\n",
       "      <td>0.000000</td>\n",
       "      <td>0.000000</td>\n",
       "      <td>0.000000</td>\n",
       "      <td>0.000000</td>\n",
       "      <td>...</td>\n",
       "      <td>0.000000</td>\n",
       "      <td>0.000000</td>\n",
       "      <td>8.506367</td>\n",
       "      <td>0.0</td>\n",
       "      <td>0.0</td>\n",
       "      <td>0.000000</td>\n",
       "      <td>4.922198</td>\n",
       "      <td>0.992768</td>\n",
       "      <td>4.292782</td>\n",
       "      <td>0.000000</td>\n",
       "    </tr>\n",
       "    <tr>\n",
       "      <th>nm_ui_tn_H5_141204</th>\n",
       "      <td>3.580145</td>\n",
       "      <td>9.489045</td>\n",
       "      <td>0.0</td>\n",
       "      <td>0.0</td>\n",
       "      <td>0.000000</td>\n",
       "      <td>0.000000</td>\n",
       "      <td>0.000000</td>\n",
       "      <td>0.000000</td>\n",
       "      <td>2.070389</td>\n",
       "      <td>0.000000</td>\n",
       "      <td>...</td>\n",
       "      <td>0.000000</td>\n",
       "      <td>0.000000</td>\n",
       "      <td>9.886215</td>\n",
       "      <td>0.0</td>\n",
       "      <td>0.0</td>\n",
       "      <td>0.000000</td>\n",
       "      <td>0.000000</td>\n",
       "      <td>0.000000</td>\n",
       "      <td>6.649759</td>\n",
       "      <td>0.000000</td>\n",
       "    </tr>\n",
       "    <tr>\n",
       "      <th>nm_ux_tn_E1_141204</th>\n",
       "      <td>2.160275</td>\n",
       "      <td>5.434962</td>\n",
       "      <td>0.0</td>\n",
       "      <td>0.0</td>\n",
       "      <td>0.000000</td>\n",
       "      <td>0.000000</td>\n",
       "      <td>4.426936</td>\n",
       "      <td>0.000000</td>\n",
       "      <td>3.240314</td>\n",
       "      <td>8.639702</td>\n",
       "      <td>...</td>\n",
       "      <td>6.805163</td>\n",
       "      <td>0.000000</td>\n",
       "      <td>7.471756</td>\n",
       "      <td>0.0</td>\n",
       "      <td>0.0</td>\n",
       "      <td>0.000000</td>\n",
       "      <td>2.912650</td>\n",
       "      <td>0.000000</td>\n",
       "      <td>5.597829</td>\n",
       "      <td>7.555816</td>\n",
       "    </tr>\n",
       "    <tr>\n",
       "      <th>nc_ux_tn_B2_141204</th>\n",
       "      <td>0.000000</td>\n",
       "      <td>5.245648</td>\n",
       "      <td>0.0</td>\n",
       "      <td>0.0</td>\n",
       "      <td>0.000000</td>\n",
       "      <td>5.044831</td>\n",
       "      <td>0.000000</td>\n",
       "      <td>0.000000</td>\n",
       "      <td>1.985500</td>\n",
       "      <td>0.000000</td>\n",
       "      <td>...</td>\n",
       "      <td>0.000000</td>\n",
       "      <td>2.446256</td>\n",
       "      <td>9.375735</td>\n",
       "      <td>0.0</td>\n",
       "      <td>0.0</td>\n",
       "      <td>6.007196</td>\n",
       "      <td>5.561937</td>\n",
       "      <td>3.910733</td>\n",
       "      <td>3.897240</td>\n",
       "      <td>7.298017</td>\n",
       "    </tr>\n",
       "    <tr>\n",
       "      <th>nc_ui_tn_C6_141204</th>\n",
       "      <td>0.000000</td>\n",
       "      <td>5.305606</td>\n",
       "      <td>0.0</td>\n",
       "      <td>0.0</td>\n",
       "      <td>0.000000</td>\n",
       "      <td>3.711495</td>\n",
       "      <td>0.000000</td>\n",
       "      <td>0.000000</td>\n",
       "      <td>0.000000</td>\n",
       "      <td>0.000000</td>\n",
       "      <td>...</td>\n",
       "      <td>0.000000</td>\n",
       "      <td>11.446024</td>\n",
       "      <td>3.165108</td>\n",
       "      <td>0.0</td>\n",
       "      <td>0.0</td>\n",
       "      <td>0.000000</td>\n",
       "      <td>0.000000</td>\n",
       "      <td>0.000000</td>\n",
       "      <td>0.000000</td>\n",
       "      <td>0.000000</td>\n",
       "    </tr>\n",
       "  </tbody>\n",
       "</table>\n",
       "<p>10 rows × 24345 columns</p>\n",
       "</div>"
      ],
      "text/plain": [
       "                     0610005C13Rik  0610007P14Rik  0610009B22Rik  \\\n",
       "nc_ux_tn_A6_141204        0.000000       0.000000            0.0   \n",
       "nc_ui_ti_C8_141204        0.000000       6.443607            0.0   \n",
       "nm_ux_ti_F12_141204       3.693766       4.218781            0.0   \n",
       "nc_ui_tn_C1_141204        0.000000       9.720073            0.0   \n",
       "nc_ux_tn_B1_141204        0.000000       8.137811            0.0   \n",
       "nm_ux_ti_F9_141204        1.169925       3.865919            0.0   \n",
       "nm_ui_tn_H5_141204        3.580145       9.489045            0.0   \n",
       "nm_ux_tn_E1_141204        2.160275       5.434962            0.0   \n",
       "nc_ux_tn_B2_141204        0.000000       5.245648            0.0   \n",
       "nc_ui_tn_C6_141204        0.000000       5.305606            0.0   \n",
       "\n",
       "                     0610009E02Rik  0610009L18Rik  0610009O20Rik  \\\n",
       "nc_ux_tn_A6_141204             0.0       0.000000       0.000000   \n",
       "nc_ui_ti_C8_141204             0.0       0.000000       0.000000   \n",
       "nm_ux_ti_F12_141204            0.0       0.000000       0.000000   \n",
       "nc_ui_tn_C1_141204             0.0       0.000000       0.000000   \n",
       "nc_ux_tn_B1_141204             0.0       9.276031       6.100978   \n",
       "nm_ux_ti_F9_141204             0.0       0.000000       6.123708   \n",
       "nm_ui_tn_H5_141204             0.0       0.000000       0.000000   \n",
       "nm_ux_tn_E1_141204             0.0       0.000000       0.000000   \n",
       "nc_ux_tn_B2_141204             0.0       0.000000       5.044831   \n",
       "nc_ui_tn_C6_141204             0.0       0.000000       3.711495   \n",
       "\n",
       "                     0610010F05Rik  0610010K14Rik  0610011F06Rik  \\\n",
       "nc_ux_tn_A6_141204        0.000000       9.227905       0.000000   \n",
       "nc_ui_ti_C8_141204        0.000000       0.000000       0.000000   \n",
       "nm_ux_ti_F12_141204       0.000000       0.000000       0.000000   \n",
       "nc_ui_tn_C1_141204        0.000000       0.000000       3.705978   \n",
       "nc_ux_tn_B1_141204        0.000000       0.000000       0.000000   \n",
       "nm_ux_ti_F9_141204        0.000000       0.000000       0.000000   \n",
       "nm_ui_tn_H5_141204        0.000000       0.000000       2.070389   \n",
       "nm_ux_tn_E1_141204        4.426936       0.000000       3.240314   \n",
       "nc_ux_tn_B2_141204        0.000000       0.000000       1.985500   \n",
       "nc_ui_tn_C6_141204        0.000000       0.000000       0.000000   \n",
       "\n",
       "                     0610012G03Rik    ...         Zw10     Zwilch      Zwint  \\\n",
       "nc_ux_tn_A6_141204        0.000000    ...     0.000000   0.000000   0.000000   \n",
       "nc_ui_ti_C8_141204        0.000000    ...     0.000000   0.000000   0.000000   \n",
       "nm_ux_ti_F12_141204       0.000000    ...     0.000000   0.000000  10.052269   \n",
       "nc_ui_tn_C1_141204        0.000000    ...     0.000000   0.000000   0.000000   \n",
       "nc_ux_tn_B1_141204        0.000000    ...     3.906891   0.000000   0.000000   \n",
       "nm_ux_ti_F9_141204        0.000000    ...     0.000000   0.000000   8.506367   \n",
       "nm_ui_tn_H5_141204        0.000000    ...     0.000000   0.000000   9.886215   \n",
       "nm_ux_tn_E1_141204        8.639702    ...     6.805163   0.000000   7.471756   \n",
       "nc_ux_tn_B2_141204        0.000000    ...     0.000000   2.446256   9.375735   \n",
       "nc_ui_tn_C6_141204        0.000000    ...     0.000000  11.446024   3.165108   \n",
       "\n",
       "                     Zxda  Zxdb      Zxdc    Zyg11b       Zyx     Zzef1  \\\n",
       "nc_ux_tn_A6_141204    0.0   0.0  6.257199  0.000000  0.000000  0.000000   \n",
       "nc_ui_ti_C8_141204    0.0   0.0  0.000000  0.000000  0.000000  1.996389   \n",
       "nm_ux_ti_F12_141204   0.0   0.0  0.000000  1.847997  0.000000  3.344828   \n",
       "nc_ui_tn_C1_141204    0.0   0.0  0.000000  0.000000  7.086189  3.379898   \n",
       "nc_ux_tn_B1_141204    0.0   0.0  0.000000  5.612058  0.000000  7.188440   \n",
       "nm_ux_ti_F9_141204    0.0   0.0  0.000000  4.922198  0.992768  4.292782   \n",
       "nm_ui_tn_H5_141204    0.0   0.0  0.000000  0.000000  0.000000  6.649759   \n",
       "nm_ux_tn_E1_141204    0.0   0.0  0.000000  2.912650  0.000000  5.597829   \n",
       "nc_ux_tn_B2_141204    0.0   0.0  6.007196  5.561937  3.910733  3.897240   \n",
       "nc_ui_tn_C6_141204    0.0   0.0  0.000000  0.000000  0.000000  0.000000   \n",
       "\n",
       "                         Zzz3  \n",
       "nc_ux_tn_A6_141204   6.616475  \n",
       "nc_ui_ti_C8_141204   0.000000  \n",
       "nm_ux_ti_F12_141204  0.000000  \n",
       "nc_ui_tn_C1_141204   0.000000  \n",
       "nc_ux_tn_B1_141204   0.000000  \n",
       "nm_ux_ti_F9_141204   0.000000  \n",
       "nm_ui_tn_H5_141204   0.000000  \n",
       "nm_ux_tn_E1_141204   7.555816  \n",
       "nc_ux_tn_B2_141204   7.298017  \n",
       "nc_ui_tn_C6_141204   0.000000  \n",
       "\n",
       "[10 rows x 24345 columns]"
      ]
     },
     "execution_count": 36,
     "metadata": {},
     "output_type": "execute_result"
    }
   ],
   "source": [
    "X_train.head(10)"
   ]
  },
  {
   "cell_type": "code",
   "execution_count": 37,
   "metadata": {
    "scrolled": true
   },
   "outputs": [
    {
     "name": "stdout",
     "output_type": "stream",
     "text": [
      "training set shape:  (43, 24345) test set shape:  (30, 24345)\n"
     ]
    }
   ],
   "source": [
    "print('training set shape: ', X_train.shape, 'test set shape: ', X_test.shape)"
   ]
  },
  {
   "cell_type": "markdown",
   "metadata": {},
   "source": [
    "#### Run predictions!"
   ]
  },
  {
   "cell_type": "code",
   "execution_count": 38,
   "metadata": {},
   "outputs": [
    {
     "name": "stdout",
     "output_type": "stream",
     "text": [
      "[0 1 1 0 0 0 0 0 0 0 1 1 1 1 0 0 0 0 1 0 1 0 0 1 1 0 1 0 0 0]\n"
     ]
    }
   ],
   "source": [
    "# Predict fos labels for the test set\n",
    "predicted = model2.predict(X_test)\n",
    "print(predicted)"
   ]
  },
  {
   "cell_type": "code",
   "execution_count": 39,
   "metadata": {},
   "outputs": [
    {
     "data": {
      "text/plain": [
       "array([[  9.79129870e-01,   2.08701297e-02],\n",
       "       [  9.27710561e-04,   9.99072289e-01],\n",
       "       [  2.52824449e-03,   9.97471756e-01],\n",
       "       [  9.90136982e-01,   9.86301831e-03],\n",
       "       [  9.94536631e-01,   5.46336891e-03],\n",
       "       [  9.96892526e-01,   3.10747429e-03],\n",
       "       [  9.96896054e-01,   3.10394595e-03],\n",
       "       [  9.93028840e-01,   6.97116028e-03],\n",
       "       [  9.98386314e-01,   1.61368561e-03],\n",
       "       [  8.44309409e-01,   1.55690591e-01],\n",
       "       [  4.00968687e-03,   9.95990313e-01],\n",
       "       [  6.90008585e-03,   9.93099914e-01],\n",
       "       [  7.28804895e-03,   9.92711951e-01],\n",
       "       [  1.54732724e-03,   9.98452673e-01],\n",
       "       [  9.90972984e-01,   9.02701592e-03],\n",
       "       [  9.96487663e-01,   3.51233658e-03],\n",
       "       [  9.97721457e-01,   2.27854258e-03],\n",
       "       [  9.95794236e-01,   4.20576436e-03],\n",
       "       [  7.64663538e-04,   9.99235336e-01],\n",
       "       [  9.35144305e-01,   6.48556948e-02],\n",
       "       [  3.57385183e-02,   9.64261482e-01],\n",
       "       [  7.93948287e-01,   2.06051713e-01],\n",
       "       [  9.79677545e-01,   2.03224554e-02],\n",
       "       [  2.55274797e-02,   9.74472520e-01],\n",
       "       [  6.76726234e-03,   9.93232738e-01],\n",
       "       [  9.96743892e-01,   3.25610777e-03],\n",
       "       [  7.75563327e-03,   9.92244367e-01],\n",
       "       [  9.97680715e-01,   2.31928534e-03],\n",
       "       [  9.92873225e-01,   7.12677514e-03],\n",
       "       [  9.83361760e-01,   1.66382404e-02]])"
      ]
     },
     "execution_count": 39,
     "metadata": {},
     "output_type": "execute_result"
    }
   ],
   "source": [
    "# generate class probabilities\n",
    "probs = model2.predict_proba(X_test)\n",
    "probs"
   ]
  },
  {
   "cell_type": "code",
   "execution_count": 40,
   "metadata": {
    "scrolled": true
   },
   "outputs": [
    {
     "name": "stdout",
     "output_type": "stream",
     "text": [
      "Accuracy score:  0.966666666667\n",
      "ROC AUC:  0.99537037037\n"
     ]
    }
   ],
   "source": [
    "# generate evaluation metrics\n",
    "print('Accuracy score: ', metrics.accuracy_score(y_test, predicted))\n",
    "print('ROC AUC: ', metrics.roc_auc_score(y_test, probs[:, 1]))"
   ]
  },
  {
   "cell_type": "code",
   "execution_count": 41,
   "metadata": {},
   "outputs": [
    {
     "data": {
      "text/plain": [
       "array([[11,  1],\n",
       "       [ 0, 18]])"
      ]
     },
     "execution_count": 41,
     "metadata": {},
     "output_type": "execute_result"
    }
   ],
   "source": [
    "metrics.confusion_matrix(y_test, predicted, labels=[1, 0])"
   ]
  },
  {
   "cell_type": "code",
   "execution_count": 42,
   "metadata": {
    "scrolled": false
   },
   "outputs": [
    {
     "name": "stdout",
     "output_type": "stream",
     "text": [
      "Confusion matrix: \n",
      " TP FN\n",
      " FP TN\n",
      " [[11  1]\n",
      " [ 0 18]]\n"
     ]
    }
   ],
   "source": [
    "print('Confusion matrix: \\n',\n",
    "      'TP', 'FN\\n', 'FP', 'TN\\n',\n",
    "      metrics.confusion_matrix(y_test, predicted, labels=[1, 0]))"
   ]
  },
  {
   "cell_type": "code",
   "execution_count": 43,
   "metadata": {},
   "outputs": [
    {
     "name": "stdout",
     "output_type": "stream",
     "text": [
      "             precision    recall  f1-score   support\n",
      "\n",
      "          0       0.95      1.00      0.97        18\n",
      "          1       1.00      0.92      0.96        12\n",
      "\n",
      "avg / total       0.97      0.97      0.97        30\n",
      "\n"
     ]
    }
   ],
   "source": [
    "print(metrics.classification_report(y_test, predicted))"
   ]
  },
  {
   "cell_type": "markdown",
   "metadata": {},
   "source": [
    "Therefore, all 18 FOS- neurons were predicted correctly while 11 of the 12 FOS+ neurons were predicted correctly. You can see the actual sample that was missed in the table below."
   ]
  },
  {
   "cell_type": "code",
   "execution_count": 44,
   "metadata": {},
   "outputs": [
    {
     "data": {
      "text/html": [
       "<div>\n",
       "<style scoped>\n",
       "    .dataframe tbody tr th:only-of-type {\n",
       "        vertical-align: middle;\n",
       "    }\n",
       "\n",
       "    .dataframe tbody tr th {\n",
       "        vertical-align: top;\n",
       "    }\n",
       "\n",
       "    .dataframe thead th {\n",
       "        text-align: right;\n",
       "    }\n",
       "</style>\n",
       "<table border=\"1\" class=\"dataframe\">\n",
       "  <thead>\n",
       "    <tr style=\"text-align: right;\">\n",
       "      <th></th>\n",
       "      <th>actual</th>\n",
       "      <th>predicted</th>\n",
       "    </tr>\n",
       "  </thead>\n",
       "  <tbody>\n",
       "    <tr>\n",
       "      <th>nm_ui_tn_H3_141204</th>\n",
       "      <td>0</td>\n",
       "      <td>0</td>\n",
       "    </tr>\n",
       "    <tr>\n",
       "      <th>nm_ux_ti_E10_141204</th>\n",
       "      <td>1</td>\n",
       "      <td>1</td>\n",
       "    </tr>\n",
       "    <tr>\n",
       "      <th>nc_ux_ti_A7_141204</th>\n",
       "      <td>1</td>\n",
       "      <td>1</td>\n",
       "    </tr>\n",
       "    <tr>\n",
       "      <th>nm_ui_tn_G1_141204</th>\n",
       "      <td>0</td>\n",
       "      <td>0</td>\n",
       "    </tr>\n",
       "    <tr>\n",
       "      <th>nc_ux_tn_A4_141204</th>\n",
       "      <td>0</td>\n",
       "      <td>0</td>\n",
       "    </tr>\n",
       "    <tr>\n",
       "      <th>nc_ux_tn_A2_141204</th>\n",
       "      <td>0</td>\n",
       "      <td>0</td>\n",
       "    </tr>\n",
       "    <tr>\n",
       "      <th>nm_ux_tn_F4_141204</th>\n",
       "      <td>0</td>\n",
       "      <td>0</td>\n",
       "    </tr>\n",
       "    <tr>\n",
       "      <th>nm_ui_tn_H4_141204</th>\n",
       "      <td>0</td>\n",
       "      <td>0</td>\n",
       "    </tr>\n",
       "    <tr>\n",
       "      <th>nc_ux_tn_B4_141204</th>\n",
       "      <td>0</td>\n",
       "      <td>0</td>\n",
       "    </tr>\n",
       "    <tr>\n",
       "      <th>nc_ui_ti_D7_141204</th>\n",
       "      <td>1</td>\n",
       "      <td>0</td>\n",
       "    </tr>\n",
       "    <tr>\n",
       "      <th>nm_ui_ti_H7_141204</th>\n",
       "      <td>1</td>\n",
       "      <td>1</td>\n",
       "    </tr>\n",
       "    <tr>\n",
       "      <th>nm_ux_ti_E7_141204</th>\n",
       "      <td>1</td>\n",
       "      <td>1</td>\n",
       "    </tr>\n",
       "    <tr>\n",
       "      <th>nm_ui_ti_H10_141204</th>\n",
       "      <td>1</td>\n",
       "      <td>1</td>\n",
       "    </tr>\n",
       "    <tr>\n",
       "      <th>nm_ux_ti_F8_141204</th>\n",
       "      <td>1</td>\n",
       "      <td>1</td>\n",
       "    </tr>\n",
       "    <tr>\n",
       "      <th>nc_ux_tn_B3_141204</th>\n",
       "      <td>0</td>\n",
       "      <td>0</td>\n",
       "    </tr>\n",
       "    <tr>\n",
       "      <th>nm_ux_tn_E4_141204</th>\n",
       "      <td>0</td>\n",
       "      <td>0</td>\n",
       "    </tr>\n",
       "    <tr>\n",
       "      <th>nc_ux_tn_A3_141204</th>\n",
       "      <td>0</td>\n",
       "      <td>0</td>\n",
       "    </tr>\n",
       "    <tr>\n",
       "      <th>nm_ux_tn_F5_141204</th>\n",
       "      <td>0</td>\n",
       "      <td>0</td>\n",
       "    </tr>\n",
       "    <tr>\n",
       "      <th>nm_ux_ti_E8_141204</th>\n",
       "      <td>1</td>\n",
       "      <td>1</td>\n",
       "    </tr>\n",
       "    <tr>\n",
       "      <th>nm_ui_tn_H6_141204</th>\n",
       "      <td>0</td>\n",
       "      <td>0</td>\n",
       "    </tr>\n",
       "    <tr>\n",
       "      <th>nc_ui_ti_D12_141204</th>\n",
       "      <td>1</td>\n",
       "      <td>1</td>\n",
       "    </tr>\n",
       "    <tr>\n",
       "      <th>nm_ui_tn_H1_141204</th>\n",
       "      <td>0</td>\n",
       "      <td>0</td>\n",
       "    </tr>\n",
       "    <tr>\n",
       "      <th>nm_ux_tn_E6_141204</th>\n",
       "      <td>0</td>\n",
       "      <td>0</td>\n",
       "    </tr>\n",
       "    <tr>\n",
       "      <th>nc_ui_ti_C9_141204</th>\n",
       "      <td>1</td>\n",
       "      <td>1</td>\n",
       "    </tr>\n",
       "    <tr>\n",
       "      <th>nm_ux_ti_E12_141204</th>\n",
       "      <td>1</td>\n",
       "      <td>1</td>\n",
       "    </tr>\n",
       "    <tr>\n",
       "      <th>nm_ux_tn_E2_141204</th>\n",
       "      <td>0</td>\n",
       "      <td>0</td>\n",
       "    </tr>\n",
       "    <tr>\n",
       "      <th>nc_ui_ti_C7_141204</th>\n",
       "      <td>1</td>\n",
       "      <td>1</td>\n",
       "    </tr>\n",
       "    <tr>\n",
       "      <th>nm_ux_tn_F6_141204</th>\n",
       "      <td>0</td>\n",
       "      <td>0</td>\n",
       "    </tr>\n",
       "    <tr>\n",
       "      <th>nm_ui_tn_G3_141204</th>\n",
       "      <td>0</td>\n",
       "      <td>0</td>\n",
       "    </tr>\n",
       "    <tr>\n",
       "      <th>nc_ui_tn_C2_141204</th>\n",
       "      <td>0</td>\n",
       "      <td>0</td>\n",
       "    </tr>\n",
       "  </tbody>\n",
       "</table>\n",
       "</div>"
      ],
      "text/plain": [
       "                     actual  predicted\n",
       "nm_ui_tn_H3_141204        0          0\n",
       "nm_ux_ti_E10_141204       1          1\n",
       "nc_ux_ti_A7_141204        1          1\n",
       "nm_ui_tn_G1_141204        0          0\n",
       "nc_ux_tn_A4_141204        0          0\n",
       "nc_ux_tn_A2_141204        0          0\n",
       "nm_ux_tn_F4_141204        0          0\n",
       "nm_ui_tn_H4_141204        0          0\n",
       "nc_ux_tn_B4_141204        0          0\n",
       "nc_ui_ti_D7_141204        1          0\n",
       "nm_ui_ti_H7_141204        1          1\n",
       "nm_ux_ti_E7_141204        1          1\n",
       "nm_ui_ti_H10_141204       1          1\n",
       "nm_ux_ti_F8_141204        1          1\n",
       "nc_ux_tn_B3_141204        0          0\n",
       "nm_ux_tn_E4_141204        0          0\n",
       "nc_ux_tn_A3_141204        0          0\n",
       "nm_ux_tn_F5_141204        0          0\n",
       "nm_ux_ti_E8_141204        1          1\n",
       "nm_ui_tn_H6_141204        0          0\n",
       "nc_ui_ti_D12_141204       1          1\n",
       "nm_ui_tn_H1_141204        0          0\n",
       "nm_ux_tn_E6_141204        0          0\n",
       "nc_ui_ti_C9_141204        1          1\n",
       "nm_ux_ti_E12_141204       1          1\n",
       "nm_ux_tn_E2_141204        0          0\n",
       "nc_ui_ti_C7_141204        1          1\n",
       "nm_ux_tn_F6_141204        0          0\n",
       "nm_ui_tn_G3_141204        0          0\n",
       "nc_ui_tn_C2_141204        0          0"
      ]
     },
     "execution_count": 44,
     "metadata": {},
     "output_type": "execute_result"
    }
   ],
   "source": [
    "pd.DataFrame({'actual': y_test, 'predicted': predicted})"
   ]
  },
  {
   "cell_type": "markdown",
   "metadata": {},
   "source": [
    "## Summary"
   ]
  },
  {
   "cell_type": "markdown",
   "metadata": {},
   "source": [
    "The goal of this classification project was to determine if we could train an algorithm to predict cellular phenotype based on gene expression. Using a previously published dataset based on activated neurons, I establish proof-of-principle that this is possible. Application of logistic regression leads to an accuracy score of 96.7%, which was just one actual FOS+ neuron falsely called as FOS-. This is pretty good when looking at two different cellular states for this sample size. Possible next steps are to try a different classification algorithm (like SVM) to try and get perfect accuracy, scale up and do more samples, and/or do more cellular phenotypes. Ultimately, this approach has the potential to enhance the value of single-cell applications, by providing phenotypic information in experiments where it would difficult or impossible to experimentally assess."
   ]
  }
 ],
 "metadata": {
  "kernelspec": {
   "display_name": "Python 3",
   "language": "python",
   "name": "python3"
  },
  "language_info": {
   "codemirror_mode": {
    "name": "ipython",
    "version": 3
   },
   "file_extension": ".py",
   "mimetype": "text/x-python",
   "name": "python",
   "nbconvert_exporter": "python",
   "pygments_lexer": "ipython3",
   "version": "3.5.4"
  },
  "toc": {
   "nav_menu": {},
   "number_sections": true,
   "sideBar": true,
   "skip_h1_title": false,
   "toc_cell": false,
   "toc_position": {},
   "toc_section_display": "block",
   "toc_window_display": true
  },
  "varInspector": {
   "cols": {
    "lenName": 16,
    "lenType": 16,
    "lenVar": 40
   },
   "kernels_config": {
    "python": {
     "delete_cmd_postfix": "",
     "delete_cmd_prefix": "del ",
     "library": "var_list.py",
     "varRefreshCmd": "print(var_dic_list())"
    },
    "r": {
     "delete_cmd_postfix": ") ",
     "delete_cmd_prefix": "rm(",
     "library": "var_list.r",
     "varRefreshCmd": "cat(var_dic_list()) "
    }
   },
   "types_to_exclude": [
    "module",
    "function",
    "builtin_function_or_method",
    "instance",
    "_Feature"
   ],
   "window_display": false
  }
 },
 "nbformat": 4,
 "nbformat_minor": 1
}
